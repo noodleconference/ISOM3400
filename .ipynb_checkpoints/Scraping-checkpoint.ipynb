{
 "cells": [
  {
   "cell_type": "code",
   "execution_count": 1,
   "id": "7ae6540a",
   "metadata": {},
   "outputs": [],
   "source": [
    "from selenium import webdriver\n",
    "from bs4 import BeautifulSoup\n",
    "from selenium.webdriver.common.keys import Keys\n",
    "from selenium.webdriver import ActionChains\n",
    "from selenium.common.exceptions import NoSuchElementException\n",
    "import time\n",
    "import re\n",
    "\n",
    "import pandas as pd"
   ]
  },
  {
   "cell_type": "code",
   "execution_count": 158,
   "id": "092e39ea",
   "metadata": {},
   "outputs": [],
   "source": [
    "driver = webdriver.Chrome('/Users/Jacky/Downloads/chromedriver')\n",
    "#driver.get('https://www.openrice.com/en/hongkong/restaurants/district/causeway-bay?page=1')\n",
    "driver.get('https://www.openrice.com/en/hongkong/r-burgeroom-causeway-bay-american-hamburger-r189507')"
   ]
  },
  {
   "cell_type": "code",
   "execution_count": 161,
   "id": "4819538f",
   "metadata": {},
   "outputs": [],
   "source": [
    "browserbs_sample = BeautifulSoup(driver.page_source, 'lxml')"
   ]
  },
  {
   "cell_type": "code",
   "execution_count": 162,
   "id": "05b93c63",
   "metadata": {},
   "outputs": [
    {
     "name": "stdout",
     "output_type": "stream",
     "text": [
      "Taste\n",
      "40\n",
      "Decor\n",
      "40\n",
      "Service\n",
      "30\n",
      "Hygiene\n",
      "30\n",
      "Value\n",
      "30\n"
     ]
    }
   ],
   "source": [
    "for i in range(0,5):\n",
    "    element = str(browserbs_sample.find_all('div',{'class':'header-score-details-right-item'})[i])\n",
    "    text = str(browserbs_sample.find_all('div',{'class':'header-score-details-right-item'})[0].getText())\n",
    "    print(re.findall(r\">(.+)<\",element)[0])\n",
    "    print(re.findall(r\"rating([0-9][0-9])\",element)[0])"
   ]
  },
  {
   "cell_type": "code",
   "execution_count": 191,
   "id": "6ccea1ae",
   "metadata": {},
   "outputs": [
    {
     "name": "stdout",
     "output_type": "stream",
     "text": [
      "70\n"
     ]
    }
   ],
   "source": [
    "#number of seats\n",
    "text = str(browserbs_sample.find_all('div',{'id':'pois-filter-expandable-features'}))\n",
    "print(re.findall(r\"<div class=\\\"content\\\">([0-9]+)\",text)[0])\n",
    "\n"
   ]
  },
  {
   "cell_type": "code",
   "execution_count": 180,
   "id": "2491248c",
   "metadata": {},
   "outputs": [
    {
     "name": "stdout",
     "output_type": "stream",
     "text": [
      "\n",
      "Visa\n",
      "Master\n",
      "AlipayHK\n",
      "Alipay\n",
      "Cash\n",
      "Octopus\n",
      "UnionPay\n",
      "Apple Pay\n",
      "Google Pay\n",
      "\n"
     ]
    }
   ],
   "source": [
    "#payment methods\n",
    "for i in browserbs_sample.find_all('div',{'class':'comma-tags'}):\n",
    "    print(i.getText())"
   ]
  },
  {
   "cell_type": "code",
   "execution_count": 166,
   "id": "a2f5cf5d",
   "metadata": {},
   "outputs": [
    {
     "name": "stdout",
     "output_type": "stream",
     "text": [
      "\n",
      "\n",
      "Alcoholic Drinks\n",
      "\n",
      "\n",
      "\n",
      "May Bring Your Own Wine\n",
      "\n",
      "\n",
      "\n",
      "Cake-cutting\n",
      "\n",
      "\n",
      "\n",
      "Parking\n",
      "\n",
      "\n",
      "\n",
      "Delivery\n",
      "\n",
      "\n",
      "\n",
      "Outdoor Seating\n",
      "\n",
      "\n",
      "\n",
      "Spot payment\n",
      "\n"
     ]
    }
   ],
   "source": [
    "#Other info\n",
    "for i in browserbs_sample.find_all('div',{'class':'condition-item'}):\n",
    "    tick = str(i)\n",
    "    if re.findall(r\"lhs_(tick)_\",tick):\n",
    "        print(i.getText())\n",
    "\n",
    "\n",
    "//*[@id=\"pois-filter-expandable-features\"]/section[2]/div[2]\n"
   ]
  },
  {
   "cell_type": "code",
   "execution_count": 50,
   "id": "69ad234f",
   "metadata": {},
   "outputs": [
    {
     "name": "stdout",
     "output_type": "stream",
     "text": [
      "Causeway Bay\n",
      "Causeway Bay\n",
      "Causeway Bay\n",
      "Causeway Bay\n",
      "Causeway Bay\n",
      "Causeway Bay\n",
      "Causeway Bay\n",
      "Causeway Bay\n",
      "Causeway Bay\n",
      "Causeway Bay\n",
      "Causeway Bay\n",
      "Causeway Bay\n",
      "Causeway Bay\n",
      "Causeway Bay\n",
      "Causeway Bay\n",
      "Causeway Bay\n"
     ]
    }
   ],
   "source": [
    "#location\n",
    "for i in browserbs_sample.find_all('div',{'class':'icon-info address'}):\n",
    "    print(i.a.string)"
   ]
  },
  {
   "cell_type": "code",
   "execution_count": 49,
   "id": "e1f3fd14",
   "metadata": {},
   "outputs": [
    {
     "name": "stdout",
     "output_type": "stream",
     "text": [
      "['Guangdong', 'Hong Kong Style']\n",
      "['International', 'All Day Breakfast']\n",
      "['Korean', 'Korean Fried Chicken']\n",
      "['Western', 'Pizza']\n",
      "['Korean', 'Korean Fried Chicken']\n",
      "['Western', 'Steak House']\n",
      "['Korean', 'Ramen']\n",
      "['Japanese', 'Sushi/Sashimi']\n",
      "['Korean', 'Korean Fried Chicken']\n",
      "['Japanese']\n",
      "['Japanese', 'Seafood']\n",
      "['Hong Kong Style', 'Snack Shop & Deli']\n",
      "['American', 'Hamburger']\n",
      "['Japanese', 'Sushi/Sashimi']\n",
      "['Thai', 'Seafood']\n",
      "['Japanese', 'Sushi/Sashimi']\n"
     ]
    }
   ],
   "source": [
    "#food type \n",
    "for i in browserbs_sample.find_all('div',{'class':'icon-info icon-info-food-name'}):\n",
    "    food_type=[]\n",
    "    for li in i.findAll('li'):\n",
    "        food_type.append(li.string)\n",
    "    print(food_type)"
   ]
  },
  {
   "cell_type": "code",
   "execution_count": 12,
   "id": "29049333",
   "metadata": {},
   "outputs": [
    {
     "name": "stdout",
     "output_type": "stream",
     "text": [
      "Crab Fairy 蟹仙海鮮蒸碢大公館\n",
      "Mamaday\n",
      "Dodam Chicken (利舞臺廣場)\n",
      "Little Vegas\n",
      "Sodam Chicken\n",
      "The Grill Room (The L. Square)\n",
      "Kobekyu (Bartlock Centre) 吉列牛忌廉烏冬專門店 (百樂中心)\n",
      "Tsukiji Japanese Restaurant (Island Beverley) 築地日本料理 (金百利廣場)\n",
      "Bingo & Cook\n",
      "Toretore Hamayaki 漁獲浜燒\n",
      "Isono Suisan 磯野水產\n",
      "Hogology (Caroline Hill Road) 炊豕店 (加路連山道)\n",
      "Burgeroom (Fashion Walk)\n",
      "Xuan Sushi 玄鮨\n",
      "Milu Thai มิลู่ไทย\n",
      "Love Cafe 心之食堂\n"
     ]
    }
   ],
   "source": [
    "#Name\n",
    "for i in browserbs_sample.find_all('h2',{'class':'title-name'}):\n",
    "    print(i.a.string)\n"
   ]
  },
  {
   "cell_type": "code",
   "execution_count": 13,
   "id": "2eb3e85a",
   "metadata": {},
   "outputs": [
    {
     "name": "stdout",
     "output_type": "stream",
     "text": [
      "$201-400\n",
      "$101-200\n",
      "$101-200\n",
      "$101-200\n",
      "$101-200\n",
      "$201-400\n",
      "$101-200\n",
      "$101-200\n",
      "$101-200\n",
      "$201-400\n",
      "$201-400\n",
      "$51-100\n",
      "$101-200\n",
      "Above $801\n",
      "$101-200\n",
      "$201-400\n"
     ]
    }
   ],
   "source": [
    "#price\n",
    "for i in browserbs_sample.find_all('div',{'class':'icon-info icon-info-food-price'}):\n",
    "    print(i.span.string)\n"
   ]
  },
  {
   "cell_type": "code",
   "execution_count": 14,
   "id": "9d89b1bc",
   "metadata": {},
   "outputs": [
    {
     "name": "stdout",
     "output_type": "stream",
     "text": [
      "385\n",
      "57.2K\n",
      "43.1K\n",
      "44.9K\n",
      "58.4K\n",
      "62.3K\n",
      "23.2K\n",
      "14.1K\n",
      "35.2K\n",
      "36.5K\n",
      "18.4K\n",
      "39.4K\n",
      "49.6K\n",
      "11.2K\n",
      "22K\n",
      "24.5K\n"
     ]
    }
   ],
   "source": [
    "#bookmark\n",
    "for i in browserbs_sample.find_all('div',{'class':'text bookmarkedUserCount js-bookmark-count'}):\n",
    "    print(i.string)\n"
   ]
  },
  {
   "cell_type": "code",
   "execution_count": 15,
   "id": "6f78f3f5",
   "metadata": {},
   "outputs": [
    {
     "name": "stdout",
     "output_type": "stream",
     "text": [
      "863\n",
      "933\n",
      "943\n",
      "1035\n",
      "995\n",
      "763\n",
      "639\n",
      "1013\n",
      "881\n",
      "645\n",
      "652\n",
      "1188\n",
      "544\n",
      "657\n",
      "879\n"
     ]
    }
   ],
   "source": [
    "#happy face\n",
    "for i in browserbs_sample.find_all('span',{'class':'score score-big highlight'}):\n",
    "    print(i.string)\n",
    "\n"
   ]
  },
  {
   "cell_type": "code",
   "execution_count": 16,
   "id": "2735d455",
   "metadata": {},
   "outputs": [
    {
     "name": "stdout",
     "output_type": "stream",
     "text": [
      "9\n",
      "22\n",
      "38\n",
      "69\n",
      "49\n",
      "18\n",
      "18\n",
      "22\n",
      "8\n",
      "5\n",
      "32\n",
      "68\n",
      "4\n",
      "6\n",
      "43\n"
     ]
    }
   ],
   "source": [
    "#sad face\n",
    "for i in browserbs_sample.find_all('span',{'class':'score highlight'}):\n",
    "    print(i.string)\n",
    "\n"
   ]
  },
  {
   "cell_type": "code",
   "execution_count": null,
   "id": "609f2ec4",
   "metadata": {},
   "outputs": [],
   "source": []
  }
 ],
 "metadata": {
  "kernelspec": {
   "display_name": "Python 3",
   "language": "python",
   "name": "python3"
  },
  "language_info": {
   "codemirror_mode": {
    "name": "ipython",
    "version": 3
   },
   "file_extension": ".py",
   "mimetype": "text/x-python",
   "name": "python",
   "nbconvert_exporter": "python",
   "pygments_lexer": "ipython3",
   "version": "3.8.8"
  }
 },
 "nbformat": 4,
 "nbformat_minor": 5
}
