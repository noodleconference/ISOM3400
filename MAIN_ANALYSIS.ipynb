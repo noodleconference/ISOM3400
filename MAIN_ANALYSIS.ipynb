{
 "cells": [
  {
   "cell_type": "code",
   "execution_count": 1,
   "metadata": {},
   "outputs": [],
   "source": [
    "import pandas as pd\n",
    "import numpy as np\n",
    "from sklearn.preprocessing import OrdinalEncoder\n",
    "import matplotlib.pyplot as plt\n",
    "import seaborn as sns\n",
    "#df=pd.read_excel('restaurants.xlsx')"
   ]
  },
  {
   "cell_type": "code",
   "execution_count": 2,
   "metadata": {},
   "outputs": [],
   "source": [
    "#df = pd.read_excel('restaurant_info_6Districts_Ju.xlsx')\n",
    "df = pd.read_excel('FinalProject/REST_Analysis_JAPANESE.xlsx')"
   ]
  },
  {
   "cell_type": "code",
   "execution_count": 3,
   "metadata": {},
   "outputs": [],
   "source": [
    "pd.set_option('display.max_columns',40,'display.max_rows',40)"
   ]
  },
  {
   "cell_type": "code",
   "execution_count": 4,
   "metadata": {},
   "outputs": [
    {
     "data": {
      "text/html": [
       "<style>.container { width:95% !important; }</style>"
      ],
      "text/plain": [
       "<IPython.core.display.HTML object>"
      ]
     },
     "metadata": {},
     "output_type": "display_data"
    }
   ],
   "source": [
    "#fit notebook cell to browser\n",
    "from IPython.core.display import display, HTML\n",
    "display(HTML(\"<style>.container { width:95% !important; }</style>\"))"
   ]
  },
  {
   "cell_type": "markdown",
   "metadata": {},
   "source": [
    "<h1>DATA CLEAN"
   ]
  },
  {
   "cell_type": "markdown",
   "metadata": {},
   "source": [
    "<h3> Initial analysis"
   ]
  },
  {
   "cell_type": "code",
   "execution_count": 5,
   "metadata": {},
   "outputs": [],
   "source": [
    "#remove asia miles\n",
    "asia_miles_index = df[df['food_type'].str.contains(\"eligible transactions\")].index\n",
    "df= df.drop(asia_miles_index)\n",
    "df = df.reset_index()\n",
    "df = df.drop('index',axis=1)"
   ]
  },
  {
   "cell_type": "code",
   "execution_count": 6,
   "metadata": {},
   "outputs": [],
   "source": [
    "#drop duplicate entries with same name and location\n",
    "df.drop_duplicates(subset=['name', 'location'], keep='last',inplace = True)"
   ]
  },
  {
   "cell_type": "code",
   "execution_count": 7,
   "metadata": {},
   "outputs": [],
   "source": [
    "#change columns to float type\n",
    "df['happy'] = df['happy'].astype(float)\n",
    "df['sad'] = df['sad'].astype(float)\n",
    "df['bookmark'] = df['bookmark'].astype(float)"
   ]
  },
  {
   "cell_type": "code",
   "execution_count": 8,
   "metadata": {},
   "outputs": [],
   "source": [
    "#insert additional column of pure numeric prices\n",
    "df['price_int'] = df['price'].replace({\"Below $50\":25,\"$51-100\":75,\"$101-200\":150,\"$201-400\":300,\"$401-800\":600,\"Above $801\":1000})\n"
   ]
  },
  {
   "cell_type": "code",
   "execution_count": 9,
   "metadata": {},
   "outputs": [],
   "source": [
    "#define locations\n",
    "Places = ['Causeway Bay','Central',\"Yuen Long\",\"Tsuen Wan\",\"Tsim Sha Tsui\",\"Mong Kok\"]"
   ]
  },
  {
   "cell_type": "code",
   "execution_count": 10,
   "metadata": {},
   "outputs": [
    {
     "data": {
      "text/plain": [
       "(1340, 19)"
      ]
     },
     "execution_count": 10,
     "metadata": {},
     "output_type": "execute_result"
    }
   ],
   "source": [
    "#give location type a number\n",
    "location_model = OrdinalEncoder()\n",
    "test = pd.DataFrame(location_model.fit_transform(df[['location']]))\n",
    "\n",
    "df = pd.concat([df,test],axis=1,join='inner')\n",
    "df = df.rename(columns={0:\"location_int\"})\n",
    "df.shape"
   ]
  },
  {
   "cell_type": "code",
   "execution_count": 11,
   "metadata": {},
   "outputs": [],
   "source": [
    "#introduce happy vs sad column\n",
    "df['happy_vs_sad'] = df['happy']/df['sad']\n",
    "df['happy_vs_sad'] = np.where(df['happy_vs_sad'] == np.inf, df['happy'], df['happy_vs_sad'])\n"
   ]
  },
  {
   "cell_type": "code",
   "execution_count": 12,
   "metadata": {},
   "outputs": [],
   "source": [
    "#df only has Japanese food left\n",
    "df = df[df['food_type']==\"Japanese\"]"
   ]
  },
  {
   "cell_type": "code",
   "execution_count": 13,
   "metadata": {},
   "outputs": [],
   "source": [
    "#find number of payment and facilities\n",
    "df['num_payment'] = df['pay_list'].str.count(',')+1\n",
    "df['num_facility'] = df['other_facility'].str.count(',')+1"
   ]
  },
  {
   "cell_type": "code",
   "execution_count": 14,
   "metadata": {},
   "outputs": [],
   "source": [
    "#get list of payment methods\n",
    "df['payment_methods'] = df['pay_list'].str.split(',')\n",
    "df.reset_index(inplace=True, drop = True)"
   ]
  },
  {
   "cell_type": "code",
   "execution_count": 15,
   "metadata": {},
   "outputs": [],
   "source": [
    "#categorically split payment methods\n",
    "one_hot = pd.get_dummies(df['payment_methods'].apply(pd.Series).stack()).sum(level=0)\n",
    "df = df.merge(one_hot,how='outer',left_index = True, right_index=True)"
   ]
  },
  {
   "cell_type": "code",
   "execution_count": 16,
   "metadata": {},
   "outputs": [],
   "source": [
    "#ignore all payment methods who are not in more than 50% of restaurants\n",
    "arr_keep = ['name','price','food_type','location','other_facility','pay_list']\n",
    "for i,j in list((df.describe().iloc[1]>0.5).items()):\n",
    "    if j:\n",
    "        arr_keep.append(i)\n",
    "df = df[arr_keep]"
   ]
  },
  {
   "cell_type": "code",
   "execution_count": 17,
   "metadata": {},
   "outputs": [],
   "source": [
    "#group locations to their respective district\n",
    "def district(x):\n",
    "    if x == \"Causeway Bay\" or x == \"Central\":\n",
    "        return \"HK\"\n",
    "    if x == \"Yuen Long\" or x == \"Tsuen Wan\":\n",
    "        return \"NT\"\n",
    "    else:\n",
    "        return \"KL\"\n",
    "    \n",
    "df['location'] = df['location'].apply(lambda x: district(x))"
   ]
  },
  {
   "cell_type": "code",
   "execution_count": 18,
   "metadata": {},
   "outputs": [],
   "source": [
    "#filter only HK island for analysis\n",
    "df = df[df['location'] == \"HK\"]"
   ]
  },
  {
   "cell_type": "markdown",
   "metadata": {},
   "source": [
    "<h1>USEFUL VISUALIZATION TOOLS"
   ]
  },
  {
   "cell_type": "code",
   "execution_count": 19,
   "metadata": {},
   "outputs": [],
   "source": [
    "def bar_chart(column,x_axis = \"variables\",title = \"graph of X\",y_axis = \"number of X\"): #draws bar chart, input one array\n",
    "    x = column.value_counts(sort=False).index\n",
    "    y = column.value_counts(sort=False)\n",
    "\n",
    "    fig = plt.figure(figsize = (10, 5))\n",
    "\n",
    "    # creating the bar plot\n",
    "    plt.bar(x, y, color ='orange',\n",
    "            width = 0.4)\n",
    "\n",
    "    plt.xlabel(x_axis)\n",
    "    plt.ylabel(y_axis)\n",
    "    plt.title(title)\n",
    "    plt.show()"
   ]
  },
  {
   "cell_type": "code",
   "execution_count": 20,
   "metadata": {},
   "outputs": [],
   "source": [
    "def scatter_graph(x,y,title): #draws a scatter graph, input two arrays\n",
    "    m, b = np.polyfit(x, y, 1)\n",
    "    print(\"y intercept: \", b, \"slope: \",m)\n",
    "    plt.scatter(x, y, alpha=0.7)\n",
    "    try:\n",
    "        plt.plot(x, m*x + b)\n",
    "    except:\n",
    "        None\n",
    "        \n",
    "    try:\n",
    "        #plt.title(\"{} vs {}\".format(y.name, x.name))\n",
    "        plt.xlabel(x.name)\n",
    "        plt.ylabel(y.name)\n",
    "    except:\n",
    "        #plt.title(\"Title\")\n",
    "        plt.xlabel(\"X-Axis\")\n",
    "        plt.ylabel(\"Y-Axis\")\n",
    "    plt.title(title)\n",
    "    plt.show()\n",
    "    "
   ]
  },
  {
   "cell_type": "code",
   "execution_count": 36,
   "metadata": {},
   "outputs": [],
   "source": [
    "def scatter_graph_2(x,y,title,size ):\n",
    "    #draws a scatter graph with poly regression, input two arrays\n",
    "    p2 = np.polyfit(x, y, 3)\n",
    "    \n",
    "    plt.scatter(x, y, alpha=0.7)\n",
    "    \n",
    "    xp=np.linspace(0,size,200)\n",
    "    plt.plot(xp, np.polyval(p2,xp))\n",
    "   \n",
    "    try:\n",
    "        #plt.title(\"{} vs {}\".format(y.name, x.name))\n",
    "        plt.xlabel(x.name)\n",
    "        plt.ylabel(y.name)\n",
    "    except:\n",
    "        #plt.title(\"Title\")\n",
    "        plt.xlabel(\"X-Axis\")\n",
    "        plt.ylabel(\"Y-Axis\")\n",
    "    plt.title(title)\n",
    "    plt.show()\n",
    "    "
   ]
  },
  {
   "cell_type": "code",
   "execution_count": 22,
   "metadata": {},
   "outputs": [],
   "source": [
    "def find_average(df): #returns sad, happy, bookmark, price_int\n",
    "    print(\"Average sad is: \",df['sad'].mean())\n",
    "    print(\"Average happy is: \",df['happy'].mean())\n",
    "    print(\"Average bookmark is: \",df['bookmark'].mean())\n",
    "    print(\"Average price is: \",df['price_int'].mean())\n",
    "    print(\"------------------ \\n\")\n",
    "    return df['sad'].mean(),df['happy'].mean(),df['bookmark'].mean(),df['price_int'].mean()"
   ]
  },
  {
   "cell_type": "code",
   "execution_count": 23,
   "metadata": {},
   "outputs": [],
   "source": [
    "def scatter_matrix(df,columns = ['price','bookmark','happy','sad','happy_vs_sad'], dot_size = 30, fig_size = (20,20)):\n",
    "    visual = pd.plotting.scatter_matrix(df[columns],marker = 'o', s=dot_size,  figsize=fig_size)"
   ]
  },
  {
   "cell_type": "code",
   "execution_count": 24,
   "metadata": {},
   "outputs": [],
   "source": [
    "def color_scatter_matrix(df,food_or_loc,  columns = ['location_int','price_int','bookmark','happy','sad'], dot_size = 30, fig_size = (20,20)):\n",
    "     \n",
    "    if food_or_loc == 'food':\n",
    "        visual = pd.plotting.scatter_matrix(df[columns],marker = 'o', c=df['food_int'] , s=dot_size,  figsize=fig_size)\n",
    "        \n",
    "    \n",
    "    else: \n",
    "        visual = pd.plotting.scatter_matrix(df[columns],marker = 'o', c=df['location_int'] , s=dot_size,  figsize=fig_size)\n"
   ]
  },
  {
   "cell_type": "code",
   "execution_count": 25,
   "metadata": {},
   "outputs": [],
   "source": [
    "def legend(food_loc): #finds legend for color_scatter_matrix\n",
    "\n",
    "    if food_loc == 'food':\n",
    "        base_tags = pd.DataFrame(list(range(df['food_int'].nunique())))\n",
    "        plt.imshow([np.unique(df['food_int'])])\n",
    "        plt.xticks(ticks=np.unique(df['food_int']),labels=food_model.inverse_transform(base_tags))\n",
    "    else:\n",
    "        base_tags = pd.DataFrame(list(range(df['location_int'].nunique())))\n",
    "        plt.imshow([np.unique(df['location_int'])])\n",
    "        plt.xticks(ticks=np.unique(df['location_int']),labels=location_model.inverse_transform(base_tags))"
   ]
  },
  {
   "cell_type": "code",
   "execution_count": 26,
   "metadata": {},
   "outputs": [],
   "source": [
    "def density_graph(a,b,df):\n",
    "    sns.jointplot(a, b, \n",
    "              data=df, kind=\"kde\")\n",
    "    plt.show()\n",
    "    \n",
    "def scatter_bar(a,b,df):\n",
    "    sns.jointplot(a, b, \n",
    "              data=df, kind=\"reg\")\n",
    "    plt.show()"
   ]
  },
  {
   "cell_type": "code",
   "execution_count": 27,
   "metadata": {},
   "outputs": [],
   "source": [
    "def pair_plot(df,variable):\n",
    "    sns.pairplot(df, hue=variable, height=1.8)\n",
    "    \n",
    "    plt.show()"
   ]
  },
  {
   "cell_type": "markdown",
   "metadata": {},
   "source": [
    "<h1> Conduct Analysis"
   ]
  },
  {
   "cell_type": "markdown",
   "metadata": {},
   "source": [
    "## Additional options"
   ]
  },
  {
   "cell_type": "markdown",
   "metadata": {},
   "source": [
    "### Other Facilities"
   ]
  },
  {
   "cell_type": "code",
   "execution_count": 38,
   "metadata": {},
   "outputs": [
    {
     "data": {
      "text/html": [
       "<div>\n",
       "<style scoped>\n",
       "    .dataframe tbody tr th:only-of-type {\n",
       "        vertical-align: middle;\n",
       "    }\n",
       "\n",
       "    .dataframe tbody tr th {\n",
       "        vertical-align: top;\n",
       "    }\n",
       "\n",
       "    .dataframe thead th {\n",
       "        text-align: right;\n",
       "    }\n",
       "</style>\n",
       "<table border=\"1\" class=\"dataframe\">\n",
       "  <thead>\n",
       "    <tr style=\"text-align: right;\">\n",
       "      <th></th>\n",
       "      <th>bookmark</th>\n",
       "      <th>happy</th>\n",
       "      <th>taste</th>\n",
       "      <th>decor</th>\n",
       "      <th>service</th>\n",
       "      <th>hygiene</th>\n",
       "      <th>value</th>\n",
       "      <th>overall</th>\n",
       "      <th>happy_vs_sad</th>\n",
       "      <th>num_facility</th>\n",
       "      <th>10% Service Charge</th>\n",
       "      <th>Accessible Environment</th>\n",
       "      <th>Alcoholic Drinks</th>\n",
       "      <th>Cake-cutting</th>\n",
       "      <th>Delivery</th>\n",
       "      <th>Eco-Friendly</th>\n",
       "      <th>Exclusive Online Booking</th>\n",
       "      <th>May Bring Your Own Wine</th>\n",
       "      <th>Online Reservation</th>\n",
       "      <th>Open Till Late</th>\n",
       "      <th>Opens 24 Hours</th>\n",
       "      <th>Outdoor Seating</th>\n",
       "      <th>Parking</th>\n",
       "      <th>Phone Reservation</th>\n",
       "      <th>Restaurant Mode of Operation - Type B</th>\n",
       "      <th>Reward Dining Points</th>\n",
       "      <th>Spot payment</th>\n",
       "      <th>TV Broadcast</th>\n",
       "      <th>VIP Room</th>\n",
       "      <th>Vegetarian</th>\n",
       "      <th>Wi-Fi</th>\n",
       "    </tr>\n",
       "  </thead>\n",
       "  <tbody>\n",
       "    <tr>\n",
       "      <th>count</th>\n",
       "      <td>117.000000</td>\n",
       "      <td>117.000000</td>\n",
       "      <td>117.000000</td>\n",
       "      <td>117.000000</td>\n",
       "      <td>117.000000</td>\n",
       "      <td>117.000000</td>\n",
       "      <td>117.000000</td>\n",
       "      <td>117.000000</td>\n",
       "      <td>117.000000</td>\n",
       "      <td>111.000000</td>\n",
       "      <td>111.000000</td>\n",
       "      <td>111.000000</td>\n",
       "      <td>111.000000</td>\n",
       "      <td>111.000000</td>\n",
       "      <td>111.000000</td>\n",
       "      <td>111.000000</td>\n",
       "      <td>111.000000</td>\n",
       "      <td>111.000000</td>\n",
       "      <td>111.000000</td>\n",
       "      <td>111.000000</td>\n",
       "      <td>111.000000</td>\n",
       "      <td>111.000000</td>\n",
       "      <td>111.000000</td>\n",
       "      <td>111.000000</td>\n",
       "      <td>111.000000</td>\n",
       "      <td>111.000000</td>\n",
       "      <td>111.000000</td>\n",
       "      <td>111.000000</td>\n",
       "      <td>111.00000</td>\n",
       "      <td>111.000000</td>\n",
       "      <td>111.000000</td>\n",
       "    </tr>\n",
       "    <tr>\n",
       "      <th>mean</th>\n",
       "      <td>14415.188034</td>\n",
       "      <td>228.598291</td>\n",
       "      <td>3.863248</td>\n",
       "      <td>3.743590</td>\n",
       "      <td>3.692308</td>\n",
       "      <td>3.863248</td>\n",
       "      <td>3.264957</td>\n",
       "      <td>18.427350</td>\n",
       "      <td>44.033857</td>\n",
       "      <td>5.855856</td>\n",
       "      <td>0.891892</td>\n",
       "      <td>0.009009</td>\n",
       "      <td>0.747748</td>\n",
       "      <td>0.351351</td>\n",
       "      <td>0.396396</td>\n",
       "      <td>0.009009</td>\n",
       "      <td>0.027027</td>\n",
       "      <td>0.477477</td>\n",
       "      <td>0.495495</td>\n",
       "      <td>0.072072</td>\n",
       "      <td>0.009009</td>\n",
       "      <td>0.063063</td>\n",
       "      <td>0.099099</td>\n",
       "      <td>0.594595</td>\n",
       "      <td>0.036036</td>\n",
       "      <td>0.315315</td>\n",
       "      <td>0.576577</td>\n",
       "      <td>0.045045</td>\n",
       "      <td>0.18018</td>\n",
       "      <td>0.009009</td>\n",
       "      <td>0.450450</td>\n",
       "    </tr>\n",
       "    <tr>\n",
       "      <th>std</th>\n",
       "      <td>8701.468334</td>\n",
       "      <td>209.282974</td>\n",
       "      <td>0.345063</td>\n",
       "      <td>0.438529</td>\n",
       "      <td>0.463524</td>\n",
       "      <td>0.345063</td>\n",
       "      <td>0.480538</td>\n",
       "      <td>1.521774</td>\n",
       "      <td>54.008707</td>\n",
       "      <td>2.938295</td>\n",
       "      <td>0.311925</td>\n",
       "      <td>0.094916</td>\n",
       "      <td>0.436275</td>\n",
       "      <td>0.479558</td>\n",
       "      <td>0.491367</td>\n",
       "      <td>0.094916</td>\n",
       "      <td>0.162898</td>\n",
       "      <td>0.501758</td>\n",
       "      <td>0.502247</td>\n",
       "      <td>0.259780</td>\n",
       "      <td>0.094916</td>\n",
       "      <td>0.244179</td>\n",
       "      <td>0.300150</td>\n",
       "      <td>0.493197</td>\n",
       "      <td>0.187225</td>\n",
       "      <td>0.466749</td>\n",
       "      <td>0.496342</td>\n",
       "      <td>0.208344</td>\n",
       "      <td>0.38608</td>\n",
       "      <td>0.094916</td>\n",
       "      <td>0.499795</td>\n",
       "    </tr>\n",
       "    <tr>\n",
       "      <th>min</th>\n",
       "      <td>2129.000000</td>\n",
       "      <td>24.000000</td>\n",
       "      <td>3.000000</td>\n",
       "      <td>3.000000</td>\n",
       "      <td>3.000000</td>\n",
       "      <td>3.000000</td>\n",
       "      <td>2.000000</td>\n",
       "      <td>14.000000</td>\n",
       "      <td>3.750000</td>\n",
       "      <td>1.000000</td>\n",
       "      <td>0.000000</td>\n",
       "      <td>0.000000</td>\n",
       "      <td>0.000000</td>\n",
       "      <td>0.000000</td>\n",
       "      <td>0.000000</td>\n",
       "      <td>0.000000</td>\n",
       "      <td>0.000000</td>\n",
       "      <td>0.000000</td>\n",
       "      <td>0.000000</td>\n",
       "      <td>0.000000</td>\n",
       "      <td>0.000000</td>\n",
       "      <td>0.000000</td>\n",
       "      <td>0.000000</td>\n",
       "      <td>0.000000</td>\n",
       "      <td>0.000000</td>\n",
       "      <td>0.000000</td>\n",
       "      <td>0.000000</td>\n",
       "      <td>0.000000</td>\n",
       "      <td>0.00000</td>\n",
       "      <td>0.000000</td>\n",
       "      <td>0.000000</td>\n",
       "    </tr>\n",
       "    <tr>\n",
       "      <th>25%</th>\n",
       "      <td>8977.000000</td>\n",
       "      <td>76.000000</td>\n",
       "      <td>4.000000</td>\n",
       "      <td>3.000000</td>\n",
       "      <td>3.000000</td>\n",
       "      <td>4.000000</td>\n",
       "      <td>3.000000</td>\n",
       "      <td>17.000000</td>\n",
       "      <td>14.200000</td>\n",
       "      <td>4.000000</td>\n",
       "      <td>1.000000</td>\n",
       "      <td>0.000000</td>\n",
       "      <td>0.500000</td>\n",
       "      <td>0.000000</td>\n",
       "      <td>0.000000</td>\n",
       "      <td>0.000000</td>\n",
       "      <td>0.000000</td>\n",
       "      <td>0.000000</td>\n",
       "      <td>0.000000</td>\n",
       "      <td>0.000000</td>\n",
       "      <td>0.000000</td>\n",
       "      <td>0.000000</td>\n",
       "      <td>0.000000</td>\n",
       "      <td>0.000000</td>\n",
       "      <td>0.000000</td>\n",
       "      <td>0.000000</td>\n",
       "      <td>0.000000</td>\n",
       "      <td>0.000000</td>\n",
       "      <td>0.00000</td>\n",
       "      <td>0.000000</td>\n",
       "      <td>0.000000</td>\n",
       "    </tr>\n",
       "    <tr>\n",
       "      <th>50%</th>\n",
       "      <td>11815.000000</td>\n",
       "      <td>141.000000</td>\n",
       "      <td>4.000000</td>\n",
       "      <td>4.000000</td>\n",
       "      <td>4.000000</td>\n",
       "      <td>4.000000</td>\n",
       "      <td>3.000000</td>\n",
       "      <td>19.000000</td>\n",
       "      <td>26.000000</td>\n",
       "      <td>6.000000</td>\n",
       "      <td>1.000000</td>\n",
       "      <td>0.000000</td>\n",
       "      <td>1.000000</td>\n",
       "      <td>0.000000</td>\n",
       "      <td>0.000000</td>\n",
       "      <td>0.000000</td>\n",
       "      <td>0.000000</td>\n",
       "      <td>0.000000</td>\n",
       "      <td>0.000000</td>\n",
       "      <td>0.000000</td>\n",
       "      <td>0.000000</td>\n",
       "      <td>0.000000</td>\n",
       "      <td>0.000000</td>\n",
       "      <td>1.000000</td>\n",
       "      <td>0.000000</td>\n",
       "      <td>0.000000</td>\n",
       "      <td>1.000000</td>\n",
       "      <td>0.000000</td>\n",
       "      <td>0.00000</td>\n",
       "      <td>0.000000</td>\n",
       "      <td>0.000000</td>\n",
       "    </tr>\n",
       "    <tr>\n",
       "      <th>75%</th>\n",
       "      <td>18321.000000</td>\n",
       "      <td>328.000000</td>\n",
       "      <td>4.000000</td>\n",
       "      <td>4.000000</td>\n",
       "      <td>4.000000</td>\n",
       "      <td>4.000000</td>\n",
       "      <td>4.000000</td>\n",
       "      <td>19.000000</td>\n",
       "      <td>50.500000</td>\n",
       "      <td>8.000000</td>\n",
       "      <td>1.000000</td>\n",
       "      <td>0.000000</td>\n",
       "      <td>1.000000</td>\n",
       "      <td>1.000000</td>\n",
       "      <td>1.000000</td>\n",
       "      <td>0.000000</td>\n",
       "      <td>0.000000</td>\n",
       "      <td>1.000000</td>\n",
       "      <td>1.000000</td>\n",
       "      <td>0.000000</td>\n",
       "      <td>0.000000</td>\n",
       "      <td>0.000000</td>\n",
       "      <td>0.000000</td>\n",
       "      <td>1.000000</td>\n",
       "      <td>0.000000</td>\n",
       "      <td>1.000000</td>\n",
       "      <td>1.000000</td>\n",
       "      <td>0.000000</td>\n",
       "      <td>0.00000</td>\n",
       "      <td>0.000000</td>\n",
       "      <td>1.000000</td>\n",
       "    </tr>\n",
       "    <tr>\n",
       "      <th>max</th>\n",
       "      <td>45755.000000</td>\n",
       "      <td>1065.000000</td>\n",
       "      <td>4.000000</td>\n",
       "      <td>4.000000</td>\n",
       "      <td>4.000000</td>\n",
       "      <td>4.000000</td>\n",
       "      <td>4.000000</td>\n",
       "      <td>20.000000</td>\n",
       "      <td>348.000000</td>\n",
       "      <td>14.000000</td>\n",
       "      <td>1.000000</td>\n",
       "      <td>1.000000</td>\n",
       "      <td>1.000000</td>\n",
       "      <td>1.000000</td>\n",
       "      <td>1.000000</td>\n",
       "      <td>1.000000</td>\n",
       "      <td>1.000000</td>\n",
       "      <td>1.000000</td>\n",
       "      <td>1.000000</td>\n",
       "      <td>1.000000</td>\n",
       "      <td>1.000000</td>\n",
       "      <td>1.000000</td>\n",
       "      <td>1.000000</td>\n",
       "      <td>1.000000</td>\n",
       "      <td>1.000000</td>\n",
       "      <td>1.000000</td>\n",
       "      <td>1.000000</td>\n",
       "      <td>1.000000</td>\n",
       "      <td>1.00000</td>\n",
       "      <td>1.000000</td>\n",
       "      <td>1.000000</td>\n",
       "    </tr>\n",
       "  </tbody>\n",
       "</table>\n",
       "</div>"
      ],
      "text/plain": [
       "           bookmark        happy       taste       decor     service  \\\n",
       "count    117.000000   117.000000  117.000000  117.000000  117.000000   \n",
       "mean   14415.188034   228.598291    3.863248    3.743590    3.692308   \n",
       "std     8701.468334   209.282974    0.345063    0.438529    0.463524   \n",
       "min     2129.000000    24.000000    3.000000    3.000000    3.000000   \n",
       "25%     8977.000000    76.000000    4.000000    3.000000    3.000000   \n",
       "50%    11815.000000   141.000000    4.000000    4.000000    4.000000   \n",
       "75%    18321.000000   328.000000    4.000000    4.000000    4.000000   \n",
       "max    45755.000000  1065.000000    4.000000    4.000000    4.000000   \n",
       "\n",
       "          hygiene       value     overall  happy_vs_sad  num_facility  \\\n",
       "count  117.000000  117.000000  117.000000    117.000000    111.000000   \n",
       "mean     3.863248    3.264957   18.427350     44.033857      5.855856   \n",
       "std      0.345063    0.480538    1.521774     54.008707      2.938295   \n",
       "min      3.000000    2.000000   14.000000      3.750000      1.000000   \n",
       "25%      4.000000    3.000000   17.000000     14.200000      4.000000   \n",
       "50%      4.000000    3.000000   19.000000     26.000000      6.000000   \n",
       "75%      4.000000    4.000000   19.000000     50.500000      8.000000   \n",
       "max      4.000000    4.000000   20.000000    348.000000     14.000000   \n",
       "\n",
       "       10% Service Charge  Accessible Environment  Alcoholic Drinks  \\\n",
       "count          111.000000              111.000000        111.000000   \n",
       "mean             0.891892                0.009009          0.747748   \n",
       "std              0.311925                0.094916          0.436275   \n",
       "min              0.000000                0.000000          0.000000   \n",
       "25%              1.000000                0.000000          0.500000   \n",
       "50%              1.000000                0.000000          1.000000   \n",
       "75%              1.000000                0.000000          1.000000   \n",
       "max              1.000000                1.000000          1.000000   \n",
       "\n",
       "       Cake-cutting    Delivery  Eco-Friendly  Exclusive Online Booking  \\\n",
       "count    111.000000  111.000000    111.000000                111.000000   \n",
       "mean       0.351351    0.396396      0.009009                  0.027027   \n",
       "std        0.479558    0.491367      0.094916                  0.162898   \n",
       "min        0.000000    0.000000      0.000000                  0.000000   \n",
       "25%        0.000000    0.000000      0.000000                  0.000000   \n",
       "50%        0.000000    0.000000      0.000000                  0.000000   \n",
       "75%        1.000000    1.000000      0.000000                  0.000000   \n",
       "max        1.000000    1.000000      1.000000                  1.000000   \n",
       "\n",
       "       May Bring Your Own Wine  Online Reservation  Open Till Late  \\\n",
       "count               111.000000          111.000000      111.000000   \n",
       "mean                  0.477477            0.495495        0.072072   \n",
       "std                   0.501758            0.502247        0.259780   \n",
       "min                   0.000000            0.000000        0.000000   \n",
       "25%                   0.000000            0.000000        0.000000   \n",
       "50%                   0.000000            0.000000        0.000000   \n",
       "75%                   1.000000            1.000000        0.000000   \n",
       "max                   1.000000            1.000000        1.000000   \n",
       "\n",
       "       Opens 24 Hours  Outdoor Seating     Parking  Phone Reservation  \\\n",
       "count      111.000000       111.000000  111.000000         111.000000   \n",
       "mean         0.009009         0.063063    0.099099           0.594595   \n",
       "std          0.094916         0.244179    0.300150           0.493197   \n",
       "min          0.000000         0.000000    0.000000           0.000000   \n",
       "25%          0.000000         0.000000    0.000000           0.000000   \n",
       "50%          0.000000         0.000000    0.000000           1.000000   \n",
       "75%          0.000000         0.000000    0.000000           1.000000   \n",
       "max          1.000000         1.000000    1.000000           1.000000   \n",
       "\n",
       "       Restaurant Mode of Operation - Type B  Reward Dining Points  \\\n",
       "count                             111.000000            111.000000   \n",
       "mean                                0.036036              0.315315   \n",
       "std                                 0.187225              0.466749   \n",
       "min                                 0.000000              0.000000   \n",
       "25%                                 0.000000              0.000000   \n",
       "50%                                 0.000000              0.000000   \n",
       "75%                                 0.000000              1.000000   \n",
       "max                                 1.000000              1.000000   \n",
       "\n",
       "       Spot payment  TV Broadcast   VIP Room  Vegetarian       Wi-Fi  \n",
       "count    111.000000    111.000000  111.00000  111.000000  111.000000  \n",
       "mean       0.576577      0.045045    0.18018    0.009009    0.450450  \n",
       "std        0.496342      0.208344    0.38608    0.094916    0.499795  \n",
       "min        0.000000      0.000000    0.00000    0.000000    0.000000  \n",
       "25%        0.000000      0.000000    0.00000    0.000000    0.000000  \n",
       "50%        1.000000      0.000000    0.00000    0.000000    0.000000  \n",
       "75%        1.000000      0.000000    0.00000    0.000000    1.000000  \n",
       "max        1.000000      1.000000    1.00000    1.000000    1.000000  "
      ]
     },
     "execution_count": 38,
     "metadata": {},
     "output_type": "execute_result"
    }
   ],
   "source": [
    "# get dataframe for facility analysis\n",
    "df_c=df\n",
    "df_fac=df_c[['name','bookmark','happy','location','taste','decor','service','hygiene','value','overall','happy_vs_sad','num_facility','other_facility']]\n",
    "df_fac.fillna(0)\n",
    "#df_fac['location'] = df_fac['location'].apply(lambda x: district(x))\n",
    "df_fac=df_fac[df_fac['other_facility']!=0]\n",
    "df_fac['facilities'] = df_fac['other_facility'].str.split(',')\n",
    "df_fac.reset_index(inplace=True, drop = True)\n",
    "one_hot = pd.get_dummies(df_fac['facilities'].apply(pd.Series).stack()).sum(level=0)\n",
    "df_fac = df_fac.merge(one_hot,how='outer',left_index = True, right_index=True)\n",
    "\n",
    "df_fac.describe()"
   ]
  },
  {
   "cell_type": "code",
   "execution_count": 29,
   "metadata": {},
   "outputs": [],
   "source": [
    "df['payment_methods'] = df['pay_list'].str.split(',')\n",
    "df.reset_index(inplace=True, drop = True)"
   ]
  },
  {
   "cell_type": "code",
   "execution_count": 30,
   "metadata": {},
   "outputs": [
    {
     "data": {
      "text/html": [
       "<div>\n",
       "<style scoped>\n",
       "    .dataframe tbody tr th:only-of-type {\n",
       "        vertical-align: middle;\n",
       "    }\n",
       "\n",
       "    .dataframe tbody tr th {\n",
       "        vertical-align: top;\n",
       "    }\n",
       "\n",
       "    .dataframe thead th {\n",
       "        text-align: right;\n",
       "    }\n",
       "</style>\n",
       "<table border=\"1\" class=\"dataframe\">\n",
       "  <thead>\n",
       "    <tr style=\"text-align: right;\">\n",
       "      <th></th>\n",
       "      <th>bookmark</th>\n",
       "      <th>happy</th>\n",
       "      <th>sad</th>\n",
       "      <th>num_branch</th>\n",
       "      <th>num_seat</th>\n",
       "      <th>taste</th>\n",
       "      <th>decor</th>\n",
       "      <th>service</th>\n",
       "      <th>hygiene</th>\n",
       "      <th>value</th>\n",
       "      <th>overall</th>\n",
       "      <th>price_int</th>\n",
       "      <th>location_int</th>\n",
       "      <th>happy_vs_sad</th>\n",
       "      <th>num_payment</th>\n",
       "      <th>num_facility</th>\n",
       "      <th>Alipay</th>\n",
       "      <th>AlipayHK</th>\n",
       "      <th>Cash</th>\n",
       "      <th>Master</th>\n",
       "      <th>UnionPay</th>\n",
       "      <th>Visa</th>\n",
       "    </tr>\n",
       "  </thead>\n",
       "  <tbody>\n",
       "    <tr>\n",
       "      <th>count</th>\n",
       "      <td>117.000000</td>\n",
       "      <td>117.000000</td>\n",
       "      <td>117.000000</td>\n",
       "      <td>117.000000</td>\n",
       "      <td>117.000000</td>\n",
       "      <td>117.000000</td>\n",
       "      <td>117.000000</td>\n",
       "      <td>117.000000</td>\n",
       "      <td>117.000000</td>\n",
       "      <td>117.000000</td>\n",
       "      <td>117.000000</td>\n",
       "      <td>117.000000</td>\n",
       "      <td>117.000000</td>\n",
       "      <td>117.000000</td>\n",
       "      <td>117.000000</td>\n",
       "      <td>111.000000</td>\n",
       "      <td>117.000000</td>\n",
       "      <td>117.000000</td>\n",
       "      <td>117.000000</td>\n",
       "      <td>117.000000</td>\n",
       "      <td>117.000000</td>\n",
       "      <td>117.000000</td>\n",
       "    </tr>\n",
       "    <tr>\n",
       "      <th>mean</th>\n",
       "      <td>14415.188034</td>\n",
       "      <td>228.598291</td>\n",
       "      <td>9.931624</td>\n",
       "      <td>1.777778</td>\n",
       "      <td>36.487179</td>\n",
       "      <td>3.863248</td>\n",
       "      <td>3.743590</td>\n",
       "      <td>3.692308</td>\n",
       "      <td>3.863248</td>\n",
       "      <td>3.264957</td>\n",
       "      <td>18.427350</td>\n",
       "      <td>365.384615</td>\n",
       "      <td>0.384615</td>\n",
       "      <td>44.033857</td>\n",
       "      <td>6.076923</td>\n",
       "      <td>5.855856</td>\n",
       "      <td>0.589744</td>\n",
       "      <td>0.606838</td>\n",
       "      <td>0.982906</td>\n",
       "      <td>0.888889</td>\n",
       "      <td>0.683761</td>\n",
       "      <td>0.888889</td>\n",
       "    </tr>\n",
       "    <tr>\n",
       "      <th>std</th>\n",
       "      <td>8701.468334</td>\n",
       "      <td>209.282974</td>\n",
       "      <td>12.378183</td>\n",
       "      <td>1.445034</td>\n",
       "      <td>47.541020</td>\n",
       "      <td>0.345063</td>\n",
       "      <td>0.438529</td>\n",
       "      <td>0.463524</td>\n",
       "      <td>0.345063</td>\n",
       "      <td>0.480538</td>\n",
       "      <td>1.521774</td>\n",
       "      <td>307.693137</td>\n",
       "      <td>0.488597</td>\n",
       "      <td>54.008707</td>\n",
       "      <td>2.385856</td>\n",
       "      <td>2.938295</td>\n",
       "      <td>0.493996</td>\n",
       "      <td>0.490553</td>\n",
       "      <td>0.130179</td>\n",
       "      <td>0.315621</td>\n",
       "      <td>0.467008</td>\n",
       "      <td>0.315621</td>\n",
       "    </tr>\n",
       "    <tr>\n",
       "      <th>min</th>\n",
       "      <td>2129.000000</td>\n",
       "      <td>24.000000</td>\n",
       "      <td>0.000000</td>\n",
       "      <td>1.000000</td>\n",
       "      <td>0.000000</td>\n",
       "      <td>3.000000</td>\n",
       "      <td>3.000000</td>\n",
       "      <td>3.000000</td>\n",
       "      <td>3.000000</td>\n",
       "      <td>2.000000</td>\n",
       "      <td>14.000000</td>\n",
       "      <td>25.000000</td>\n",
       "      <td>0.000000</td>\n",
       "      <td>3.750000</td>\n",
       "      <td>1.000000</td>\n",
       "      <td>1.000000</td>\n",
       "      <td>0.000000</td>\n",
       "      <td>0.000000</td>\n",
       "      <td>0.000000</td>\n",
       "      <td>0.000000</td>\n",
       "      <td>0.000000</td>\n",
       "      <td>0.000000</td>\n",
       "    </tr>\n",
       "    <tr>\n",
       "      <th>25%</th>\n",
       "      <td>8977.000000</td>\n",
       "      <td>76.000000</td>\n",
       "      <td>3.000000</td>\n",
       "      <td>1.000000</td>\n",
       "      <td>0.000000</td>\n",
       "      <td>4.000000</td>\n",
       "      <td>3.000000</td>\n",
       "      <td>3.000000</td>\n",
       "      <td>4.000000</td>\n",
       "      <td>3.000000</td>\n",
       "      <td>17.000000</td>\n",
       "      <td>150.000000</td>\n",
       "      <td>0.000000</td>\n",
       "      <td>14.200000</td>\n",
       "      <td>5.000000</td>\n",
       "      <td>4.000000</td>\n",
       "      <td>0.000000</td>\n",
       "      <td>0.000000</td>\n",
       "      <td>1.000000</td>\n",
       "      <td>1.000000</td>\n",
       "      <td>0.000000</td>\n",
       "      <td>1.000000</td>\n",
       "    </tr>\n",
       "    <tr>\n",
       "      <th>50%</th>\n",
       "      <td>11815.000000</td>\n",
       "      <td>141.000000</td>\n",
       "      <td>5.000000</td>\n",
       "      <td>1.000000</td>\n",
       "      <td>24.000000</td>\n",
       "      <td>4.000000</td>\n",
       "      <td>4.000000</td>\n",
       "      <td>4.000000</td>\n",
       "      <td>4.000000</td>\n",
       "      <td>3.000000</td>\n",
       "      <td>19.000000</td>\n",
       "      <td>300.000000</td>\n",
       "      <td>0.000000</td>\n",
       "      <td>26.000000</td>\n",
       "      <td>6.000000</td>\n",
       "      <td>6.000000</td>\n",
       "      <td>1.000000</td>\n",
       "      <td>1.000000</td>\n",
       "      <td>1.000000</td>\n",
       "      <td>1.000000</td>\n",
       "      <td>1.000000</td>\n",
       "      <td>1.000000</td>\n",
       "    </tr>\n",
       "    <tr>\n",
       "      <th>75%</th>\n",
       "      <td>18321.000000</td>\n",
       "      <td>328.000000</td>\n",
       "      <td>13.000000</td>\n",
       "      <td>2.000000</td>\n",
       "      <td>50.000000</td>\n",
       "      <td>4.000000</td>\n",
       "      <td>4.000000</td>\n",
       "      <td>4.000000</td>\n",
       "      <td>4.000000</td>\n",
       "      <td>4.000000</td>\n",
       "      <td>19.000000</td>\n",
       "      <td>600.000000</td>\n",
       "      <td>1.000000</td>\n",
       "      <td>50.500000</td>\n",
       "      <td>8.000000</td>\n",
       "      <td>8.000000</td>\n",
       "      <td>1.000000</td>\n",
       "      <td>1.000000</td>\n",
       "      <td>1.000000</td>\n",
       "      <td>1.000000</td>\n",
       "      <td>1.000000</td>\n",
       "      <td>1.000000</td>\n",
       "    </tr>\n",
       "    <tr>\n",
       "      <th>max</th>\n",
       "      <td>45755.000000</td>\n",
       "      <td>1065.000000</td>\n",
       "      <td>58.000000</td>\n",
       "      <td>9.000000</td>\n",
       "      <td>280.000000</td>\n",
       "      <td>4.000000</td>\n",
       "      <td>4.000000</td>\n",
       "      <td>4.000000</td>\n",
       "      <td>4.000000</td>\n",
       "      <td>4.000000</td>\n",
       "      <td>20.000000</td>\n",
       "      <td>1000.000000</td>\n",
       "      <td>1.000000</td>\n",
       "      <td>348.000000</td>\n",
       "      <td>12.000000</td>\n",
       "      <td>14.000000</td>\n",
       "      <td>1.000000</td>\n",
       "      <td>1.000000</td>\n",
       "      <td>1.000000</td>\n",
       "      <td>1.000000</td>\n",
       "      <td>1.000000</td>\n",
       "      <td>1.000000</td>\n",
       "    </tr>\n",
       "  </tbody>\n",
       "</table>\n",
       "</div>"
      ],
      "text/plain": [
       "           bookmark        happy         sad  num_branch    num_seat  \\\n",
       "count    117.000000   117.000000  117.000000  117.000000  117.000000   \n",
       "mean   14415.188034   228.598291    9.931624    1.777778   36.487179   \n",
       "std     8701.468334   209.282974   12.378183    1.445034   47.541020   \n",
       "min     2129.000000    24.000000    0.000000    1.000000    0.000000   \n",
       "25%     8977.000000    76.000000    3.000000    1.000000    0.000000   \n",
       "50%    11815.000000   141.000000    5.000000    1.000000   24.000000   \n",
       "75%    18321.000000   328.000000   13.000000    2.000000   50.000000   \n",
       "max    45755.000000  1065.000000   58.000000    9.000000  280.000000   \n",
       "\n",
       "            taste       decor     service     hygiene       value     overall  \\\n",
       "count  117.000000  117.000000  117.000000  117.000000  117.000000  117.000000   \n",
       "mean     3.863248    3.743590    3.692308    3.863248    3.264957   18.427350   \n",
       "std      0.345063    0.438529    0.463524    0.345063    0.480538    1.521774   \n",
       "min      3.000000    3.000000    3.000000    3.000000    2.000000   14.000000   \n",
       "25%      4.000000    3.000000    3.000000    4.000000    3.000000   17.000000   \n",
       "50%      4.000000    4.000000    4.000000    4.000000    3.000000   19.000000   \n",
       "75%      4.000000    4.000000    4.000000    4.000000    4.000000   19.000000   \n",
       "max      4.000000    4.000000    4.000000    4.000000    4.000000   20.000000   \n",
       "\n",
       "         price_int  location_int  happy_vs_sad  num_payment  num_facility  \\\n",
       "count   117.000000    117.000000    117.000000   117.000000    111.000000   \n",
       "mean    365.384615      0.384615     44.033857     6.076923      5.855856   \n",
       "std     307.693137      0.488597     54.008707     2.385856      2.938295   \n",
       "min      25.000000      0.000000      3.750000     1.000000      1.000000   \n",
       "25%     150.000000      0.000000     14.200000     5.000000      4.000000   \n",
       "50%     300.000000      0.000000     26.000000     6.000000      6.000000   \n",
       "75%     600.000000      1.000000     50.500000     8.000000      8.000000   \n",
       "max    1000.000000      1.000000    348.000000    12.000000     14.000000   \n",
       "\n",
       "           Alipay    AlipayHK        Cash      Master    UnionPay        Visa  \n",
       "count  117.000000  117.000000  117.000000  117.000000  117.000000  117.000000  \n",
       "mean     0.589744    0.606838    0.982906    0.888889    0.683761    0.888889  \n",
       "std      0.493996    0.490553    0.130179    0.315621    0.467008    0.315621  \n",
       "min      0.000000    0.000000    0.000000    0.000000    0.000000    0.000000  \n",
       "25%      0.000000    0.000000    1.000000    1.000000    0.000000    1.000000  \n",
       "50%      1.000000    1.000000    1.000000    1.000000    1.000000    1.000000  \n",
       "75%      1.000000    1.000000    1.000000    1.000000    1.000000    1.000000  \n",
       "max      1.000000    1.000000    1.000000    1.000000    1.000000    1.000000  "
      ]
     },
     "execution_count": 30,
     "metadata": {},
     "output_type": "execute_result"
    }
   ],
   "source": [
    "df.describe()"
   ]
  },
  {
   "cell_type": "code",
   "execution_count": 31,
   "metadata": {},
   "outputs": [
    {
     "name": "stdout",
     "output_type": "stream",
     "text": [
      "10% Service Charge\n",
      "\n",
      "\n",
      "                    service\n",
      "10% Service Charge         \n",
      "0.0                     4.0\n",
      "1.0                     4.0\n",
      "\n",
      "\n",
      "                    value\n",
      "10% Service Charge       \n",
      "0.0                   4.0\n",
      "1.0                   3.0\n",
      "\n",
      "\n",
      "                    overall\n",
      "10% Service Charge         \n",
      "0.0                    19.5\n",
      "1.0                    19.0\n",
      "\n",
      "\n",
      "                    happy\n",
      "10% Service Charge       \n",
      "0.0                 205.0\n",
      "1.0                 153.0\n",
      "\n",
      "\n",
      "                    bookmark\n",
      "10% Service Charge          \n",
      "0.0                   6317.0\n",
      "1.0                  12189.0\n",
      "\n",
      "\n",
      "Accessible Environment\n",
      "\n",
      "\n",
      "                        service\n",
      "Accessible Environment         \n",
      "0.0                         4.0\n",
      "1.0                         3.0\n",
      "\n",
      "\n",
      "                        value\n",
      "Accessible Environment       \n",
      "0.0                       3.0\n",
      "1.0                       3.0\n",
      "\n",
      "\n",
      "                        overall\n",
      "Accessible Environment         \n",
      "0.0                        19.0\n",
      "1.0                        17.0\n",
      "\n",
      "\n",
      "                        happy\n",
      "Accessible Environment       \n",
      "0.0                     154.5\n",
      "1.0                      76.0\n",
      "\n",
      "\n",
      "                        bookmark\n",
      "Accessible Environment          \n",
      "0.0                      11869.5\n",
      "1.0                      12386.0\n",
      "\n",
      "\n",
      "Alcoholic Drinks\n",
      "\n",
      "\n",
      "                  service\n",
      "Alcoholic Drinks         \n",
      "0.0                   4.0\n",
      "1.0                   4.0\n",
      "\n",
      "\n",
      "                  value\n",
      "Alcoholic Drinks       \n",
      "0.0                 3.0\n",
      "1.0                 3.0\n",
      "\n",
      "\n",
      "                  overall\n",
      "Alcoholic Drinks         \n",
      "0.0                  19.0\n",
      "1.0                  19.0\n",
      "\n",
      "\n",
      "                  happy\n",
      "Alcoholic Drinks       \n",
      "0.0               133.5\n",
      "1.0               160.0\n",
      "\n",
      "\n",
      "                  bookmark\n",
      "Alcoholic Drinks          \n",
      "0.0                 9478.5\n",
      "1.0                12782.0\n",
      "\n",
      "\n",
      "Cake-cutting\n",
      "\n",
      "\n",
      "              service\n",
      "Cake-cutting         \n",
      "0.0               4.0\n",
      "1.0               4.0\n",
      "\n",
      "\n",
      "              value\n",
      "Cake-cutting       \n",
      "0.0             3.0\n",
      "1.0             3.0\n",
      "\n",
      "\n",
      "              overall\n",
      "Cake-cutting         \n",
      "0.0              19.0\n",
      "1.0              19.0\n",
      "\n",
      "\n",
      "              happy\n",
      "Cake-cutting       \n",
      "0.0           147.0\n",
      "1.0           174.0\n",
      "\n",
      "\n",
      "              bookmark\n",
      "Cake-cutting          \n",
      "0.0            11770.5\n",
      "1.0            12386.0\n",
      "\n",
      "\n",
      "Delivery\n",
      "\n",
      "\n",
      "          service\n",
      "Delivery         \n",
      "0.0           4.0\n",
      "1.0           4.0\n",
      "\n",
      "\n",
      "          value\n",
      "Delivery       \n",
      "0.0         3.0\n",
      "1.0         3.0\n",
      "\n",
      "\n",
      "          overall\n",
      "Delivery         \n",
      "0.0          19.0\n",
      "1.0          19.0\n",
      "\n",
      "\n",
      "          happy\n",
      "Delivery       \n",
      "0.0       141.0\n",
      "1.0       178.5\n",
      "\n",
      "\n",
      "          bookmark\n",
      "Delivery          \n",
      "0.0        11587.0\n",
      "1.0        12899.5\n",
      "\n",
      "\n",
      "Eco-Friendly\n",
      "\n",
      "\n",
      "              service\n",
      "Eco-Friendly         \n",
      "0.0               4.0\n",
      "1.0               4.0\n",
      "\n",
      "\n",
      "              value\n",
      "Eco-Friendly       \n",
      "0.0             3.0\n",
      "1.0             3.0\n",
      "\n",
      "\n",
      "              overall\n",
      "Eco-Friendly         \n",
      "0.0              19.0\n",
      "1.0              19.0\n",
      "\n",
      "\n",
      "              happy\n",
      "Eco-Friendly       \n",
      "0.0           148.5\n",
      "1.0           208.0\n",
      "\n",
      "\n",
      "              bookmark\n",
      "Eco-Friendly          \n",
      "0.0            11869.5\n",
      "1.0            27657.0\n",
      "\n",
      "\n",
      "Exclusive Online Booking\n",
      "\n",
      "\n",
      "                          service\n",
      "Exclusive Online Booking         \n",
      "0.0                           4.0\n",
      "1.0                           4.0\n",
      "\n",
      "\n",
      "                          value\n",
      "Exclusive Online Booking       \n",
      "0.0                         3.0\n",
      "1.0                         4.0\n",
      "\n",
      "\n",
      "                          overall\n",
      "Exclusive Online Booking         \n",
      "0.0                          19.0\n",
      "1.0                          19.0\n",
      "\n",
      "\n",
      "                          happy\n",
      "Exclusive Online Booking       \n",
      "0.0                       154.5\n",
      "1.0                       100.0\n",
      "\n",
      "\n",
      "                          bookmark\n",
      "Exclusive Online Booking          \n",
      "0.0                        12050.5\n",
      "1.0                         3304.0\n",
      "\n",
      "\n",
      "May Bring Your Own Wine\n",
      "\n",
      "\n",
      "                         service\n",
      "May Bring Your Own Wine         \n",
      "0.0                          4.0\n",
      "1.0                          4.0\n",
      "\n",
      "\n",
      "                         value\n",
      "May Bring Your Own Wine       \n",
      "0.0                        3.0\n",
      "1.0                        3.0\n",
      "\n",
      "\n",
      "                         overall\n",
      "May Bring Your Own Wine         \n",
      "0.0                         19.0\n",
      "1.0                         19.0\n",
      "\n",
      "\n",
      "                         happy\n",
      "May Bring Your Own Wine       \n",
      "0.0                      178.5\n",
      "1.0                      128.0\n",
      "\n",
      "\n",
      "                         bookmark\n",
      "May Bring Your Own Wine          \n",
      "0.0                       11250.5\n",
      "1.0                       13444.0\n",
      "\n",
      "\n",
      "Online Reservation\n",
      "\n",
      "\n",
      "                    service\n",
      "Online Reservation         \n",
      "0.0                     4.0\n",
      "1.0                     4.0\n",
      "\n",
      "\n",
      "                    value\n",
      "Online Reservation       \n",
      "0.0                   3.0\n",
      "1.0                   3.0\n",
      "\n",
      "\n",
      "                    overall\n",
      "Online Reservation         \n",
      "0.0                    19.0\n",
      "1.0                    19.0\n",
      "\n",
      "\n",
      "                    happy\n",
      "Online Reservation       \n",
      "0.0                 154.5\n",
      "1.0                 144.0\n",
      "\n",
      "\n",
      "                    bookmark\n",
      "Online Reservation          \n",
      "0.0                  12142.0\n",
      "1.0                  11815.0\n",
      "\n",
      "\n",
      "Open Till Late\n",
      "\n",
      "\n",
      "                service\n",
      "Open Till Late         \n",
      "0.0                 4.0\n",
      "1.0                 3.5\n",
      "\n",
      "\n",
      "                value\n",
      "Open Till Late       \n",
      "0.0               3.0\n",
      "1.0               3.0\n",
      "\n",
      "\n",
      "                overall\n",
      "Open Till Late         \n",
      "0.0                19.0\n",
      "1.0                18.0\n",
      "\n",
      "\n",
      "                happy\n",
      "Open Till Late       \n",
      "0.0             153.0\n",
      "1.0             151.5\n",
      "\n",
      "\n",
      "                bookmark\n",
      "Open Till Late          \n",
      "0.0              11710.0\n",
      "1.0              16082.5\n",
      "\n",
      "\n",
      "Opens 24 Hours\n",
      "\n",
      "\n",
      "                service\n",
      "Opens 24 Hours         \n",
      "0.0                 4.0\n",
      "1.0                 3.0\n",
      "\n",
      "\n",
      "                value\n",
      "Opens 24 Hours       \n",
      "0.0               3.0\n",
      "1.0               2.0\n",
      "\n",
      "\n",
      "                overall\n",
      "Opens 24 Hours         \n",
      "0.0                19.0\n",
      "1.0                14.0\n",
      "\n",
      "\n",
      "                happy\n",
      "Opens 24 Hours       \n",
      "0.0             148.5\n",
      "1.0             464.0\n",
      "\n",
      "\n",
      "                bookmark\n",
      "Opens 24 Hours          \n",
      "0.0              11869.5\n",
      "1.0              31989.0\n",
      "\n",
      "\n",
      "Outdoor Seating\n",
      "\n",
      "\n",
      "                 service\n",
      "Outdoor Seating         \n",
      "0.0                  4.0\n",
      "1.0                  4.0\n",
      "\n",
      "\n",
      "                 value\n",
      "Outdoor Seating       \n",
      "0.0                3.0\n",
      "1.0                3.0\n",
      "\n",
      "\n",
      "                 overall\n",
      "Outdoor Seating         \n",
      "0.0                 19.0\n",
      "1.0                 19.0\n",
      "\n",
      "\n",
      "                 happy\n",
      "Outdoor Seating       \n",
      "0.0              158.0\n",
      "1.0              121.0\n",
      "\n",
      "\n",
      "                 bookmark\n",
      "Outdoor Seating          \n",
      "0.0               11869.5\n",
      "1.0               13895.0\n",
      "\n",
      "\n",
      "Parking\n",
      "\n",
      "\n",
      "         service\n",
      "Parking         \n",
      "0.0          4.0\n",
      "1.0          4.0\n",
      "\n",
      "\n",
      "         value\n",
      "Parking       \n",
      "0.0        3.0\n",
      "1.0        3.0\n",
      "\n",
      "\n",
      "         overall\n",
      "Parking         \n",
      "0.0         19.0\n",
      "1.0         19.0\n",
      "\n",
      "\n",
      "         happy\n",
      "Parking       \n",
      "0.0      158.0\n",
      "1.0      102.0\n",
      "\n",
      "\n",
      "         bookmark\n",
      "Parking          \n",
      "0.0       11770.5\n",
      "1.0       13444.0\n",
      "\n",
      "\n",
      "Phone Reservation\n",
      "\n",
      "\n",
      "                   service\n",
      "Phone Reservation         \n",
      "0.0                    4.0\n",
      "1.0                    4.0\n",
      "\n",
      "\n",
      "                   value\n",
      "Phone Reservation       \n",
      "0.0                  3.0\n",
      "1.0                  3.0\n",
      "\n",
      "\n",
      "                   overall\n",
      "Phone Reservation         \n",
      "0.0                   19.0\n",
      "1.0                   19.0\n",
      "\n",
      "\n",
      "                   happy\n",
      "Phone Reservation       \n",
      "0.0                156.0\n",
      "1.0                140.0\n",
      "\n",
      "\n",
      "                   bookmark\n",
      "Phone Reservation          \n",
      "0.0                 13017.0\n",
      "1.0                 11494.0\n",
      "\n",
      "\n",
      "Restaurant Mode of Operation - Type B\n",
      "\n",
      "\n",
      "                                       service\n",
      "Restaurant Mode of Operation - Type B         \n",
      "0.0                                        4.0\n",
      "1.0                                        4.0\n",
      "\n",
      "\n",
      "                                       value\n",
      "Restaurant Mode of Operation - Type B       \n",
      "0.0                                      3.0\n",
      "1.0                                      3.0\n",
      "\n",
      "\n",
      "                                       overall\n",
      "Restaurant Mode of Operation - Type B         \n",
      "0.0                                       19.0\n",
      "1.0                                       19.0\n",
      "\n",
      "\n",
      "                                       happy\n",
      "Restaurant Mode of Operation - Type B       \n",
      "0.0                                    153.0\n",
      "1.0                                    243.5\n",
      "\n",
      "\n",
      "                                       bookmark\n",
      "Restaurant Mode of Operation - Type B          \n",
      "0.0                                     11924.0\n",
      "1.0                                     18194.5\n",
      "\n",
      "\n",
      "Reward Dining Points\n",
      "\n",
      "\n",
      "                      service\n",
      "Reward Dining Points         \n",
      "0.0                       4.0\n",
      "1.0                       4.0\n",
      "\n",
      "\n",
      "                      value\n",
      "Reward Dining Points       \n",
      "0.0                     3.0\n",
      "1.0                     3.0\n",
      "\n",
      "\n",
      "                      overall\n",
      "Reward Dining Points         \n",
      "0.0                      19.0\n",
      "1.0                      19.0\n",
      "\n",
      "\n",
      "                      happy\n",
      "Reward Dining Points       \n",
      "0.0                   154.5\n",
      "1.0                   144.0\n",
      "\n",
      "\n",
      "                      bookmark\n",
      "Reward Dining Points          \n",
      "0.0                    12056.5\n"
     ]
    },
    {
     "name": "stdout",
     "output_type": "stream",
     "text": [
      "1.0                    11603.0\n",
      "\n",
      "\n",
      "Spot payment\n",
      "\n",
      "\n",
      "              service\n",
      "Spot payment         \n",
      "0.0               4.0\n",
      "1.0               4.0\n",
      "\n",
      "\n",
      "              value\n",
      "Spot payment       \n",
      "0.0             3.0\n",
      "1.0             3.0\n",
      "\n",
      "\n",
      "              overall\n",
      "Spot payment         \n",
      "0.0              19.0\n",
      "1.0              19.0\n",
      "\n",
      "\n",
      "              happy\n",
      "Spot payment       \n",
      "0.0           111.0\n",
      "1.0           206.5\n",
      "\n",
      "\n",
      "              bookmark\n",
      "Spot payment          \n",
      "0.0            11603.0\n",
      "1.0            12050.5\n",
      "\n",
      "\n",
      "TV Broadcast\n",
      "\n",
      "\n",
      "              service\n",
      "TV Broadcast         \n",
      "0.0               4.0\n",
      "1.0               4.0\n",
      "\n",
      "\n",
      "              value\n",
      "TV Broadcast       \n",
      "0.0             3.0\n",
      "1.0             3.0\n",
      "\n",
      "\n",
      "              overall\n",
      "TV Broadcast         \n",
      "0.0              19.0\n",
      "1.0              18.0\n",
      "\n",
      "\n",
      "              happy\n",
      "TV Broadcast       \n",
      "0.0           148.5\n",
      "1.0           466.0\n",
      "\n",
      "\n",
      "              bookmark\n",
      "TV Broadcast          \n",
      "0.0            11718.0\n",
      "1.0            19621.0\n",
      "\n",
      "\n",
      "VIP Room\n",
      "\n",
      "\n",
      "          service\n",
      "VIP Room         \n",
      "0.0           4.0\n",
      "1.0           4.0\n",
      "\n",
      "\n",
      "          value\n",
      "VIP Room       \n",
      "0.0         3.0\n",
      "1.0         3.0\n",
      "\n",
      "\n",
      "          overall\n",
      "VIP Room         \n",
      "0.0          19.0\n",
      "1.0          19.0\n",
      "\n",
      "\n",
      "          happy\n",
      "VIP Room       \n",
      "0.0       141.0\n",
      "1.0       166.0\n",
      "\n",
      "\n",
      "          bookmark\n",
      "VIP Room          \n",
      "0.0        11603.0\n",
      "1.0        14439.0\n",
      "\n",
      "\n",
      "Vegetarian\n",
      "\n",
      "\n",
      "            service\n",
      "Vegetarian         \n",
      "0.0             4.0\n",
      "1.0             3.0\n",
      "\n",
      "\n",
      "            value\n",
      "Vegetarian       \n",
      "0.0           3.0\n",
      "1.0           3.0\n",
      "\n",
      "\n",
      "            overall\n",
      "Vegetarian         \n",
      "0.0            19.0\n",
      "1.0            17.0\n",
      "\n",
      "\n",
      "            happy\n",
      "Vegetarian       \n",
      "0.0         154.5\n",
      "1.0          80.0\n",
      "\n",
      "\n",
      "            bookmark\n",
      "Vegetarian          \n",
      "0.0          11869.5\n",
      "1.0          13895.0\n",
      "\n",
      "\n",
      "Wi-Fi\n",
      "\n",
      "\n",
      "       service\n",
      "Wi-Fi         \n",
      "0.0        4.0\n",
      "1.0        4.0\n",
      "\n",
      "\n",
      "       value\n",
      "Wi-Fi       \n",
      "0.0      3.0\n",
      "1.0      3.0\n",
      "\n",
      "\n",
      "       overall\n",
      "Wi-Fi         \n",
      "0.0       19.0\n",
      "1.0       19.0\n",
      "\n",
      "\n",
      "       happy\n",
      "Wi-Fi       \n",
      "0.0    141.0\n",
      "1.0    166.0\n",
      "\n",
      "\n",
      "       bookmark\n",
      "Wi-Fi          \n",
      "0.0     11726.0\n",
      "1.0     12203.5\n",
      "\n",
      "\n"
     ]
    }
   ],
   "source": [
    "# analysis on effect from specific facility\n",
    "for j in list(df_fac_all.columns)[14:]:\n",
    "    print(j)\n",
    "    grp=df_fac.groupby(j,as_index=True)\n",
    "    for i in ['service','value','overall','happy','bookmark']:\n",
    "        print('\\n')\n",
    "        \n",
    "        print(grp.agg({i:'median'}))\n",
    "        \n",
    "    print('\\n')\n",
    "    \n"
   ]
  },
  {
   "cell_type": "code",
   "execution_count": 33,
   "metadata": {},
   "outputs": [
    {
     "name": "stdout",
     "output_type": "stream",
     "text": [
      "service\n"
     ]
    },
    {
     "data": {
      "image/png": "[encoded data removed]",
      "text/plain": [
       "<Figure size 432x288 with 1 Axes>"
      ]
     },
     "metadata": {
      "needs_background": "light"
     },
     "output_type": "display_data"
    },
    {
     "name": "stdout",
     "output_type": "stream",
     "text": [
      "              num_facility   service\n",
      "num_facility      1.000000  0.156625\n",
      "service           0.156625  1.000000\n",
      "value\n"
     ]
    },
    {
     "data": {
      "image/png": "[encoded data removed]",
      "text/plain": [
       "<Figure size 432x288 with 1 Axes>"
      ]
     },
     "metadata": {
      "needs_background": "light"
     },
     "output_type": "display_data"
    },
    {
     "name": "stdout",
     "output_type": "stream",
     "text": [
      "              num_facility     value\n",
      "num_facility      1.000000 -0.069632\n",
      "value            -0.069632  1.000000\n",
      "overall\n"
     ]
    },
    {
     "data": {
      "image/png": "[encoded data removed]",
      "text/plain": [
       "<Figure size 432x288 with 1 Axes>"
      ]
     },
     "metadata": {
      "needs_background": "light"
     },
     "output_type": "display_data"
    },
    {
     "name": "stdout",
     "output_type": "stream",
     "text": [
      "              num_facility   overall\n",
      "num_facility      1.000000  0.076795\n",
      "overall           0.076795  1.000000\n",
      "happy\n"
     ]
    },
    {
     "data": {
      "image/png": "[encoded data removed]",
      "text/plain": [
       "<Figure size 432x288 with 1 Axes>"
      ]
     },
     "metadata": {
      "needs_background": "light"
     },
     "output_type": "display_data"
    },
    {
     "name": "stdout",
     "output_type": "stream",
     "text": [
      "              num_facility     happy\n",
      "num_facility      1.000000  0.056842\n",
      "happy             0.056842  1.000000\n",
      "bookmark\n"
     ]
    },
    {
     "data": {
      "image/png": "[encoded data removed]",
      "text/plain": [
       "<Figure size 432x288 with 1 Axes>"
      ]
     },
     "metadata": {
      "needs_background": "light"
     },
     "output_type": "display_data"
    },
    {
     "name": "stdout",
     "output_type": "stream",
     "text": [
      "              num_facility  bookmark\n",
      "num_facility      1.000000  0.054614\n",
      "bookmark          0.054614  1.000000\n"
     ]
    }
   ],
   "source": [
    "# analysis on effect from num_facility to utility rating\n",
    "df_fac.dropna(inplace=True)\n",
    "for i in ['service','value','overall','happy','bookmark']: \n",
    "    print(i)\n",
    "    title = 'num_facility vs '+i\n",
    "    scatter_graph_2(df_fac['num_facility'], df_fac[i], title,15)\n",
    "    print(df_fac[['num_facility',i]].corr())\n",
    "    #scatter_bar(\"num_facility\",i,df_fac_HK)\n"
   ]
  },
  {
   "cell_type": "markdown",
   "metadata": {},
   "source": [
    "### Number of seats"
   ]
  },
  {
   "cell_type": "code",
   "execution_count": 35,
   "metadata": {},
   "outputs": [
    {
     "name": "stdout",
     "output_type": "stream",
     "text": [
      "overall\n"
     ]
    },
    {
     "data": {
      "image/png": "[encoded data removed]",
      "text/plain": [
       "<Figure size 432x288 with 1 Axes>"
      ]
     },
     "metadata": {
      "needs_background": "light"
     },
     "output_type": "display_data"
    },
    {
     "name": "stdout",
     "output_type": "stream",
     "text": [
      "taste\n"
     ]
    },
    {
     "data": {
      "image/png": "[encoded data removed]",
      "text/plain": [
       "<Figure size 432x288 with 1 Axes>"
      ]
     },
     "metadata": {
      "needs_background": "light"
     },
     "output_type": "display_data"
    },
    {
     "name": "stdout",
     "output_type": "stream",
     "text": [
      "decor\n"
     ]
    },
    {
     "data": {
      "image/png": "[encoded data removed]",
      "text/plain": [
       "<Figure size 432x288 with 1 Axes>"
      ]
     },
     "metadata": {
      "needs_background": "light"
     },
     "output_type": "display_data"
    },
    {
     "name": "stdout",
     "output_type": "stream",
     "text": [
      "service\n"
     ]
    },
    {
     "data": {
      "image/png": "[encoded data removed]",
      "text/plain": [
       "<Figure size 432x288 with 1 Axes>"
      ]
     },
     "metadata": {
      "needs_background": "light"
     },
     "output_type": "display_data"
    },
    {
     "name": "stdout",
     "output_type": "stream",
     "text": [
      "hygiene\n"
     ]
    },
    {
     "data": {
      "image/png": "[encoded data removed]",
      "text/plain": [
       "<Figure size 432x288 with 1 Axes>"
      ]
     },
     "metadata": {
      "needs_background": "light"
     },
     "output_type": "display_data"
    },
    {
     "name": "stdout",
     "output_type": "stream",
     "text": [
      "value\n"
     ]
    },
    {
     "data": {
      "image/png": "[encoded data removed]",
      "text/plain": [
       "<Figure size 432x288 with 1 Axes>"
      ]
     },
     "metadata": {
      "needs_background": "light"
     },
     "output_type": "display_data"
    },
    {
     "name": "stdout",
     "output_type": "stream",
     "text": [
      "happy\n"
     ]
    },
    {
     "data": {
      "image/png": "[encoded data removed]",
      "text/plain": [
       "<Figure size 432x288 with 1 Axes>"
      ]
     },
     "metadata": {
      "needs_background": "light"
     },
     "output_type": "display_data"
    }
   ],
   "source": [
    "#analysis on effective number of seat can bring customer satisfaction\n",
    "df_seat=df[df['num_seat'] != 0]\n",
    "for i in ['overall','taste', 'decor', 'service',  'hygiene', 'value','happy']:\n",
    "    print(i)\n",
    "    title = 'number of seat vs '+i\n",
    "    scatter_graph_2(df_seat['num_seat'],df_seat[i], title,280)\n",
    "    "
   ]
  },
  {
   "cell_type": "markdown",
   "metadata": {},
   "source": [
    "<h3> END"
   ]
  },
  {
   "cell_type": "code",
   "execution_count": null,
   "metadata": {},
   "outputs": [],
   "source": []
  },
  {
   "cell_type": "code",
   "execution_count": null,
   "metadata": {},
   "outputs": [],
   "source": []
  },
  {
   "cell_type": "code",
   "execution_count": null,
   "metadata": {},
   "outputs": [],
   "source": []
  },
  {
   "cell_type": "code",
   "execution_count": null,
   "metadata": {},
   "outputs": [],
   "source": []
  },
  {
   "cell_type": "code",
   "execution_count": null,
   "metadata": {},
   "outputs": [],
   "source": [
    "import seaborn as sns\n",
    "sns.set_theme(style=\"ticks\")\n",
    "\n",
    "\n",
    "sns.pairplot(df, hue=\"location\")\n"
   ]
  },
  {
   "cell_type": "code",
   "execution_count": null,
   "metadata": {},
   "outputs": [],
   "source": [
    "g = sns.jointplot(\n",
    "    data=df,\n",
    "    x=\"num_seat\", y=\"overall\", hue=\"price_int\",\n",
    "    kind=\"kde\",\n",
    ")"
   ]
  },
  {
   "cell_type": "code",
   "execution_count": null,
   "metadata": {},
   "outputs": [],
   "source": [
    "sns.boxplot(x=\"price_int\", y=\"overall\",\n",
    "            hue=\"Visa\", palette=[\"m\", \"g\"],\n",
    "            data=df)"
   ]
  },
  {
   "cell_type": "code",
   "execution_count": null,
   "metadata": {},
   "outputs": [],
   "source": [
    "sns.boxplot(x=\"location\", y=\"overall\",\n",
    "            hue=\"Alipay\", palette=[\"m\", \"g\"],\n",
    "            data=df)"
   ]
  },
  {
   "cell_type": "code",
   "execution_count": null,
   "metadata": {},
   "outputs": [],
   "source": [
    "#for i in ['taste', 'decor', 'service',  'hygiene', 'value','overall']: #num_facility\n",
    "\n",
    "sns.boxplot(x=\"location\", y=\"overall\",\n",
    "            hue=\"Master\", palette=[\"m\", \"g\"],\n",
    "            data=df)"
   ]
  },
  {
   "cell_type": "code",
   "execution_count": null,
   "metadata": {},
   "outputs": [],
   "source": [
    "density_graph(\"num_seat\",\"overall\",df)"
   ]
  },
  {
   "cell_type": "code",
   "execution_count": null,
   "metadata": {},
   "outputs": [],
   "source": [
    "for i in Places:\n",
    "    print(i)\n",
    "    density_graph(\"happy\",\"overall\",df[df['location']==i])\n",
    "#df[df['location']==\"Central\"].sort_values(by='happy', ascending = False)"
   ]
  },
  {
   "cell_type": "code",
   "execution_count": null,
   "metadata": {},
   "outputs": [],
   "source": [
    "for i in df.iloc[:,11:16].columns:\n",
    "    density_graph(i,\"overall\",df)"
   ]
  },
  {
   "cell_type": "code",
   "execution_count": null,
   "metadata": {},
   "outputs": [],
   "source": [
    "df"
   ]
  },
  {
   "cell_type": "code",
   "execution_count": null,
   "metadata": {
    "scrolled": false
   },
   "outputs": [],
   "source": [
    "for i in ['taste', 'decor', 'service',  'hygiene', 'value']:\n",
    "    print(i)\n",
    "    m, b = np.polyfit(df['happy'], df[i], 1)\n",
    "    print(\"slope: \",m)\n",
    "    scatter_bar(\"happy\",i,df)"
   ]
  },
  {
   "cell_type": "code",
   "execution_count": null,
   "metadata": {},
   "outputs": [],
   "source": [
    "scatter_bar(\"AlipayHK\",'value',df)"
   ]
  },
  {
   "cell_type": "code",
   "execution_count": null,
   "metadata": {},
   "outputs": [],
   "source": [
    "import seaborn as sns\n",
    "import numpy as np\n",
    "import pandas as pd\n",
    "import matplotlib.pyplot as plt\n",
    "  \n",
    "  \n",
    "fig, axes = plt.subplots(2, 3, figsize=(18, 10))\n",
    "  \n",
    "fig.suptitle('Overall')\n",
    "  \n",
    "\n",
    "sns.jointplot(data=df,x='overall', y='taste',  kind=\"reg\",ax=axes[0,0])\n"
   ]
  },
  {
   "cell_type": "code",
   "execution_count": null,
   "metadata": {},
   "outputs": [],
   "source": [
    "g = sns.PairGrid(df)\n",
    "g.map_diag(sns.histplot)\n",
    "g.map_offdiag(sns.scatterplot)"
   ]
  },
  {
   "cell_type": "code",
   "execution_count": null,
   "metadata": {
    "scrolled": false
   },
   "outputs": [],
   "source": [
    "for i in ['taste', 'decor', 'service',  'hygiene', 'value']:\n",
    "    m, b = np.polyfit(df['happy'], df[i], 1)\n",
    "    print(i.upper(), \"with slope:\",m)\n",
    "    sns.jointplot(x='overall', y='taste', data=df, kind=\"reg\")\n",
    "    plt.show()"
   ]
  },
  {
   "cell_type": "code",
   "execution_count": null,
   "metadata": {},
   "outputs": [],
   "source": [
    "for i in ['taste', 'decor', 'service',  'hygiene', 'value']:\n",
    "    print(i)\n",
    "    m, b = np.polyfit(df['happy'], df[i], 1)\n",
    "    print(\"slope: \",m)\n",
    "    scatter_bar(\"happy\",i,df)\n"
   ]
  },
  {
   "cell_type": "code",
   "execution_count": null,
   "metadata": {
    "scrolled": false
   },
   "outputs": [],
   "source": [
    "for i in ['taste', 'decor', 'service',  'hygiene', 'value']:\n",
    "    print(i)\n",
    "    m, b = np.polyfit(df['happy'], df[i], 1)\n",
    "    print(\"slope: \",m)\n",
    "    scatter_bar(\"bookmark\",i,df)\n"
   ]
  },
  {
   "cell_type": "code",
   "execution_count": null,
   "metadata": {},
   "outputs": [],
   "source": [
    "print(\"Table of correlation of various factors\")\n",
    "df.loc[:,['happy','sad','bookmark','taste', 'decor', 'service',  'hygiene','value','overall']].corr()"
   ]
  },
  {
   "cell_type": "code",
   "execution_count": null,
   "metadata": {},
   "outputs": [],
   "source": [
    "df['overall'].mean()/5"
   ]
  },
  {
   "cell_type": "code",
   "execution_count": null,
   "metadata": {
    "scrolled": false
   },
   "outputs": [],
   "source": [
    "for i in ['taste', 'decor', 'service',  'hygiene','overall']:\n",
    "    print(i)\n",
    "    m, b = np.polyfit(df['overall'], df[i], 1)\n",
    "    print(\"slope: \",m)\n",
    "    scatter_bar(\"value\",i,df)"
   ]
  },
  {
   "cell_type": "code",
   "execution_count": null,
   "metadata": {
    "scrolled": false
   },
   "outputs": [],
   "source": [
    "for i in ['overall','taste', 'decor', 'service',  'hygiene', 'value']:\n",
    "    print(i)\n",
    "\n",
    "\n",
    "    scatter_bar(\"num_seat\",i,df[df['location']==\"HK\"]\n",
    "               )"
   ]
  },
  {
   "cell_type": "code",
   "execution_count": null,
   "metadata": {
    "scrolled": false
   },
   "outputs": [],
   "source": [
    "for i in Places:\n",
    "    print(i)\n",
    "    scatter_bar(\"price_int\",\"value\",df[df['location']==i])"
   ]
  },
  {
   "cell_type": "code",
   "execution_count": null,
   "metadata": {},
   "outputs": [],
   "source": []
  },
  {
   "cell_type": "code",
   "execution_count": null,
   "metadata": {},
   "outputs": [],
   "source": [
    "sns.jointplot(\n",
    "    data=df[df['location']==\"Central\"],\n",
    "    x=\"overall\", y=\"happy\", hue=\"location_int\",\n",
    "    kind=\"kde\"\n",
    ")"
   ]
  },
  {
   "cell_type": "code",
   "execution_count": null,
   "metadata": {},
   "outputs": [],
   "source": [
    "df.iloc[:,11:17]"
   ]
  },
  {
   "cell_type": "code",
   "execution_count": null,
   "metadata": {},
   "outputs": [],
   "source": [
    "df"
   ]
  },
  {
   "cell_type": "code",
   "execution_count": null,
   "metadata": {},
   "outputs": [],
   "source": [
    "sns.catplot(x=\"location_int\", y=\"overall\", hue=\"price_int\", kind=\"box\", data=df)"
   ]
  },
  {
   "cell_type": "code",
   "execution_count": null,
   "metadata": {},
   "outputs": [],
   "source": [
    "for i in Places:\n",
    "    print(i)\n",
    "    pair_plot(df[df['location']==i],\"price\")\n"
   ]
  },
  {
   "cell_type": "code",
   "execution_count": null,
   "metadata": {},
   "outputs": [],
   "source": [
    "#df['food_type'].unique()"
   ]
  },
  {
   "cell_type": "code",
   "execution_count": null,
   "metadata": {},
   "outputs": [],
   "source": [
    "#top 200 restaurants ranked by happy\n",
    "top_200 = df.sort_values('happy',ascending=False).iloc[0:200]\n",
    "print(\"For top 200 restaurants: \\n ------------------\")\n",
    "find_average(top_200)"
   ]
  },
  {
   "cell_type": "code",
   "execution_count": null,
   "metadata": {},
   "outputs": [],
   "source": [
    "for i in Places:\n",
    "    print(\"For {} \\n------------------\".format(i))\n",
    "    find_average(df[df['location']==i])"
   ]
  },
  {
   "cell_type": "code",
   "execution_count": null,
   "metadata": {},
   "outputs": [],
   "source": [
    "#Top 100 restaurant based on happy/sad ratio, group by prices\n",
    "for i in Places:\n",
    "    bar_chart(df[df['location']==i].sort_values(\"happy_vs_sad\",ascending=False).iloc[0:100]['price'], \"Price\",\"{}: Graph of distirbution top 100 restaurants' prices based on ratio of happiness VS sadness\".format(i), \"Number of restaurants\")"
   ]
  },
  {
   "cell_type": "code",
   "execution_count": null,
   "metadata": {},
   "outputs": [],
   "source": [
    "#Group restaurants based on region and prices\n",
    "\n",
    "for i in Places:\n",
    "    bar_chart(df[df['location']==i]['price'], \"Price\",\"{}: Graph of distirbution of prices of restaurants\".format(i), \"Number of restaurants\")"
   ]
  },
  {
   "cell_type": "code",
   "execution_count": null,
   "metadata": {},
   "outputs": [],
   "source": [
    "#find average price in HK\n",
    "for i in Places:\n",
    "    print(\"Average price of a meal in {}:\".format(i),df[df['location']==i]['price_int'].mean())"
   ]
  },
  {
   "cell_type": "code",
   "execution_count": null,
   "metadata": {},
   "outputs": [],
   "source": [
    "#find average price of meal in area\n",
    "for i in Places:\n",
    "    lowest = 10000000\n",
    "    highest = 0\n",
    "    restaurant_low = \"error\"\n",
    "    restaurant_high = \"error\"\n",
    "    for k in restaurant_type:\n",
    "        mean_price = df.loc[(df['food_type']==k) & (df['location']==i)]['price_int'].mean()\n",
    "        if mean_price < lowest:\n",
    "            restaurant_low = k\n",
    "            lowest = mean_price\n",
    "        if mean_price > highest:\n",
    "            restaurant_high = k\n",
    "            highest = mean_price\n",
    "        print(\"Average price of a {} meal in {}:\".format(k,i),mean_price)\n",
    "    print(\"-------------------------\")\n",
    "    print(\"Cheapest food is: {} meal, costing {}\".format(restaurant_low, lowest))\n",
    "    print(\"Most expensive food is: {} meal, costing {}\".format(restaurant_high, highest))\n",
    "    print(\"-------------------------\")\n",
    "    print(\"\")"
   ]
  },
  {
   "cell_type": "code",
   "execution_count": null,
   "metadata": {},
   "outputs": [],
   "source": [
    "#Find relationship of bookmarks VS happy\n",
    "for i in Places:\n",
    "    scatter_graph(df.loc[(df['location']==i)]['bookmark'],df.loc[(df['location']==i)]['happy'],\"Relationship between bookmark and happy in {}\".format(i))"
   ]
  },
  {
   "cell_type": "code",
   "execution_count": null,
   "metadata": {},
   "outputs": [],
   "source": [
    "visual = pd.plotting.scatter_matrix(df[['bookmark','happy','sad','price_int','happy_vs_sad']],c=df['food_int'],marker = 'o', s=5, hist_kwds={'bins':15}, figsize=(10,10))\n"
   ]
  },
  {
   "cell_type": "code",
   "execution_count": null,
   "metadata": {},
   "outputs": [],
   "source": [
    "#maps color to legend\n",
    "base_tags = pd.DataFrame({0,1,2,3,4,5,6,7,8,9})\n",
    "#model.inverse_transform(base_tags)\n",
    "\n",
    "plt.imshow([np.unique(df['food_int'])])\n",
    "plt.xticks(ticks=np.unique(df['food_int']),labels=food_model.inverse_transform(base_tags))\n",
    "#_ = plt.xticks(ticks=np.unique(df['food']),labels=model.inverse_transform(base_tags))"
   ]
  },
  {
   "cell_type": "code",
   "execution_count": null,
   "metadata": {},
   "outputs": [],
   "source": []
  }
 ],
 "metadata": {
  "kernelspec": {
   "display_name": "Python 3",
   "language": "python",
   "name": "python3"
  },
  "language_info": {
   "codemirror_mode": {
    "name": "ipython",
    "version": 3
   },
   "file_extension": ".py",
   "mimetype": "text/x-python",
   "name": "python",
   "nbconvert_exporter": "python",
   "pygments_lexer": "ipython3",
   "version": "3.8.5"
  }
 },
 "nbformat": 4,
 "nbformat_minor": 5
}
