{
 "cells": [
  {
   "cell_type": "code",
   "execution_count": 1,
   "id": "7ed9b1a4",
   "metadata": {},
   "outputs": [],
   "source": [
    "import pandas as pd\n",
    "import numpy as np\n",
    "from sklearn.preprocessing import OrdinalEncoder\n",
    "import matplotlib.pyplot as plt\n",
    "import seaborn as sns\n",
    "#df=pd.read_excel('restaurants.xlsx')"
   ]
  },
  {
   "cell_type": "code",
   "execution_count": 2,
   "id": "42c5ba05",
   "metadata": {},
   "outputs": [],
   "source": [
    "#df = pd.read_excel('restaurant_info_6Districts_Ju.xlsx')\n",
    "df = pd.read_excel('FinalProject/REST_Analysis_JAPANESE.xlsx')"
   ]
  },
  {
   "cell_type": "code",
   "execution_count": 34,
   "id": "6942d446",
   "metadata": {},
   "outputs": [],
   "source": [
    "pd.set_option('display.max_columns',40,'display.max_rows',40)"
   ]
  },
  {
   "cell_type": "code",
   "execution_count": 4,
   "id": "1ec382b7",
   "metadata": {},
   "outputs": [
    {
     "data": {
      "text/html": [
       "<style>.container { width:95% !important; }</style>"
      ],
      "text/plain": [
       "<IPython.core.display.HTML object>"
      ]
     },
     "metadata": {},
     "output_type": "display_data"
    }
   ],
   "source": [
    "#fit notebook cell to browser\n",
    "from IPython.core.display import display, HTML\n",
    "display(HTML(\"<style>.container { width:95% !important; }</style>\"))"
   ]
  },
  {
   "cell_type": "code",
   "execution_count": 9,
   "id": "d58b4503",
   "metadata": {},
   "outputs": [
    {
     "data": {
      "text/plain": [
       "Int64Index([   5,    8,   10,   30,  111,  116,  143,  165,  167,  201,  228,\n",
       "             252,  264,  267,  281,  293,  311,  329,  341,  347,  389,  430,\n",
       "             447,  454,  498,  507,  508,  533,  612,  614,  648,  653,  658,\n",
       "             672,  676,  686,  729,  739,  769,  777,  780,  805,  845,  848,\n",
       "             853,  863,  867,  873,  875,  881,  910,  935,  967, 1099, 1121,\n",
       "            1138, 1180, 1219, 1274, 1289],\n",
       "           dtype='int64')"
      ]
     },
     "execution_count": 9,
     "metadata": {},
     "output_type": "execute_result"
    }
   ],
   "source": [
    "df[df['food_type'].str.contains(\"eligible transactions\")].index"
   ]
  },
  {
   "cell_type": "markdown",
   "id": "557deffb",
   "metadata": {},
   "source": [
    "<h1>DATA CLEAN"
   ]
  },
  {
   "cell_type": "code",
   "execution_count": 10,
   "id": "f46693ee",
   "metadata": {},
   "outputs": [],
   "source": [
    "#remove titles\n",
    "#offender_index = df[df['happy']==\"happy\"].index\n",
    "#df= df.drop(offender_index)\n",
    "\n",
    "#remove asia miles\n",
    "asia_miles_index = df[df['food_type'].str.contains(\"eligible transactions\")].index\n",
    "df= df.drop(asia_miles_index)\n",
    "df = df.reset_index()\n",
    "df = df.drop('index',axis=1)"
   ]
  },
  {
   "cell_type": "code",
   "execution_count": 12,
   "id": "688990e0",
   "metadata": {},
   "outputs": [],
   "source": [
    "#drop duplicate entries with same name and location\n",
    "df.drop_duplicates(subset=['name', 'location'], keep='last',inplace = True)"
   ]
  },
  {
   "cell_type": "code",
   "execution_count": 13,
   "id": "d32564f3",
   "metadata": {},
   "outputs": [],
   "source": [
    "#change columns to float type\n",
    "df['happy'] = df['happy'].astype(float)\n",
    "df['sad'] = df['sad'].astype(float)\n",
    "df['bookmark'] = df['bookmark'].astype(float)"
   ]
  },
  {
   "cell_type": "code",
   "execution_count": 14,
   "id": "7739870a",
   "metadata": {},
   "outputs": [],
   "source": [
    "#enable sort by price\n",
    "df['price'] = pd.Categorical(df['price'], ['Below $50','$51-100', '$101-200', '$201-400', '$401-800', 'Above $801'])"
   ]
  },
  {
   "cell_type": "code",
   "execution_count": 15,
   "id": "91c78986",
   "metadata": {},
   "outputs": [],
   "source": [
    "#insert additional column of pure numeric prices\n",
    "df['price_int'] = df['price'].replace({\"Below $50\":25,\"$51-100\":75,\"$101-200\":150,\"$201-400\":300,\"$401-800\":600,\"Above $801\":1000})\n"
   ]
  },
  {
   "cell_type": "code",
   "execution_count": 16,
   "id": "7c88e4e7",
   "metadata": {},
   "outputs": [],
   "source": [
    "#define which food type to search\n",
    "restaurant_type = ['Japanese','Western','Hong Kong Style','Guangdong','International','Taiwan','Korean','Thai','Italian','Sichuan']\n",
    "restaurant_type_regex = \"Japanese|Western|Hong Kong Style|Guangdong|International|Taiwan|Korean|Thai|Italian|Sichuan\""
   ]
  },
  {
   "cell_type": "code",
   "execution_count": 17,
   "id": "f4c26a82",
   "metadata": {},
   "outputs": [],
   "source": [
    "#define locations\n",
    "Places = ['Causeway Bay','Central',\"Yuen Long\",\"Tsuen Wan\",\"Tsim Sha Tsui\",\"Mong Kok\"]"
   ]
  },
  {
   "cell_type": "code",
   "execution_count": 18,
   "id": "a118daf8",
   "metadata": {},
   "outputs": [],
   "source": [
    "#filter out restaurants who are in the majority\n",
    "df = df[df['food_type'].str.contains(restaurant_type_regex)]\n",
    "df.reset_index(inplace = True)\n",
    "df = df.drop('index',axis=1)"
   ]
  },
  {
   "cell_type": "code",
   "execution_count": 19,
   "id": "58413491",
   "metadata": {},
   "outputs": [
    {
     "data": {
      "text/plain": [
       "(1186, 19)"
      ]
     },
     "execution_count": 19,
     "metadata": {},
     "output_type": "execute_result"
    }
   ],
   "source": [
    "#give food type a number\n",
    "food_model = OrdinalEncoder()\n",
    "test = pd.DataFrame(food_model.fit_transform(df[['food_type']]))\n",
    "\n",
    "df = pd.concat([df,test],axis=1,join='inner')\n",
    "df = df.rename(columns={0:\"food_int\"})\n",
    "df.shape"
   ]
  },
  {
   "cell_type": "code",
   "execution_count": 20,
   "id": "f8a5cf48",
   "metadata": {},
   "outputs": [
    {
     "data": {
      "text/plain": [
       "(1186, 20)"
      ]
     },
     "execution_count": 20,
     "metadata": {},
     "output_type": "execute_result"
    }
   ],
   "source": [
    "#give location type a number\n",
    "location_model = OrdinalEncoder()\n",
    "test = pd.DataFrame(location_model.fit_transform(df[['location']]))\n",
    "\n",
    "df = pd.concat([df,test],axis=1,join='inner')\n",
    "df = df.rename(columns={0:\"location_int\"})\n",
    "df.shape"
   ]
  },
  {
   "cell_type": "code",
   "execution_count": 21,
   "id": "cc2137cf",
   "metadata": {},
   "outputs": [],
   "source": [
    "#introduce happy vs sad column\n",
    "df['happy_vs_sad'] = df['happy']/df['sad']\n",
    "df['happy_vs_sad'] = np.where(df['happy_vs_sad'] == np.inf, df['happy'], df['happy_vs_sad'])\n"
   ]
  },
  {
   "cell_type": "code",
   "execution_count": 22,
   "id": "36febdf2",
   "metadata": {},
   "outputs": [],
   "source": [
    "#df only has Japanese food left\n",
    "df = df[df['food_type']==\"Japanese\"]"
   ]
  },
  {
   "cell_type": "code",
   "execution_count": 23,
   "id": "8bed1340",
   "metadata": {},
   "outputs": [],
   "source": [
    "df['num_payment'] = df['pay_list'].str.count(',')+1\n",
    "df['num_facility'] = df['other_facility'].str.count(',')+1"
   ]
  },
  {
   "cell_type": "code",
   "execution_count": 24,
   "id": "11f38659",
   "metadata": {},
   "outputs": [],
   "source": [
    "df['payment_methods'] = df['pay_list'].str.split(',')\n",
    "df.reset_index(inplace=True, drop = True)"
   ]
  },
  {
   "cell_type": "code",
   "execution_count": 25,
   "id": "eaf0df8b",
   "metadata": {},
   "outputs": [
    {
     "data": {
      "text/html": [
       "<div>\n",
       "<style scoped>\n",
       "    .dataframe tbody tr th:only-of-type {\n",
       "        vertical-align: middle;\n",
       "    }\n",
       "\n",
       "    .dataframe tbody tr th {\n",
       "        vertical-align: top;\n",
       "    }\n",
       "\n",
       "    .dataframe thead th {\n",
       "        text-align: right;\n",
       "    }\n",
       "</style>\n",
       "<table border=\"1\" class=\"dataframe\">\n",
       "  <thead>\n",
       "    <tr style=\"text-align: right;\">\n",
       "      <th></th>\n",
       "      <th>bookmark</th>\n",
       "      <th>happy</th>\n",
       "      <th>sad</th>\n",
       "      <th>num_branch</th>\n",
       "      <th>num_seat</th>\n",
       "      <th>taste</th>\n",
       "      <th>decor</th>\n",
       "      <th>service</th>\n",
       "      <th>hygiene</th>\n",
       "      <th>value</th>\n",
       "      <th>overall</th>\n",
       "      <th>price_int</th>\n",
       "      <th>food_int</th>\n",
       "      <th>location_int</th>\n",
       "      <th>happy_vs_sad</th>\n",
       "      <th>num_payment</th>\n",
       "      <th>num_facility</th>\n",
       "    </tr>\n",
       "  </thead>\n",
       "  <tbody>\n",
       "    <tr>\n",
       "      <th>count</th>\n",
       "      <td>330.000000</td>\n",
       "      <td>330.000000</td>\n",
       "      <td>330.000000</td>\n",
       "      <td>330.000000</td>\n",
       "      <td>330.000000</td>\n",
       "      <td>330.000000</td>\n",
       "      <td>330.000000</td>\n",
       "      <td>330.000000</td>\n",
       "      <td>330.000000</td>\n",
       "      <td>330.000000</td>\n",
       "      <td>330.000000</td>\n",
       "      <td>330.000000</td>\n",
       "      <td>330.0</td>\n",
       "      <td>330.000000</td>\n",
       "      <td>330.000000</td>\n",
       "      <td>324.000000</td>\n",
       "      <td>301.000000</td>\n",
       "    </tr>\n",
       "    <tr>\n",
       "      <th>mean</th>\n",
       "      <td>12537.460606</td>\n",
       "      <td>222.024242</td>\n",
       "      <td>12.463636</td>\n",
       "      <td>2.424242</td>\n",
       "      <td>33.251515</td>\n",
       "      <td>3.742424</td>\n",
       "      <td>3.663636</td>\n",
       "      <td>3.630303</td>\n",
       "      <td>3.733333</td>\n",
       "      <td>3.345455</td>\n",
       "      <td>18.115152</td>\n",
       "      <td>272.500000</td>\n",
       "      <td>4.0</td>\n",
       "      <td>2.369697</td>\n",
       "      <td>40.830435</td>\n",
       "      <td>5.725309</td>\n",
       "      <td>5.375415</td>\n",
       "    </tr>\n",
       "    <tr>\n",
       "      <th>std</th>\n",
       "      <td>11268.156893</td>\n",
       "      <td>198.002301</td>\n",
       "      <td>18.449970</td>\n",
       "      <td>4.168417</td>\n",
       "      <td>57.056580</td>\n",
       "      <td>0.437963</td>\n",
       "      <td>0.479563</td>\n",
       "      <td>0.489702</td>\n",
       "      <td>0.442888</td>\n",
       "      <td>0.507147</td>\n",
       "      <td>1.769055</td>\n",
       "      <td>255.314708</td>\n",
       "      <td>0.0</td>\n",
       "      <td>1.731960</td>\n",
       "      <td>51.660722</td>\n",
       "      <td>2.621979</td>\n",
       "      <td>2.908939</td>\n",
       "    </tr>\n",
       "    <tr>\n",
       "      <th>min</th>\n",
       "      <td>384.000000</td>\n",
       "      <td>3.000000</td>\n",
       "      <td>0.000000</td>\n",
       "      <td>1.000000</td>\n",
       "      <td>0.000000</td>\n",
       "      <td>3.000000</td>\n",
       "      <td>2.000000</td>\n",
       "      <td>2.000000</td>\n",
       "      <td>3.000000</td>\n",
       "      <td>2.000000</td>\n",
       "      <td>13.000000</td>\n",
       "      <td>25.000000</td>\n",
       "      <td>4.0</td>\n",
       "      <td>0.000000</td>\n",
       "      <td>1.823529</td>\n",
       "      <td>1.000000</td>\n",
       "      <td>1.000000</td>\n",
       "    </tr>\n",
       "    <tr>\n",
       "      <th>25%</th>\n",
       "      <td>4644.250000</td>\n",
       "      <td>76.000000</td>\n",
       "      <td>3.000000</td>\n",
       "      <td>1.000000</td>\n",
       "      <td>0.000000</td>\n",
       "      <td>3.000000</td>\n",
       "      <td>3.000000</td>\n",
       "      <td>3.000000</td>\n",
       "      <td>3.000000</td>\n",
       "      <td>3.000000</td>\n",
       "      <td>17.000000</td>\n",
       "      <td>150.000000</td>\n",
       "      <td>4.0</td>\n",
       "      <td>1.000000</td>\n",
       "      <td>11.653846</td>\n",
       "      <td>4.000000</td>\n",
       "      <td>3.000000</td>\n",
       "    </tr>\n",
       "    <tr>\n",
       "      <th>50%</th>\n",
       "      <td>10117.000000</td>\n",
       "      <td>149.500000</td>\n",
       "      <td>6.000000</td>\n",
       "      <td>1.000000</td>\n",
       "      <td>0.000000</td>\n",
       "      <td>4.000000</td>\n",
       "      <td>4.000000</td>\n",
       "      <td>4.000000</td>\n",
       "      <td>4.000000</td>\n",
       "      <td>3.000000</td>\n",
       "      <td>19.000000</td>\n",
       "      <td>150.000000</td>\n",
       "      <td>4.0</td>\n",
       "      <td>2.000000</td>\n",
       "      <td>23.780303</td>\n",
       "      <td>6.000000</td>\n",
       "      <td>5.000000</td>\n",
       "    </tr>\n",
       "    <tr>\n",
       "      <th>75%</th>\n",
       "      <td>16127.250000</td>\n",
       "      <td>312.250000</td>\n",
       "      <td>14.750000</td>\n",
       "      <td>2.000000</td>\n",
       "      <td>50.000000</td>\n",
       "      <td>4.000000</td>\n",
       "      <td>4.000000</td>\n",
       "      <td>4.000000</td>\n",
       "      <td>4.000000</td>\n",
       "      <td>4.000000</td>\n",
       "      <td>20.000000</td>\n",
       "      <td>300.000000</td>\n",
       "      <td>4.0</td>\n",
       "      <td>4.000000</td>\n",
       "      <td>44.272727</td>\n",
       "      <td>7.000000</td>\n",
       "      <td>8.000000</td>\n",
       "    </tr>\n",
       "    <tr>\n",
       "      <th>max</th>\n",
       "      <td>86010.000000</td>\n",
       "      <td>1065.000000</td>\n",
       "      <td>123.000000</td>\n",
       "      <td>64.000000</td>\n",
       "      <td>360.000000</td>\n",
       "      <td>4.000000</td>\n",
       "      <td>4.000000</td>\n",
       "      <td>4.000000</td>\n",
       "      <td>4.000000</td>\n",
       "      <td>4.000000</td>\n",
       "      <td>20.000000</td>\n",
       "      <td>1000.000000</td>\n",
       "      <td>4.0</td>\n",
       "      <td>5.000000</td>\n",
       "      <td>425.000000</td>\n",
       "      <td>12.000000</td>\n",
       "      <td>14.000000</td>\n",
       "    </tr>\n",
       "  </tbody>\n",
       "</table>\n",
       "</div>"
      ],
      "text/plain": [
       "           bookmark        happy         sad  num_branch    num_seat  \\\n",
       "count    330.000000   330.000000  330.000000  330.000000  330.000000   \n",
       "mean   12537.460606   222.024242   12.463636    2.424242   33.251515   \n",
       "std    11268.156893   198.002301   18.449970    4.168417   57.056580   \n",
       "min      384.000000     3.000000    0.000000    1.000000    0.000000   \n",
       "25%     4644.250000    76.000000    3.000000    1.000000    0.000000   \n",
       "50%    10117.000000   149.500000    6.000000    1.000000    0.000000   \n",
       "75%    16127.250000   312.250000   14.750000    2.000000   50.000000   \n",
       "max    86010.000000  1065.000000  123.000000   64.000000  360.000000   \n",
       "\n",
       "            taste       decor     service     hygiene       value     overall  \\\n",
       "count  330.000000  330.000000  330.000000  330.000000  330.000000  330.000000   \n",
       "mean     3.742424    3.663636    3.630303    3.733333    3.345455   18.115152   \n",
       "std      0.437963    0.479563    0.489702    0.442888    0.507147    1.769055   \n",
       "min      3.000000    2.000000    2.000000    3.000000    2.000000   13.000000   \n",
       "25%      3.000000    3.000000    3.000000    3.000000    3.000000   17.000000   \n",
       "50%      4.000000    4.000000    4.000000    4.000000    3.000000   19.000000   \n",
       "75%      4.000000    4.000000    4.000000    4.000000    4.000000   20.000000   \n",
       "max      4.000000    4.000000    4.000000    4.000000    4.000000   20.000000   \n",
       "\n",
       "         price_int  food_int  location_int  happy_vs_sad  num_payment  \\\n",
       "count   330.000000     330.0    330.000000    330.000000   324.000000   \n",
       "mean    272.500000       4.0      2.369697     40.830435     5.725309   \n",
       "std     255.314708       0.0      1.731960     51.660722     2.621979   \n",
       "min      25.000000       4.0      0.000000      1.823529     1.000000   \n",
       "25%     150.000000       4.0      1.000000     11.653846     4.000000   \n",
       "50%     150.000000       4.0      2.000000     23.780303     6.000000   \n",
       "75%     300.000000       4.0      4.000000     44.272727     7.000000   \n",
       "max    1000.000000       4.0      5.000000    425.000000    12.000000   \n",
       "\n",
       "       num_facility  \n",
       "count    301.000000  \n",
       "mean       5.375415  \n",
       "std        2.908939  \n",
       "min        1.000000  \n",
       "25%        3.000000  \n",
       "50%        5.000000  \n",
       "75%        8.000000  \n",
       "max       14.000000  "
      ]
     },
     "execution_count": 25,
     "metadata": {},
     "output_type": "execute_result"
    }
   ],
   "source": [
    "df.describe()"
   ]
  },
  {
   "cell_type": "code",
   "execution_count": 26,
   "id": "e04d75e4",
   "metadata": {},
   "outputs": [],
   "source": [
    "#categorically split payment methods\n",
    "one_hot = pd.get_dummies(df['payment_methods'].apply(pd.Series).stack()).sum(level=0)\n",
    "df = df.merge(one_hot,how='outer',left_index = True, right_index=True)"
   ]
  },
  {
   "cell_type": "code",
   "execution_count": 27,
   "id": "63d7527f",
   "metadata": {},
   "outputs": [],
   "source": [
    "#ignore all payment methods who are not in more than 50% of restaurants\n",
    "arr_keep = ['name','price','food_type','location']\n",
    "for i,j in list((df.describe().iloc[1]>0.5).items()):\n",
    "    if j:\n",
    "        arr_keep.append(i)\n",
    "df = df[arr_keep]"
   ]
  },
  {
   "cell_type": "code",
   "execution_count": 28,
   "id": "84698c40",
   "metadata": {},
   "outputs": [],
   "source": [
    "def district(x):\n",
    "    if x == \"Causeway Bay\" or x == \"Central\":\n",
    "        return \"HK\"\n",
    "    if x == \"Yuen Long\" or x == \"Tsuen Wan\":\n",
    "        return \"NT\"\n",
    "    else:\n",
    "        return \"KL\"\n",
    "    \n",
    "df['location'] = df['location'].apply(lambda x: district(x))"
   ]
  },
  {
   "cell_type": "code",
   "execution_count": 47,
   "id": "4ce7ca3f",
   "metadata": {},
   "outputs": [
    {
     "data": {
      "text/html": [
       "<div>\n",
       "<style scoped>\n",
       "    .dataframe tbody tr th:only-of-type {\n",
       "        vertical-align: middle;\n",
       "    }\n",
       "\n",
       "    .dataframe tbody tr th {\n",
       "        vertical-align: top;\n",
       "    }\n",
       "\n",
       "    .dataframe thead th {\n",
       "        text-align: right;\n",
       "    }\n",
       "</style>\n",
       "<table border=\"1\" class=\"dataframe\">\n",
       "  <thead>\n",
       "    <tr style=\"text-align: right;\">\n",
       "      <th></th>\n",
       "      <th>bookmark</th>\n",
       "      <th>happy</th>\n",
       "      <th>sad</th>\n",
       "      <th>num_branch</th>\n",
       "      <th>num_seat</th>\n",
       "      <th>taste</th>\n",
       "      <th>decor</th>\n",
       "      <th>service</th>\n",
       "      <th>hygiene</th>\n",
       "      <th>value</th>\n",
       "      <th>overall</th>\n",
       "      <th>price_int</th>\n",
       "      <th>food_int</th>\n",
       "      <th>location_int</th>\n",
       "      <th>happy_vs_sad</th>\n",
       "      <th>num_payment</th>\n",
       "      <th>num_facility</th>\n",
       "      <th>Alipay</th>\n",
       "      <th>AlipayHK</th>\n",
       "      <th>Cash</th>\n",
       "      <th>Master</th>\n",
       "      <th>UnionPay</th>\n",
       "      <th>Visa</th>\n",
       "    </tr>\n",
       "  </thead>\n",
       "  <tbody>\n",
       "    <tr>\n",
       "      <th>count</th>\n",
       "      <td>117.000000</td>\n",
       "      <td>117.000000</td>\n",
       "      <td>117.000000</td>\n",
       "      <td>117.000000</td>\n",
       "      <td>117.000000</td>\n",
       "      <td>117.000000</td>\n",
       "      <td>117.000000</td>\n",
       "      <td>117.000000</td>\n",
       "      <td>117.000000</td>\n",
       "      <td>117.000000</td>\n",
       "      <td>117.000000</td>\n",
       "      <td>117.000000</td>\n",
       "      <td>117.0</td>\n",
       "      <td>117.000000</td>\n",
       "      <td>117.000000</td>\n",
       "      <td>117.000000</td>\n",
       "      <td>111.000000</td>\n",
       "      <td>117.000000</td>\n",
       "      <td>117.000000</td>\n",
       "      <td>117.000000</td>\n",
       "      <td>117.000000</td>\n",
       "      <td>117.000000</td>\n",
       "      <td>117.000000</td>\n",
       "    </tr>\n",
       "    <tr>\n",
       "      <th>mean</th>\n",
       "      <td>14415.188034</td>\n",
       "      <td>228.598291</td>\n",
       "      <td>9.931624</td>\n",
       "      <td>1.777778</td>\n",
       "      <td>36.487179</td>\n",
       "      <td>3.863248</td>\n",
       "      <td>3.743590</td>\n",
       "      <td>3.692308</td>\n",
       "      <td>3.863248</td>\n",
       "      <td>3.264957</td>\n",
       "      <td>18.427350</td>\n",
       "      <td>365.384615</td>\n",
       "      <td>4.0</td>\n",
       "      <td>0.384615</td>\n",
       "      <td>44.033857</td>\n",
       "      <td>6.076923</td>\n",
       "      <td>5.855856</td>\n",
       "      <td>0.589744</td>\n",
       "      <td>0.606838</td>\n",
       "      <td>0.982906</td>\n",
       "      <td>0.888889</td>\n",
       "      <td>0.683761</td>\n",
       "      <td>0.888889</td>\n",
       "    </tr>\n",
       "    <tr>\n",
       "      <th>std</th>\n",
       "      <td>8701.468334</td>\n",
       "      <td>209.282974</td>\n",
       "      <td>12.378183</td>\n",
       "      <td>1.445034</td>\n",
       "      <td>47.541020</td>\n",
       "      <td>0.345063</td>\n",
       "      <td>0.438529</td>\n",
       "      <td>0.463524</td>\n",
       "      <td>0.345063</td>\n",
       "      <td>0.480538</td>\n",
       "      <td>1.521774</td>\n",
       "      <td>307.693137</td>\n",
       "      <td>0.0</td>\n",
       "      <td>0.488597</td>\n",
       "      <td>54.008707</td>\n",
       "      <td>2.385856</td>\n",
       "      <td>2.938295</td>\n",
       "      <td>0.493996</td>\n",
       "      <td>0.490553</td>\n",
       "      <td>0.130179</td>\n",
       "      <td>0.315621</td>\n",
       "      <td>0.467008</td>\n",
       "      <td>0.315621</td>\n",
       "    </tr>\n",
       "    <tr>\n",
       "      <th>min</th>\n",
       "      <td>2129.000000</td>\n",
       "      <td>24.000000</td>\n",
       "      <td>0.000000</td>\n",
       "      <td>1.000000</td>\n",
       "      <td>0.000000</td>\n",
       "      <td>3.000000</td>\n",
       "      <td>3.000000</td>\n",
       "      <td>3.000000</td>\n",
       "      <td>3.000000</td>\n",
       "      <td>2.000000</td>\n",
       "      <td>14.000000</td>\n",
       "      <td>25.000000</td>\n",
       "      <td>4.0</td>\n",
       "      <td>0.000000</td>\n",
       "      <td>3.750000</td>\n",
       "      <td>1.000000</td>\n",
       "      <td>1.000000</td>\n",
       "      <td>0.000000</td>\n",
       "      <td>0.000000</td>\n",
       "      <td>0.000000</td>\n",
       "      <td>0.000000</td>\n",
       "      <td>0.000000</td>\n",
       "      <td>0.000000</td>\n",
       "    </tr>\n",
       "    <tr>\n",
       "      <th>25%</th>\n",
       "      <td>8977.000000</td>\n",
       "      <td>76.000000</td>\n",
       "      <td>3.000000</td>\n",
       "      <td>1.000000</td>\n",
       "      <td>0.000000</td>\n",
       "      <td>4.000000</td>\n",
       "      <td>3.000000</td>\n",
       "      <td>3.000000</td>\n",
       "      <td>4.000000</td>\n",
       "      <td>3.000000</td>\n",
       "      <td>17.000000</td>\n",
       "      <td>150.000000</td>\n",
       "      <td>4.0</td>\n",
       "      <td>0.000000</td>\n",
       "      <td>14.200000</td>\n",
       "      <td>5.000000</td>\n",
       "      <td>4.000000</td>\n",
       "      <td>0.000000</td>\n",
       "      <td>0.000000</td>\n",
       "      <td>1.000000</td>\n",
       "      <td>1.000000</td>\n",
       "      <td>0.000000</td>\n",
       "      <td>1.000000</td>\n",
       "    </tr>\n",
       "    <tr>\n",
       "      <th>50%</th>\n",
       "      <td>11815.000000</td>\n",
       "      <td>141.000000</td>\n",
       "      <td>5.000000</td>\n",
       "      <td>1.000000</td>\n",
       "      <td>24.000000</td>\n",
       "      <td>4.000000</td>\n",
       "      <td>4.000000</td>\n",
       "      <td>4.000000</td>\n",
       "      <td>4.000000</td>\n",
       "      <td>3.000000</td>\n",
       "      <td>19.000000</td>\n",
       "      <td>300.000000</td>\n",
       "      <td>4.0</td>\n",
       "      <td>0.000000</td>\n",
       "      <td>26.000000</td>\n",
       "      <td>6.000000</td>\n",
       "      <td>6.000000</td>\n",
       "      <td>1.000000</td>\n",
       "      <td>1.000000</td>\n",
       "      <td>1.000000</td>\n",
       "      <td>1.000000</td>\n",
       "      <td>1.000000</td>\n",
       "      <td>1.000000</td>\n",
       "    </tr>\n",
       "    <tr>\n",
       "      <th>75%</th>\n",
       "      <td>18321.000000</td>\n",
       "      <td>328.000000</td>\n",
       "      <td>13.000000</td>\n",
       "      <td>2.000000</td>\n",
       "      <td>50.000000</td>\n",
       "      <td>4.000000</td>\n",
       "      <td>4.000000</td>\n",
       "      <td>4.000000</td>\n",
       "      <td>4.000000</td>\n",
       "      <td>4.000000</td>\n",
       "      <td>19.000000</td>\n",
       "      <td>600.000000</td>\n",
       "      <td>4.0</td>\n",
       "      <td>1.000000</td>\n",
       "      <td>50.500000</td>\n",
       "      <td>8.000000</td>\n",
       "      <td>8.000000</td>\n",
       "      <td>1.000000</td>\n",
       "      <td>1.000000</td>\n",
       "      <td>1.000000</td>\n",
       "      <td>1.000000</td>\n",
       "      <td>1.000000</td>\n",
       "      <td>1.000000</td>\n",
       "    </tr>\n",
       "    <tr>\n",
       "      <th>max</th>\n",
       "      <td>45755.000000</td>\n",
       "      <td>1065.000000</td>\n",
       "      <td>58.000000</td>\n",
       "      <td>9.000000</td>\n",
       "      <td>280.000000</td>\n",
       "      <td>4.000000</td>\n",
       "      <td>4.000000</td>\n",
       "      <td>4.000000</td>\n",
       "      <td>4.000000</td>\n",
       "      <td>4.000000</td>\n",
       "      <td>20.000000</td>\n",
       "      <td>1000.000000</td>\n",
       "      <td>4.0</td>\n",
       "      <td>1.000000</td>\n",
       "      <td>348.000000</td>\n",
       "      <td>12.000000</td>\n",
       "      <td>14.000000</td>\n",
       "      <td>1.000000</td>\n",
       "      <td>1.000000</td>\n",
       "      <td>1.000000</td>\n",
       "      <td>1.000000</td>\n",
       "      <td>1.000000</td>\n",
       "      <td>1.000000</td>\n",
       "    </tr>\n",
       "  </tbody>\n",
       "</table>\n",
       "</div>"
      ],
      "text/plain": [
       "           bookmark        happy         sad  num_branch    num_seat  \\\n",
       "count    117.000000   117.000000  117.000000  117.000000  117.000000   \n",
       "mean   14415.188034   228.598291    9.931624    1.777778   36.487179   \n",
       "std     8701.468334   209.282974   12.378183    1.445034   47.541020   \n",
       "min     2129.000000    24.000000    0.000000    1.000000    0.000000   \n",
       "25%     8977.000000    76.000000    3.000000    1.000000    0.000000   \n",
       "50%    11815.000000   141.000000    5.000000    1.000000   24.000000   \n",
       "75%    18321.000000   328.000000   13.000000    2.000000   50.000000   \n",
       "max    45755.000000  1065.000000   58.000000    9.000000  280.000000   \n",
       "\n",
       "            taste       decor     service     hygiene       value     overall  \\\n",
       "count  117.000000  117.000000  117.000000  117.000000  117.000000  117.000000   \n",
       "mean     3.863248    3.743590    3.692308    3.863248    3.264957   18.427350   \n",
       "std      0.345063    0.438529    0.463524    0.345063    0.480538    1.521774   \n",
       "min      3.000000    3.000000    3.000000    3.000000    2.000000   14.000000   \n",
       "25%      4.000000    3.000000    3.000000    4.000000    3.000000   17.000000   \n",
       "50%      4.000000    4.000000    4.000000    4.000000    3.000000   19.000000   \n",
       "75%      4.000000    4.000000    4.000000    4.000000    4.000000   19.000000   \n",
       "max      4.000000    4.000000    4.000000    4.000000    4.000000   20.000000   \n",
       "\n",
       "         price_int  food_int  location_int  happy_vs_sad  num_payment  \\\n",
       "count   117.000000     117.0    117.000000    117.000000   117.000000   \n",
       "mean    365.384615       4.0      0.384615     44.033857     6.076923   \n",
       "std     307.693137       0.0      0.488597     54.008707     2.385856   \n",
       "min      25.000000       4.0      0.000000      3.750000     1.000000   \n",
       "25%     150.000000       4.0      0.000000     14.200000     5.000000   \n",
       "50%     300.000000       4.0      0.000000     26.000000     6.000000   \n",
       "75%     600.000000       4.0      1.000000     50.500000     8.000000   \n",
       "max    1000.000000       4.0      1.000000    348.000000    12.000000   \n",
       "\n",
       "       num_facility      Alipay    AlipayHK        Cash      Master  \\\n",
       "count    111.000000  117.000000  117.000000  117.000000  117.000000   \n",
       "mean       5.855856    0.589744    0.606838    0.982906    0.888889   \n",
       "std        2.938295    0.493996    0.490553    0.130179    0.315621   \n",
       "min        1.000000    0.000000    0.000000    0.000000    0.000000   \n",
       "25%        4.000000    0.000000    0.000000    1.000000    1.000000   \n",
       "50%        6.000000    1.000000    1.000000    1.000000    1.000000   \n",
       "75%        8.000000    1.000000    1.000000    1.000000    1.000000   \n",
       "max       14.000000    1.000000    1.000000    1.000000    1.000000   \n",
       "\n",
       "         UnionPay        Visa  \n",
       "count  117.000000  117.000000  \n",
       "mean     0.683761    0.888889  \n",
       "std      0.467008    0.315621  \n",
       "min      0.000000    0.000000  \n",
       "25%      0.000000    1.000000  \n",
       "50%      1.000000    1.000000  \n",
       "75%      1.000000    1.000000  \n",
       "max      1.000000    1.000000  "
      ]
     },
     "metadata": {},
     "output_type": "display_data"
    },
    {
     "data": {
      "text/html": [
       "<div>\n",
       "<style scoped>\n",
       "    .dataframe tbody tr th:only-of-type {\n",
       "        vertical-align: middle;\n",
       "    }\n",
       "\n",
       "    .dataframe tbody tr th {\n",
       "        vertical-align: top;\n",
       "    }\n",
       "\n",
       "    .dataframe thead th {\n",
       "        text-align: right;\n",
       "    }\n",
       "</style>\n",
       "<table border=\"1\" class=\"dataframe\">\n",
       "  <thead>\n",
       "    <tr style=\"text-align: right;\">\n",
       "      <th></th>\n",
       "      <th>bookmark</th>\n",
       "      <th>happy</th>\n",
       "      <th>sad</th>\n",
       "      <th>num_branch</th>\n",
       "      <th>num_seat</th>\n",
       "      <th>taste</th>\n",
       "      <th>decor</th>\n",
       "      <th>service</th>\n",
       "      <th>hygiene</th>\n",
       "      <th>value</th>\n",
       "      <th>overall</th>\n",
       "      <th>price_int</th>\n",
       "      <th>food_int</th>\n",
       "      <th>location_int</th>\n",
       "      <th>happy_vs_sad</th>\n",
       "      <th>num_payment</th>\n",
       "      <th>num_facility</th>\n",
       "      <th>Alipay</th>\n",
       "      <th>AlipayHK</th>\n",
       "      <th>Cash</th>\n",
       "      <th>Master</th>\n",
       "      <th>UnionPay</th>\n",
       "      <th>Visa</th>\n",
       "    </tr>\n",
       "  </thead>\n",
       "  <tbody>\n",
       "    <tr>\n",
       "      <th>count</th>\n",
       "      <td>111.000000</td>\n",
       "      <td>111.000000</td>\n",
       "      <td>111.000000</td>\n",
       "      <td>111.000000</td>\n",
       "      <td>111.000000</td>\n",
       "      <td>111.000000</td>\n",
       "      <td>111.000000</td>\n",
       "      <td>111.000000</td>\n",
       "      <td>111.000000</td>\n",
       "      <td>111.000000</td>\n",
       "      <td>111.000000</td>\n",
       "      <td>111.000000</td>\n",
       "      <td>111.0</td>\n",
       "      <td>111.000000</td>\n",
       "      <td>111.000000</td>\n",
       "      <td>110.000000</td>\n",
       "      <td>103.000000</td>\n",
       "      <td>110.000000</td>\n",
       "      <td>110.000000</td>\n",
       "      <td>110.0</td>\n",
       "      <td>110.000000</td>\n",
       "      <td>110.000000</td>\n",
       "      <td>110.000000</td>\n",
       "    </tr>\n",
       "    <tr>\n",
       "      <th>mean</th>\n",
       "      <td>17119.288288</td>\n",
       "      <td>300.567568</td>\n",
       "      <td>18.873874</td>\n",
       "      <td>2.090090</td>\n",
       "      <td>45.594595</td>\n",
       "      <td>3.747748</td>\n",
       "      <td>3.666667</td>\n",
       "      <td>3.666667</td>\n",
       "      <td>3.693694</td>\n",
       "      <td>3.387387</td>\n",
       "      <td>18.162162</td>\n",
       "      <td>238.963964</td>\n",
       "      <td>4.0</td>\n",
       "      <td>2.549550</td>\n",
       "      <td>43.854300</td>\n",
       "      <td>6.218182</td>\n",
       "      <td>5.844660</td>\n",
       "      <td>0.654545</td>\n",
       "      <td>0.636364</td>\n",
       "      <td>1.0</td>\n",
       "      <td>0.845455</td>\n",
       "      <td>0.672727</td>\n",
       "      <td>0.836364</td>\n",
       "    </tr>\n",
       "    <tr>\n",
       "      <th>std</th>\n",
       "      <td>14130.542042</td>\n",
       "      <td>204.929949</td>\n",
       "      <td>25.606149</td>\n",
       "      <td>2.011555</td>\n",
       "      <td>77.712451</td>\n",
       "      <td>0.436275</td>\n",
       "      <td>0.473542</td>\n",
       "      <td>0.473542</td>\n",
       "      <td>0.463049</td>\n",
       "      <td>0.525204</td>\n",
       "      <td>1.781422</td>\n",
       "      <td>172.669044</td>\n",
       "      <td>0.0</td>\n",
       "      <td>0.499795</td>\n",
       "      <td>56.638370</td>\n",
       "      <td>2.717196</td>\n",
       "      <td>2.851753</td>\n",
       "      <td>0.477693</td>\n",
       "      <td>0.483247</td>\n",
       "      <td>0.0</td>\n",
       "      <td>0.363125</td>\n",
       "      <td>0.471365</td>\n",
       "      <td>0.371638</td>\n",
       "    </tr>\n",
       "    <tr>\n",
       "      <th>min</th>\n",
       "      <td>2028.000000</td>\n",
       "      <td>57.000000</td>\n",
       "      <td>0.000000</td>\n",
       "      <td>1.000000</td>\n",
       "      <td>0.000000</td>\n",
       "      <td>3.000000</td>\n",
       "      <td>3.000000</td>\n",
       "      <td>3.000000</td>\n",
       "      <td>3.000000</td>\n",
       "      <td>2.000000</td>\n",
       "      <td>14.000000</td>\n",
       "      <td>25.000000</td>\n",
       "      <td>4.0</td>\n",
       "      <td>2.000000</td>\n",
       "      <td>3.098765</td>\n",
       "      <td>1.000000</td>\n",
       "      <td>1.000000</td>\n",
       "      <td>0.000000</td>\n",
       "      <td>0.000000</td>\n",
       "      <td>1.0</td>\n",
       "      <td>0.000000</td>\n",
       "      <td>0.000000</td>\n",
       "      <td>0.000000</td>\n",
       "    </tr>\n",
       "    <tr>\n",
       "      <th>25%</th>\n",
       "      <td>7713.500000</td>\n",
       "      <td>138.000000</td>\n",
       "      <td>4.000000</td>\n",
       "      <td>1.000000</td>\n",
       "      <td>0.000000</td>\n",
       "      <td>3.500000</td>\n",
       "      <td>3.000000</td>\n",
       "      <td>3.000000</td>\n",
       "      <td>3.000000</td>\n",
       "      <td>3.000000</td>\n",
       "      <td>17.000000</td>\n",
       "      <td>150.000000</td>\n",
       "      <td>4.0</td>\n",
       "      <td>2.000000</td>\n",
       "      <td>11.745902</td>\n",
       "      <td>4.250000</td>\n",
       "      <td>4.000000</td>\n",
       "      <td>0.000000</td>\n",
       "      <td>0.000000</td>\n",
       "      <td>1.0</td>\n",
       "      <td>1.000000</td>\n",
       "      <td>0.000000</td>\n",
       "      <td>1.000000</td>\n",
       "    </tr>\n",
       "    <tr>\n",
       "      <th>50%</th>\n",
       "      <td>12664.000000</td>\n",
       "      <td>219.000000</td>\n",
       "      <td>9.000000</td>\n",
       "      <td>1.000000</td>\n",
       "      <td>18.000000</td>\n",
       "      <td>4.000000</td>\n",
       "      <td>4.000000</td>\n",
       "      <td>4.000000</td>\n",
       "      <td>4.000000</td>\n",
       "      <td>3.000000</td>\n",
       "      <td>19.000000</td>\n",
       "      <td>150.000000</td>\n",
       "      <td>4.0</td>\n",
       "      <td>3.000000</td>\n",
       "      <td>23.900000</td>\n",
       "      <td>6.000000</td>\n",
       "      <td>6.000000</td>\n",
       "      <td>1.000000</td>\n",
       "      <td>1.000000</td>\n",
       "      <td>1.0</td>\n",
       "      <td>1.000000</td>\n",
       "      <td>1.000000</td>\n",
       "      <td>1.000000</td>\n",
       "    </tr>\n",
       "    <tr>\n",
       "      <th>75%</th>\n",
       "      <td>20940.000000</td>\n",
       "      <td>457.500000</td>\n",
       "      <td>23.000000</td>\n",
       "      <td>2.000000</td>\n",
       "      <td>54.000000</td>\n",
       "      <td>4.000000</td>\n",
       "      <td>4.000000</td>\n",
       "      <td>4.000000</td>\n",
       "      <td>4.000000</td>\n",
       "      <td>4.000000</td>\n",
       "      <td>20.000000</td>\n",
       "      <td>300.000000</td>\n",
       "      <td>4.0</td>\n",
       "      <td>3.000000</td>\n",
       "      <td>45.113636</td>\n",
       "      <td>8.000000</td>\n",
       "      <td>8.000000</td>\n",
       "      <td>1.000000</td>\n",
       "      <td>1.000000</td>\n",
       "      <td>1.0</td>\n",
       "      <td>1.000000</td>\n",
       "      <td>1.000000</td>\n",
       "      <td>1.000000</td>\n",
       "    </tr>\n",
       "    <tr>\n",
       "      <th>max</th>\n",
       "      <td>86010.000000</td>\n",
       "      <td>895.000000</td>\n",
       "      <td>123.000000</td>\n",
       "      <td>11.000000</td>\n",
       "      <td>360.000000</td>\n",
       "      <td>4.000000</td>\n",
       "      <td>4.000000</td>\n",
       "      <td>4.000000</td>\n",
       "      <td>4.000000</td>\n",
       "      <td>4.000000</td>\n",
       "      <td>20.000000</td>\n",
       "      <td>1000.000000</td>\n",
       "      <td>4.0</td>\n",
       "      <td>3.000000</td>\n",
       "      <td>425.000000</td>\n",
       "      <td>12.000000</td>\n",
       "      <td>13.000000</td>\n",
       "      <td>1.000000</td>\n",
       "      <td>1.000000</td>\n",
       "      <td>1.0</td>\n",
       "      <td>1.000000</td>\n",
       "      <td>1.000000</td>\n",
       "      <td>1.000000</td>\n",
       "    </tr>\n",
       "  </tbody>\n",
       "</table>\n",
       "</div>"
      ],
      "text/plain": [
       "           bookmark       happy         sad  num_branch    num_seat  \\\n",
       "count    111.000000  111.000000  111.000000  111.000000  111.000000   \n",
       "mean   17119.288288  300.567568   18.873874    2.090090   45.594595   \n",
       "std    14130.542042  204.929949   25.606149    2.011555   77.712451   \n",
       "min     2028.000000   57.000000    0.000000    1.000000    0.000000   \n",
       "25%     7713.500000  138.000000    4.000000    1.000000    0.000000   \n",
       "50%    12664.000000  219.000000    9.000000    1.000000   18.000000   \n",
       "75%    20940.000000  457.500000   23.000000    2.000000   54.000000   \n",
       "max    86010.000000  895.000000  123.000000   11.000000  360.000000   \n",
       "\n",
       "            taste       decor     service     hygiene       value     overall  \\\n",
       "count  111.000000  111.000000  111.000000  111.000000  111.000000  111.000000   \n",
       "mean     3.747748    3.666667    3.666667    3.693694    3.387387   18.162162   \n",
       "std      0.436275    0.473542    0.473542    0.463049    0.525204    1.781422   \n",
       "min      3.000000    3.000000    3.000000    3.000000    2.000000   14.000000   \n",
       "25%      3.500000    3.000000    3.000000    3.000000    3.000000   17.000000   \n",
       "50%      4.000000    4.000000    4.000000    4.000000    3.000000   19.000000   \n",
       "75%      4.000000    4.000000    4.000000    4.000000    4.000000   20.000000   \n",
       "max      4.000000    4.000000    4.000000    4.000000    4.000000   20.000000   \n",
       "\n",
       "         price_int  food_int  location_int  happy_vs_sad  num_payment  \\\n",
       "count   111.000000     111.0    111.000000    111.000000   110.000000   \n",
       "mean    238.963964       4.0      2.549550     43.854300     6.218182   \n",
       "std     172.669044       0.0      0.499795     56.638370     2.717196   \n",
       "min      25.000000       4.0      2.000000      3.098765     1.000000   \n",
       "25%     150.000000       4.0      2.000000     11.745902     4.250000   \n",
       "50%     150.000000       4.0      3.000000     23.900000     6.000000   \n",
       "75%     300.000000       4.0      3.000000     45.113636     8.000000   \n",
       "max    1000.000000       4.0      3.000000    425.000000    12.000000   \n",
       "\n",
       "       num_facility      Alipay    AlipayHK   Cash      Master    UnionPay  \\\n",
       "count    103.000000  110.000000  110.000000  110.0  110.000000  110.000000   \n",
       "mean       5.844660    0.654545    0.636364    1.0    0.845455    0.672727   \n",
       "std        2.851753    0.477693    0.483247    0.0    0.363125    0.471365   \n",
       "min        1.000000    0.000000    0.000000    1.0    0.000000    0.000000   \n",
       "25%        4.000000    0.000000    0.000000    1.0    1.000000    0.000000   \n",
       "50%        6.000000    1.000000    1.000000    1.0    1.000000    1.000000   \n",
       "75%        8.000000    1.000000    1.000000    1.0    1.000000    1.000000   \n",
       "max       13.000000    1.000000    1.000000    1.0    1.000000    1.000000   \n",
       "\n",
       "             Visa  \n",
       "count  110.000000  \n",
       "mean     0.836364  \n",
       "std      0.371638  \n",
       "min      0.000000  \n",
       "25%      1.000000  \n",
       "50%      1.000000  \n",
       "75%      1.000000  \n",
       "max      1.000000  "
      ]
     },
     "metadata": {},
     "output_type": "display_data"
    },
    {
     "data": {
      "text/html": [
       "<div>\n",
       "<style scoped>\n",
       "    .dataframe tbody tr th:only-of-type {\n",
       "        vertical-align: middle;\n",
       "    }\n",
       "\n",
       "    .dataframe tbody tr th {\n",
       "        vertical-align: top;\n",
       "    }\n",
       "\n",
       "    .dataframe thead th {\n",
       "        text-align: right;\n",
       "    }\n",
       "</style>\n",
       "<table border=\"1\" class=\"dataframe\">\n",
       "  <thead>\n",
       "    <tr style=\"text-align: right;\">\n",
       "      <th></th>\n",
       "      <th>bookmark</th>\n",
       "      <th>happy</th>\n",
       "      <th>sad</th>\n",
       "      <th>num_branch</th>\n",
       "      <th>num_seat</th>\n",
       "      <th>taste</th>\n",
       "      <th>decor</th>\n",
       "      <th>service</th>\n",
       "      <th>hygiene</th>\n",
       "      <th>value</th>\n",
       "      <th>overall</th>\n",
       "      <th>price_int</th>\n",
       "      <th>food_int</th>\n",
       "      <th>location_int</th>\n",
       "      <th>happy_vs_sad</th>\n",
       "      <th>num_payment</th>\n",
       "      <th>num_facility</th>\n",
       "      <th>Alipay</th>\n",
       "      <th>AlipayHK</th>\n",
       "      <th>Cash</th>\n",
       "      <th>Master</th>\n",
       "      <th>UnionPay</th>\n",
       "      <th>Visa</th>\n",
       "    </tr>\n",
       "  </thead>\n",
       "  <tbody>\n",
       "    <tr>\n",
       "      <th>count</th>\n",
       "      <td>102.000000</td>\n",
       "      <td>102.000000</td>\n",
       "      <td>102.000000</td>\n",
       "      <td>102.000000</td>\n",
       "      <td>102.000000</td>\n",
       "      <td>102.000000</td>\n",
       "      <td>102.000000</td>\n",
       "      <td>102.000000</td>\n",
       "      <td>102.000000</td>\n",
       "      <td>102.000000</td>\n",
       "      <td>102.000000</td>\n",
       "      <td>102.000000</td>\n",
       "      <td>102.0</td>\n",
       "      <td>102.000000</td>\n",
       "      <td>102.000000</td>\n",
       "      <td>97.000000</td>\n",
       "      <td>87.000000</td>\n",
       "      <td>97.000000</td>\n",
       "      <td>97.000000</td>\n",
       "      <td>97.0</td>\n",
       "      <td>97.000000</td>\n",
       "      <td>97.000000</td>\n",
       "      <td>97.000000</td>\n",
       "    </tr>\n",
       "    <tr>\n",
       "      <th>mean</th>\n",
       "      <td>5397.490196</td>\n",
       "      <td>129.009804</td>\n",
       "      <td>8.392157</td>\n",
       "      <td>3.529412</td>\n",
       "      <td>16.107843</td>\n",
       "      <td>3.598039</td>\n",
       "      <td>3.568627</td>\n",
       "      <td>3.519608</td>\n",
       "      <td>3.627451</td>\n",
       "      <td>3.392157</td>\n",
       "      <td>17.705882</td>\n",
       "      <td>202.450980</td>\n",
       "      <td>4.0</td>\n",
       "      <td>4.450980</td>\n",
       "      <td>33.865244</td>\n",
       "      <td>4.742268</td>\n",
       "      <td>4.206897</td>\n",
       "      <td>0.618557</td>\n",
       "      <td>0.628866</td>\n",
       "      <td>1.0</td>\n",
       "      <td>0.618557</td>\n",
       "      <td>0.391753</td>\n",
       "      <td>0.639175</td>\n",
       "    </tr>\n",
       "    <tr>\n",
       "      <th>std</th>\n",
       "      <td>5525.806746</td>\n",
       "      <td>126.874265</td>\n",
       "      <td>12.224109</td>\n",
       "      <td>6.924924</td>\n",
       "      <td>30.900321</td>\n",
       "      <td>0.492715</td>\n",
       "      <td>0.517224</td>\n",
       "      <td>0.521430</td>\n",
       "      <td>0.485871</td>\n",
       "      <td>0.510423</td>\n",
       "      <td>1.947775</td>\n",
       "      <td>234.402279</td>\n",
       "      <td>0.0</td>\n",
       "      <td>0.500049</td>\n",
       "      <td>42.174375</td>\n",
       "      <td>2.542466</td>\n",
       "      <td>2.624296</td>\n",
       "      <td>0.488264</td>\n",
       "      <td>0.485618</td>\n",
       "      <td>0.0</td>\n",
       "      <td>0.488264</td>\n",
       "      <td>0.490678</td>\n",
       "      <td>0.482735</td>\n",
       "    </tr>\n",
       "    <tr>\n",
       "      <th>min</th>\n",
       "      <td>384.000000</td>\n",
       "      <td>3.000000</td>\n",
       "      <td>0.000000</td>\n",
       "      <td>1.000000</td>\n",
       "      <td>0.000000</td>\n",
       "      <td>3.000000</td>\n",
       "      <td>2.000000</td>\n",
       "      <td>2.000000</td>\n",
       "      <td>3.000000</td>\n",
       "      <td>2.000000</td>\n",
       "      <td>13.000000</td>\n",
       "      <td>25.000000</td>\n",
       "      <td>4.0</td>\n",
       "      <td>4.000000</td>\n",
       "      <td>1.823529</td>\n",
       "      <td>1.000000</td>\n",
       "      <td>1.000000</td>\n",
       "      <td>0.000000</td>\n",
       "      <td>0.000000</td>\n",
       "      <td>1.0</td>\n",
       "      <td>0.000000</td>\n",
       "      <td>0.000000</td>\n",
       "      <td>0.000000</td>\n",
       "    </tr>\n",
       "    <tr>\n",
       "      <th>25%</th>\n",
       "      <td>1946.000000</td>\n",
       "      <td>47.750000</td>\n",
       "      <td>2.000000</td>\n",
       "      <td>1.000000</td>\n",
       "      <td>0.000000</td>\n",
       "      <td>3.000000</td>\n",
       "      <td>3.000000</td>\n",
       "      <td>3.000000</td>\n",
       "      <td>3.000000</td>\n",
       "      <td>3.000000</td>\n",
       "      <td>16.000000</td>\n",
       "      <td>75.000000</td>\n",
       "      <td>4.0</td>\n",
       "      <td>4.000000</td>\n",
       "      <td>8.409375</td>\n",
       "      <td>3.000000</td>\n",
       "      <td>2.000000</td>\n",
       "      <td>0.000000</td>\n",
       "      <td>0.000000</td>\n",
       "      <td>1.0</td>\n",
       "      <td>0.000000</td>\n",
       "      <td>0.000000</td>\n",
       "      <td>0.000000</td>\n",
       "    </tr>\n",
       "    <tr>\n",
       "      <th>50%</th>\n",
       "      <td>3497.500000</td>\n",
       "      <td>76.500000</td>\n",
       "      <td>5.000000</td>\n",
       "      <td>2.000000</td>\n",
       "      <td>0.000000</td>\n",
       "      <td>4.000000</td>\n",
       "      <td>4.000000</td>\n",
       "      <td>4.000000</td>\n",
       "      <td>4.000000</td>\n",
       "      <td>3.000000</td>\n",
       "      <td>18.000000</td>\n",
       "      <td>150.000000</td>\n",
       "      <td>4.0</td>\n",
       "      <td>4.000000</td>\n",
       "      <td>17.500000</td>\n",
       "      <td>5.000000</td>\n",
       "      <td>4.000000</td>\n",
       "      <td>1.000000</td>\n",
       "      <td>1.000000</td>\n",
       "      <td>1.0</td>\n",
       "      <td>1.000000</td>\n",
       "      <td>0.000000</td>\n",
       "      <td>1.000000</td>\n",
       "    </tr>\n",
       "    <tr>\n",
       "      <th>75%</th>\n",
       "      <td>6987.500000</td>\n",
       "      <td>161.000000</td>\n",
       "      <td>11.000000</td>\n",
       "      <td>3.000000</td>\n",
       "      <td>23.500000</td>\n",
       "      <td>4.000000</td>\n",
       "      <td>4.000000</td>\n",
       "      <td>4.000000</td>\n",
       "      <td>4.000000</td>\n",
       "      <td>4.000000</td>\n",
       "      <td>20.000000</td>\n",
       "      <td>150.000000</td>\n",
       "      <td>4.0</td>\n",
       "      <td>5.000000</td>\n",
       "      <td>41.979167</td>\n",
       "      <td>6.000000</td>\n",
       "      <td>6.000000</td>\n",
       "      <td>1.000000</td>\n",
       "      <td>1.000000</td>\n",
       "      <td>1.0</td>\n",
       "      <td>1.000000</td>\n",
       "      <td>1.000000</td>\n",
       "      <td>1.000000</td>\n",
       "    </tr>\n",
       "    <tr>\n",
       "      <th>max</th>\n",
       "      <td>30518.000000</td>\n",
       "      <td>656.000000</td>\n",
       "      <td>72.000000</td>\n",
       "      <td>64.000000</td>\n",
       "      <td>150.000000</td>\n",
       "      <td>4.000000</td>\n",
       "      <td>4.000000</td>\n",
       "      <td>4.000000</td>\n",
       "      <td>4.000000</td>\n",
       "      <td>4.000000</td>\n",
       "      <td>20.000000</td>\n",
       "      <td>1000.000000</td>\n",
       "      <td>4.0</td>\n",
       "      <td>5.000000</td>\n",
       "      <td>282.000000</td>\n",
       "      <td>10.000000</td>\n",
       "      <td>9.000000</td>\n",
       "      <td>1.000000</td>\n",
       "      <td>1.000000</td>\n",
       "      <td>1.0</td>\n",
       "      <td>1.000000</td>\n",
       "      <td>1.000000</td>\n",
       "      <td>1.000000</td>\n",
       "    </tr>\n",
       "  </tbody>\n",
       "</table>\n",
       "</div>"
      ],
      "text/plain": [
       "           bookmark       happy         sad  num_branch    num_seat  \\\n",
       "count    102.000000  102.000000  102.000000  102.000000  102.000000   \n",
       "mean    5397.490196  129.009804    8.392157    3.529412   16.107843   \n",
       "std     5525.806746  126.874265   12.224109    6.924924   30.900321   \n",
       "min      384.000000    3.000000    0.000000    1.000000    0.000000   \n",
       "25%     1946.000000   47.750000    2.000000    1.000000    0.000000   \n",
       "50%     3497.500000   76.500000    5.000000    2.000000    0.000000   \n",
       "75%     6987.500000  161.000000   11.000000    3.000000   23.500000   \n",
       "max    30518.000000  656.000000   72.000000   64.000000  150.000000   \n",
       "\n",
       "            taste       decor     service     hygiene       value     overall  \\\n",
       "count  102.000000  102.000000  102.000000  102.000000  102.000000  102.000000   \n",
       "mean     3.598039    3.568627    3.519608    3.627451    3.392157   17.705882   \n",
       "std      0.492715    0.517224    0.521430    0.485871    0.510423    1.947775   \n",
       "min      3.000000    2.000000    2.000000    3.000000    2.000000   13.000000   \n",
       "25%      3.000000    3.000000    3.000000    3.000000    3.000000   16.000000   \n",
       "50%      4.000000    4.000000    4.000000    4.000000    3.000000   18.000000   \n",
       "75%      4.000000    4.000000    4.000000    4.000000    4.000000   20.000000   \n",
       "max      4.000000    4.000000    4.000000    4.000000    4.000000   20.000000   \n",
       "\n",
       "         price_int  food_int  location_int  happy_vs_sad  num_payment  \\\n",
       "count   102.000000     102.0    102.000000    102.000000    97.000000   \n",
       "mean    202.450980       4.0      4.450980     33.865244     4.742268   \n",
       "std     234.402279       0.0      0.500049     42.174375     2.542466   \n",
       "min      25.000000       4.0      4.000000      1.823529     1.000000   \n",
       "25%      75.000000       4.0      4.000000      8.409375     3.000000   \n",
       "50%     150.000000       4.0      4.000000     17.500000     5.000000   \n",
       "75%     150.000000       4.0      5.000000     41.979167     6.000000   \n",
       "max    1000.000000       4.0      5.000000    282.000000    10.000000   \n",
       "\n",
       "       num_facility     Alipay   AlipayHK  Cash     Master   UnionPay  \\\n",
       "count     87.000000  97.000000  97.000000  97.0  97.000000  97.000000   \n",
       "mean       4.206897   0.618557   0.628866   1.0   0.618557   0.391753   \n",
       "std        2.624296   0.488264   0.485618   0.0   0.488264   0.490678   \n",
       "min        1.000000   0.000000   0.000000   1.0   0.000000   0.000000   \n",
       "25%        2.000000   0.000000   0.000000   1.0   0.000000   0.000000   \n",
       "50%        4.000000   1.000000   1.000000   1.0   1.000000   0.000000   \n",
       "75%        6.000000   1.000000   1.000000   1.0   1.000000   1.000000   \n",
       "max        9.000000   1.000000   1.000000   1.0   1.000000   1.000000   \n",
       "\n",
       "            Visa  \n",
       "count  97.000000  \n",
       "mean    0.639175  \n",
       "std     0.482735  \n",
       "min     0.000000  \n",
       "25%     0.000000  \n",
       "50%     1.000000  \n",
       "75%     1.000000  \n",
       "max     1.000000  "
      ]
     },
     "metadata": {},
     "output_type": "display_data"
    }
   ],
   "source": [
    "display(df[df['location']==\"HK\"].describe())\n",
    "display(df[df['location']==\"KL\"].describe())\n",
    "display(df[df['location']==\"NT\"].describe())"
   ]
  },
  {
   "cell_type": "code",
   "execution_count": 59,
   "id": "c1fa163e",
   "metadata": {},
   "outputs": [],
   "source": [
    "df = df[df['location'] == \"HK\"]"
   ]
  },
  {
   "cell_type": "markdown",
   "id": "edfeffb8",
   "metadata": {},
   "source": [
    "<h1>USEFUL VISUALIZATION TOOLS"
   ]
  },
  {
   "cell_type": "code",
   "execution_count": 60,
   "id": "e801b068",
   "metadata": {},
   "outputs": [
    {
     "data": {
      "text/html": [
       "<div>\n",
       "<style scoped>\n",
       "    .dataframe tbody tr th:only-of-type {\n",
       "        vertical-align: middle;\n",
       "    }\n",
       "\n",
       "    .dataframe tbody tr th {\n",
       "        vertical-align: top;\n",
       "    }\n",
       "\n",
       "    .dataframe thead th {\n",
       "        text-align: right;\n",
       "    }\n",
       "</style>\n",
       "<table border=\"1\" class=\"dataframe\">\n",
       "  <thead>\n",
       "    <tr style=\"text-align: right;\">\n",
       "      <th></th>\n",
       "      <th>name</th>\n",
       "      <th>price</th>\n",
       "      <th>food_type</th>\n",
       "      <th>location</th>\n",
       "      <th>bookmark</th>\n",
       "      <th>happy</th>\n",
       "      <th>sad</th>\n",
       "      <th>num_branch</th>\n",
       "      <th>num_seat</th>\n",
       "      <th>taste</th>\n",
       "      <th>decor</th>\n",
       "      <th>service</th>\n",
       "      <th>hygiene</th>\n",
       "      <th>value</th>\n",
       "      <th>overall</th>\n",
       "      <th>price_int</th>\n",
       "      <th>food_int</th>\n",
       "      <th>location_int</th>\n",
       "      <th>happy_vs_sad</th>\n",
       "      <th>num_payment</th>\n",
       "      <th>num_facility</th>\n",
       "      <th>Alipay</th>\n",
       "      <th>AlipayHK</th>\n",
       "      <th>Cash</th>\n",
       "      <th>Master</th>\n",
       "      <th>UnionPay</th>\n",
       "      <th>Visa</th>\n",
       "    </tr>\n",
       "  </thead>\n",
       "  <tbody>\n",
       "    <tr>\n",
       "      <th>50</th>\n",
       "      <td>Tsukiji Japanese Restaurant (Island Beverley) ...</td>\n",
       "      <td>$101-200</td>\n",
       "      <td>Japanese</td>\n",
       "      <td>HK</td>\n",
       "      <td>14187.0</td>\n",
       "      <td>642.0</td>\n",
       "      <td>18.0</td>\n",
       "      <td>2.0</td>\n",
       "      <td>54.0</td>\n",
       "      <td>4.0</td>\n",
       "      <td>4.0</td>\n",
       "      <td>4.0</td>\n",
       "      <td>4.0</td>\n",
       "      <td>4.0</td>\n",
       "      <td>20.0</td>\n",
       "      <td>150</td>\n",
       "      <td>4.0</td>\n",
       "      <td>0.0</td>\n",
       "      <td>35.666667</td>\n",
       "      <td>7.0</td>\n",
       "      <td>6.0</td>\n",
       "      <td>1.0</td>\n",
       "      <td>1.0</td>\n",
       "      <td>1.0</td>\n",
       "      <td>1.0</td>\n",
       "      <td>1.0</td>\n",
       "      <td>1.0</td>\n",
       "    </tr>\n",
       "    <tr>\n",
       "      <th>51</th>\n",
       "      <td>Toretore Hamayaki 漁獲浜燒</td>\n",
       "      <td>$201-400</td>\n",
       "      <td>Japanese</td>\n",
       "      <td>HK</td>\n",
       "      <td>36733.0</td>\n",
       "      <td>888.0</td>\n",
       "      <td>8.0</td>\n",
       "      <td>1.0</td>\n",
       "      <td>36.0</td>\n",
       "      <td>4.0</td>\n",
       "      <td>4.0</td>\n",
       "      <td>4.0</td>\n",
       "      <td>4.0</td>\n",
       "      <td>3.0</td>\n",
       "      <td>19.0</td>\n",
       "      <td>300</td>\n",
       "      <td>4.0</td>\n",
       "      <td>0.0</td>\n",
       "      <td>111.000000</td>\n",
       "      <td>7.0</td>\n",
       "      <td>8.0</td>\n",
       "      <td>1.0</td>\n",
       "      <td>1.0</td>\n",
       "      <td>1.0</td>\n",
       "      <td>1.0</td>\n",
       "      <td>1.0</td>\n",
       "      <td>1.0</td>\n",
       "    </tr>\n",
       "    <tr>\n",
       "      <th>52</th>\n",
       "      <td>Isono Suisan 磯野水產</td>\n",
       "      <td>$201-400</td>\n",
       "      <td>Japanese</td>\n",
       "      <td>HK</td>\n",
       "      <td>18591.0</td>\n",
       "      <td>651.0</td>\n",
       "      <td>5.0</td>\n",
       "      <td>1.0</td>\n",
       "      <td>49.0</td>\n",
       "      <td>4.0</td>\n",
       "      <td>4.0</td>\n",
       "      <td>4.0</td>\n",
       "      <td>4.0</td>\n",
       "      <td>4.0</td>\n",
       "      <td>20.0</td>\n",
       "      <td>300</td>\n",
       "      <td>4.0</td>\n",
       "      <td>0.0</td>\n",
       "      <td>130.200000</td>\n",
       "      <td>7.0</td>\n",
       "      <td>6.0</td>\n",
       "      <td>1.0</td>\n",
       "      <td>1.0</td>\n",
       "      <td>1.0</td>\n",
       "      <td>1.0</td>\n",
       "      <td>1.0</td>\n",
       "      <td>1.0</td>\n",
       "    </tr>\n",
       "    <tr>\n",
       "      <th>53</th>\n",
       "      <td>Xuan Sushi 玄鮨</td>\n",
       "      <td>Above $801</td>\n",
       "      <td>Japanese</td>\n",
       "      <td>HK</td>\n",
       "      <td>11385.0</td>\n",
       "      <td>553.0</td>\n",
       "      <td>4.0</td>\n",
       "      <td>1.0</td>\n",
       "      <td>50.0</td>\n",
       "      <td>4.0</td>\n",
       "      <td>4.0</td>\n",
       "      <td>4.0</td>\n",
       "      <td>4.0</td>\n",
       "      <td>4.0</td>\n",
       "      <td>20.0</td>\n",
       "      <td>1000</td>\n",
       "      <td>4.0</td>\n",
       "      <td>0.0</td>\n",
       "      <td>138.250000</td>\n",
       "      <td>6.0</td>\n",
       "      <td>4.0</td>\n",
       "      <td>0.0</td>\n",
       "      <td>1.0</td>\n",
       "      <td>0.0</td>\n",
       "      <td>1.0</td>\n",
       "      <td>1.0</td>\n",
       "      <td>1.0</td>\n",
       "    </tr>\n",
       "    <tr>\n",
       "      <th>54</th>\n",
       "      <td>Kokon 古今</td>\n",
       "      <td>$201-400</td>\n",
       "      <td>Japanese</td>\n",
       "      <td>HK</td>\n",
       "      <td>15447.0</td>\n",
       "      <td>440.0</td>\n",
       "      <td>5.0</td>\n",
       "      <td>3.0</td>\n",
       "      <td>40.0</td>\n",
       "      <td>4.0</td>\n",
       "      <td>4.0</td>\n",
       "      <td>4.0</td>\n",
       "      <td>4.0</td>\n",
       "      <td>4.0</td>\n",
       "      <td>20.0</td>\n",
       "      <td>300</td>\n",
       "      <td>4.0</td>\n",
       "      <td>0.0</td>\n",
       "      <td>88.000000</td>\n",
       "      <td>6.0</td>\n",
       "      <td>10.0</td>\n",
       "      <td>1.0</td>\n",
       "      <td>1.0</td>\n",
       "      <td>1.0</td>\n",
       "      <td>1.0</td>\n",
       "      <td>1.0</td>\n",
       "      <td>1.0</td>\n",
       "    </tr>\n",
       "    <tr>\n",
       "      <th>...</th>\n",
       "      <td>...</td>\n",
       "      <td>...</td>\n",
       "      <td>...</td>\n",
       "      <td>...</td>\n",
       "      <td>...</td>\n",
       "      <td>...</td>\n",
       "      <td>...</td>\n",
       "      <td>...</td>\n",
       "      <td>...</td>\n",
       "      <td>...</td>\n",
       "      <td>...</td>\n",
       "      <td>...</td>\n",
       "      <td>...</td>\n",
       "      <td>...</td>\n",
       "      <td>...</td>\n",
       "      <td>...</td>\n",
       "      <td>...</td>\n",
       "      <td>...</td>\n",
       "      <td>...</td>\n",
       "      <td>...</td>\n",
       "      <td>...</td>\n",
       "      <td>...</td>\n",
       "      <td>...</td>\n",
       "      <td>...</td>\n",
       "      <td>...</td>\n",
       "      <td>...</td>\n",
       "      <td>...</td>\n",
       "    </tr>\n",
       "    <tr>\n",
       "      <th>162</th>\n",
       "      <td>Uma Nota</td>\n",
       "      <td>$201-400</td>\n",
       "      <td>Japanese</td>\n",
       "      <td>HK</td>\n",
       "      <td>11142.0</td>\n",
       "      <td>37.0</td>\n",
       "      <td>2.0</td>\n",
       "      <td>1.0</td>\n",
       "      <td>60.0</td>\n",
       "      <td>4.0</td>\n",
       "      <td>4.0</td>\n",
       "      <td>4.0</td>\n",
       "      <td>4.0</td>\n",
       "      <td>3.0</td>\n",
       "      <td>19.0</td>\n",
       "      <td>300</td>\n",
       "      <td>4.0</td>\n",
       "      <td>1.0</td>\n",
       "      <td>18.500000</td>\n",
       "      <td>5.0</td>\n",
       "      <td>8.0</td>\n",
       "      <td>0.0</td>\n",
       "      <td>0.0</td>\n",
       "      <td>1.0</td>\n",
       "      <td>1.0</td>\n",
       "      <td>1.0</td>\n",
       "      <td>1.0</td>\n",
       "    </tr>\n",
       "    <tr>\n",
       "      <th>163</th>\n",
       "      <td>Sukiyaki Mori Kyuu (Peel Street) すき焼 森久 (卑利街)</td>\n",
       "      <td>$401-800</td>\n",
       "      <td>Japanese</td>\n",
       "      <td>HK</td>\n",
       "      <td>8622.0</td>\n",
       "      <td>33.0</td>\n",
       "      <td>2.0</td>\n",
       "      <td>3.0</td>\n",
       "      <td>0.0</td>\n",
       "      <td>4.0</td>\n",
       "      <td>4.0</td>\n",
       "      <td>4.0</td>\n",
       "      <td>4.0</td>\n",
       "      <td>3.0</td>\n",
       "      <td>19.0</td>\n",
       "      <td>600</td>\n",
       "      <td>4.0</td>\n",
       "      <td>1.0</td>\n",
       "      <td>16.500000</td>\n",
       "      <td>6.0</td>\n",
       "      <td>2.0</td>\n",
       "      <td>0.0</td>\n",
       "      <td>0.0</td>\n",
       "      <td>1.0</td>\n",
       "      <td>1.0</td>\n",
       "      <td>1.0</td>\n",
       "      <td>1.0</td>\n",
       "    </tr>\n",
       "    <tr>\n",
       "      <th>164</th>\n",
       "      <td>YAKINIKU GREAT SOHO</td>\n",
       "      <td>Above $801</td>\n",
       "      <td>Japanese</td>\n",
       "      <td>HK</td>\n",
       "      <td>7819.0</td>\n",
       "      <td>35.0</td>\n",
       "      <td>0.0</td>\n",
       "      <td>2.0</td>\n",
       "      <td>0.0</td>\n",
       "      <td>4.0</td>\n",
       "      <td>4.0</td>\n",
       "      <td>4.0</td>\n",
       "      <td>4.0</td>\n",
       "      <td>4.0</td>\n",
       "      <td>20.0</td>\n",
       "      <td>1000</td>\n",
       "      <td>4.0</td>\n",
       "      <td>1.0</td>\n",
       "      <td>35.000000</td>\n",
       "      <td>6.0</td>\n",
       "      <td>7.0</td>\n",
       "      <td>1.0</td>\n",
       "      <td>1.0</td>\n",
       "      <td>1.0</td>\n",
       "      <td>1.0</td>\n",
       "      <td>0.0</td>\n",
       "      <td>1.0</td>\n",
       "    </tr>\n",
       "    <tr>\n",
       "      <th>165</th>\n",
       "      <td>Sushi Kumo (Tak Woo House) 雲壽司 (德和大廈)</td>\n",
       "      <td>$101-200</td>\n",
       "      <td>Japanese</td>\n",
       "      <td>HK</td>\n",
       "      <td>2930.0</td>\n",
       "      <td>141.0</td>\n",
       "      <td>0.0</td>\n",
       "      <td>2.0</td>\n",
       "      <td>18.0</td>\n",
       "      <td>4.0</td>\n",
       "      <td>4.0</td>\n",
       "      <td>4.0</td>\n",
       "      <td>4.0</td>\n",
       "      <td>4.0</td>\n",
       "      <td>20.0</td>\n",
       "      <td>150</td>\n",
       "      <td>4.0</td>\n",
       "      <td>1.0</td>\n",
       "      <td>141.000000</td>\n",
       "      <td>9.0</td>\n",
       "      <td>2.0</td>\n",
       "      <td>1.0</td>\n",
       "      <td>1.0</td>\n",
       "      <td>1.0</td>\n",
       "      <td>1.0</td>\n",
       "      <td>1.0</td>\n",
       "      <td>1.0</td>\n",
       "    </tr>\n",
       "    <tr>\n",
       "      <th>166</th>\n",
       "      <td>Sushi Saito 鮨．齋藤</td>\n",
       "      <td>Above $801</td>\n",
       "      <td>Japanese</td>\n",
       "      <td>HK</td>\n",
       "      <td>9631.0</td>\n",
       "      <td>24.0</td>\n",
       "      <td>1.0</td>\n",
       "      <td>1.0</td>\n",
       "      <td>16.0</td>\n",
       "      <td>4.0</td>\n",
       "      <td>4.0</td>\n",
       "      <td>4.0</td>\n",
       "      <td>4.0</td>\n",
       "      <td>3.0</td>\n",
       "      <td>19.0</td>\n",
       "      <td>1000</td>\n",
       "      <td>4.0</td>\n",
       "      <td>1.0</td>\n",
       "      <td>24.000000</td>\n",
       "      <td>8.0</td>\n",
       "      <td>5.0</td>\n",
       "      <td>1.0</td>\n",
       "      <td>1.0</td>\n",
       "      <td>1.0</td>\n",
       "      <td>1.0</td>\n",
       "      <td>1.0</td>\n",
       "      <td>1.0</td>\n",
       "    </tr>\n",
       "  </tbody>\n",
       "</table>\n",
       "<p>117 rows × 27 columns</p>\n",
       "</div>"
      ],
      "text/plain": [
       "                                                  name       price food_type  \\\n",
       "50   Tsukiji Japanese Restaurant (Island Beverley) ...    $101-200  Japanese   \n",
       "51                              Toretore Hamayaki 漁獲浜燒    $201-400  Japanese   \n",
       "52                                   Isono Suisan 磯野水產    $201-400  Japanese   \n",
       "53                                       Xuan Sushi 玄鮨  Above $801  Japanese   \n",
       "54                                            Kokon 古今    $201-400  Japanese   \n",
       "..                                                 ...         ...       ...   \n",
       "162                                           Uma Nota    $201-400  Japanese   \n",
       "163      Sukiyaki Mori Kyuu (Peel Street) すき焼 森久 (卑利街)    $401-800  Japanese   \n",
       "164                                YAKINIKU GREAT SOHO  Above $801  Japanese   \n",
       "165              Sushi Kumo (Tak Woo House) 雲壽司 (德和大廈)    $101-200  Japanese   \n",
       "166                                   Sushi Saito 鮨．齋藤  Above $801  Japanese   \n",
       "\n",
       "    location  bookmark  happy   sad  num_branch  num_seat  taste  decor  \\\n",
       "50        HK   14187.0  642.0  18.0         2.0      54.0    4.0    4.0   \n",
       "51        HK   36733.0  888.0   8.0         1.0      36.0    4.0    4.0   \n",
       "52        HK   18591.0  651.0   5.0         1.0      49.0    4.0    4.0   \n",
       "53        HK   11385.0  553.0   4.0         1.0      50.0    4.0    4.0   \n",
       "54        HK   15447.0  440.0   5.0         3.0      40.0    4.0    4.0   \n",
       "..       ...       ...    ...   ...         ...       ...    ...    ...   \n",
       "162       HK   11142.0   37.0   2.0         1.0      60.0    4.0    4.0   \n",
       "163       HK    8622.0   33.0   2.0         3.0       0.0    4.0    4.0   \n",
       "164       HK    7819.0   35.0   0.0         2.0       0.0    4.0    4.0   \n",
       "165       HK    2930.0  141.0   0.0         2.0      18.0    4.0    4.0   \n",
       "166       HK    9631.0   24.0   1.0         1.0      16.0    4.0    4.0   \n",
       "\n",
       "     service  hygiene  value  overall  price_int  food_int  location_int  \\\n",
       "50       4.0      4.0    4.0     20.0        150       4.0           0.0   \n",
       "51       4.0      4.0    3.0     19.0        300       4.0           0.0   \n",
       "52       4.0      4.0    4.0     20.0        300       4.0           0.0   \n",
       "53       4.0      4.0    4.0     20.0       1000       4.0           0.0   \n",
       "54       4.0      4.0    4.0     20.0        300       4.0           0.0   \n",
       "..       ...      ...    ...      ...        ...       ...           ...   \n",
       "162      4.0      4.0    3.0     19.0        300       4.0           1.0   \n",
       "163      4.0      4.0    3.0     19.0        600       4.0           1.0   \n",
       "164      4.0      4.0    4.0     20.0       1000       4.0           1.0   \n",
       "165      4.0      4.0    4.0     20.0        150       4.0           1.0   \n",
       "166      4.0      4.0    3.0     19.0       1000       4.0           1.0   \n",
       "\n",
       "     happy_vs_sad  num_payment  num_facility  Alipay  AlipayHK  Cash  Master  \\\n",
       "50      35.666667          7.0           6.0     1.0       1.0   1.0     1.0   \n",
       "51     111.000000          7.0           8.0     1.0       1.0   1.0     1.0   \n",
       "52     130.200000          7.0           6.0     1.0       1.0   1.0     1.0   \n",
       "53     138.250000          6.0           4.0     0.0       1.0   0.0     1.0   \n",
       "54      88.000000          6.0          10.0     1.0       1.0   1.0     1.0   \n",
       "..            ...          ...           ...     ...       ...   ...     ...   \n",
       "162     18.500000          5.0           8.0     0.0       0.0   1.0     1.0   \n",
       "163     16.500000          6.0           2.0     0.0       0.0   1.0     1.0   \n",
       "164     35.000000          6.0           7.0     1.0       1.0   1.0     1.0   \n",
       "165    141.000000          9.0           2.0     1.0       1.0   1.0     1.0   \n",
       "166     24.000000          8.0           5.0     1.0       1.0   1.0     1.0   \n",
       "\n",
       "     UnionPay  Visa  \n",
       "50        1.0   1.0  \n",
       "51        1.0   1.0  \n",
       "52        1.0   1.0  \n",
       "53        1.0   1.0  \n",
       "54        1.0   1.0  \n",
       "..        ...   ...  \n",
       "162       1.0   1.0  \n",
       "163       1.0   1.0  \n",
       "164       0.0   1.0  \n",
       "165       1.0   1.0  \n",
       "166       1.0   1.0  \n",
       "\n",
       "[117 rows x 27 columns]"
      ]
     },
     "execution_count": 60,
     "metadata": {},
     "output_type": "execute_result"
    }
   ],
   "source": [
    "df"
   ]
  },
  {
   "cell_type": "code",
   "execution_count": 61,
   "id": "f4b0b49d",
   "metadata": {},
   "outputs": [],
   "source": [
    "def bar_chart(column,x_axis = \"variables\",title = \"graph of X\",y_axis = \"number of X\"): #draws bar chart, input one array\n",
    "    x = column.value_counts(sort=False).index\n",
    "    y = column.value_counts(sort=False)\n",
    "\n",
    "    fig = plt.figure(figsize = (10, 5))\n",
    "\n",
    "    # creating the bar plot\n",
    "    plt.bar(x, y, color ='orange',\n",
    "            width = 0.4)\n",
    "\n",
    "    plt.xlabel(x_axis)\n",
    "    plt.ylabel(y_axis)\n",
    "    plt.title(title)\n",
    "    plt.show()"
   ]
  },
  {
   "cell_type": "code",
   "execution_count": 50,
   "id": "35a4f41d",
   "metadata": {},
   "outputs": [],
   "source": [
    "def scatter_graph(x,y,title): #draws a scatter graph, input two arrays\n",
    "    m, b = np.polyfit(x, y, 1)\n",
    "    print(\"y intercept: \", b, \"slope: \",m)\n",
    "    plt.scatter(x, y, alpha=0.7)\n",
    "    try:\n",
    "        plt.plot(x, m*x + b)\n",
    "    except:\n",
    "        None\n",
    "        \n",
    "    try:\n",
    "        #plt.title(\"{} vs {}\".format(y.name, x.name))\n",
    "        plt.xlabel(x.name)\n",
    "        plt.ylabel(y.name)\n",
    "    except:\n",
    "        #plt.title(\"Title\")\n",
    "        plt.xlabel(\"X-Axis\")\n",
    "        plt.ylabel(\"Y-Axis\")\n",
    "    plt.title(title)\n",
    "    plt.show()\n",
    "    "
   ]
  },
  {
   "cell_type": "code",
   "execution_count": 51,
   "id": "d9fc60ac",
   "metadata": {},
   "outputs": [],
   "source": [
    "def find_average(df): #returns sad, happy, bookmark, price_int\n",
    "    print(\"Average sad is: \",df['sad'].mean())\n",
    "    print(\"Average happy is: \",df['happy'].mean())\n",
    "    print(\"Average bookmark is: \",df['bookmark'].mean())\n",
    "    print(\"Average price is: \",df['price_int'].mean())\n",
    "    print(\"------------------ \\n\")\n",
    "    return df['sad'].mean(),df['happy'].mean(),df['bookmark'].mean(),df['price_int'].mean()"
   ]
  },
  {
   "cell_type": "code",
   "execution_count": 52,
   "id": "22474765",
   "metadata": {},
   "outputs": [],
   "source": [
    "def scatter_matrix(df,columns = ['price','bookmark','happy','sad','happy_vs_sad'], dot_size = 30, fig_size = (20,20)):\n",
    "    visual = pd.plotting.scatter_matrix(df[columns],marker = 'o', s=dot_size,  figsize=fig_size)"
   ]
  },
  {
   "cell_type": "code",
   "execution_count": 53,
   "id": "a7a67f82",
   "metadata": {},
   "outputs": [],
   "source": [
    "def color_scatter_matrix(df,food_or_loc,  columns = ['location_int','price_int','bookmark','happy','sad'], dot_size = 30, fig_size = (20,20)):\n",
    "     \n",
    "    if food_or_loc == 'food':\n",
    "        visual = pd.plotting.scatter_matrix(df[columns],marker = 'o', c=df['food_int'] , s=dot_size,  figsize=fig_size)\n",
    "        \n",
    "    \n",
    "    else: \n",
    "        visual = pd.plotting.scatter_matrix(df[columns],marker = 'o', c=df['location_int'] , s=dot_size,  figsize=fig_size)\n"
   ]
  },
  {
   "cell_type": "code",
   "execution_count": 54,
   "id": "fb519338",
   "metadata": {},
   "outputs": [],
   "source": [
    "def legend(food_loc): #finds legend for color_scatter_matrix\n",
    "\n",
    "    if food_loc == 'food':\n",
    "        base_tags = pd.DataFrame(list(range(df['food_int'].nunique())))\n",
    "        plt.imshow([np.unique(df['food_int'])])\n",
    "        plt.xticks(ticks=np.unique(df['food_int']),labels=food_model.inverse_transform(base_tags))\n",
    "    else:\n",
    "        base_tags = pd.DataFrame(list(range(df['location_int'].nunique())))\n",
    "        plt.imshow([np.unique(df['location_int'])])\n",
    "        plt.xticks(ticks=np.unique(df['location_int']),labels=location_model.inverse_transform(base_tags))"
   ]
  },
  {
   "cell_type": "code",
   "execution_count": 55,
   "id": "fef5e44f",
   "metadata": {},
   "outputs": [],
   "source": [
    "def density_graph(a,b,df):\n",
    "    sns.jointplot(a, b, \n",
    "              data=df, kind=\"kde\")\n",
    "    plt.show()\n",
    "    \n",
    "def scatter_bar(a,b,df):\n",
    "    sns.jointplot(a, b, \n",
    "              data=df, kind=\"reg\")\n",
    "    plt.show()"
   ]
  },
  {
   "cell_type": "code",
   "execution_count": 56,
   "id": "1b15f092",
   "metadata": {},
   "outputs": [],
   "source": [
    "def pair_plot(df,variable):\n",
    "    sns.pairplot(df, hue=variable, height=1.8)\n",
    "    \n",
    "    plt.show()"
   ]
  },
  {
   "cell_type": "code",
   "execution_count": null,
   "id": "46e94dcf",
   "metadata": {},
   "outputs": [],
   "source": [
    "Places"
   ]
  },
  {
   "cell_type": "code",
   "execution_count": null,
   "id": "9a94a3f1",
   "metadata": {},
   "outputs": [],
   "source": []
  },
  {
   "cell_type": "code",
   "execution_count": null,
   "id": "13ef1edb",
   "metadata": {},
   "outputs": [],
   "source": [
    "df[df['num_seat']==0]"
   ]
  },
  {
   "cell_type": "markdown",
   "id": "7d20e9cb",
   "metadata": {},
   "source": [
    "<h1> Conduct Analysis"
   ]
  },
  {
   "cell_type": "code",
   "execution_count": null,
   "id": "e3c48da0",
   "metadata": {},
   "outputs": [],
   "source": [
    "import seaborn as sns\n",
    "sns.set_theme(style=\"ticks\")\n",
    "\n",
    "\n",
    "sns.pairplot(df, hue=\"location\")\n"
   ]
  },
  {
   "cell_type": "code",
   "execution_count": null,
   "id": "139b6f95",
   "metadata": {},
   "outputs": [],
   "source": [
    "g = sns.jointplot(\n",
    "    data=df,\n",
    "    x=\"num_seat\", y=\"overall\", hue=\"price_int\",\n",
    "    kind=\"kde\",\n",
    ")"
   ]
  },
  {
   "cell_type": "code",
   "execution_count": 62,
   "id": "33b50fca",
   "metadata": {},
   "outputs": [
    {
     "data": {
      "text/plain": [
       "<AxesSubplot:xlabel='price_int', ylabel='overall'>"
      ]
     },
     "execution_count": 62,
     "metadata": {},
     "output_type": "execute_result"
    },
    {
     "data": {
      "image/png": "[encoded data removed]",
      "text/plain": [
       "<Figure size 432x288 with 1 Axes>"
      ]
     },
     "metadata": {
      "needs_background": "light"
     },
     "output_type": "display_data"
    }
   ],
   "source": [
    "sns.boxplot(x=\"price_int\", y=\"overall\",\n",
    "            hue=\"Visa\", palette=[\"m\", \"g\"],\n",
    "            data=df)"
   ]
  },
  {
   "cell_type": "code",
   "execution_count": 63,
   "id": "5cf52a77",
   "metadata": {},
   "outputs": [
    {
     "data": {
      "text/plain": [
       "<AxesSubplot:xlabel='location', ylabel='overall'>"
      ]
     },
     "execution_count": 63,
     "metadata": {},
     "output_type": "execute_result"
    },
    {
     "data": {
      "image/png": "[encoded data removed]",
      "text/plain": [
       "<Figure size 432x288 with 1 Axes>"
      ]
     },
     "metadata": {
      "needs_background": "light"
     },
     "output_type": "display_data"
    }
   ],
   "source": [
    "sns.boxplot(x=\"location\", y=\"overall\",\n",
    "            hue=\"Alipay\", palette=[\"m\", \"g\"],\n",
    "            data=df)"
   ]
  },
  {
   "cell_type": "code",
   "execution_count": 64,
   "id": "95ea446a",
   "metadata": {},
   "outputs": [
    {
     "data": {
      "text/plain": [
       "<AxesSubplot:xlabel='location', ylabel='overall'>"
      ]
     },
     "execution_count": 64,
     "metadata": {},
     "output_type": "execute_result"
    },
    {
     "data": {
      "image/png": "[encoded data removed]",
      "text/plain": [
       "<Figure size 432x288 with 1 Axes>"
      ]
     },
     "metadata": {
      "needs_background": "light"
     },
     "output_type": "display_data"
    }
   ],
   "source": [
    "#for i in ['taste', 'decor', 'service',  'hygiene', 'value','overall']: #num_facility\n",
    "\n",
    "sns.boxplot(x=\"location\", y=\"overall\",\n",
    "            hue=\"Master\", palette=[\"m\", \"g\"],\n",
    "            data=df)"
   ]
  },
  {
   "cell_type": "code",
   "execution_count": null,
   "id": "63fecded",
   "metadata": {},
   "outputs": [],
   "source": [
    "density_graph(\"num_seat\",\"overall\",df)"
   ]
  },
  {
   "cell_type": "code",
   "execution_count": null,
   "id": "817d9b63",
   "metadata": {},
   "outputs": [],
   "source": [
    "for i in Places:\n",
    "    print(i)\n",
    "    density_graph(\"happy\",\"overall\",df[df['location']==i])\n",
    "#df[df['location']==\"Central\"].sort_values(by='happy', ascending = False)"
   ]
  },
  {
   "cell_type": "code",
   "execution_count": null,
   "id": "e8be926f",
   "metadata": {},
   "outputs": [],
   "source": [
    "for i in df.iloc[:,11:16].columns:\n",
    "    density_graph(i,\"overall\",df)"
   ]
  },
  {
   "cell_type": "code",
   "execution_count": null,
   "id": "7cb2d84a",
   "metadata": {},
   "outputs": [],
   "source": [
    "df"
   ]
  },
  {
   "cell_type": "code",
   "execution_count": null,
   "id": "df93feed",
   "metadata": {
    "scrolled": false
   },
   "outputs": [],
   "source": [
    "for i in ['taste', 'decor', 'service',  'hygiene', 'value']:\n",
    "    print(i)\n",
    "    m, b = np.polyfit(df['happy'], df[i], 1)\n",
    "    print(\"slope: \",m)\n",
    "    scatter_bar(\"happy\",i,df)"
   ]
  },
  {
   "cell_type": "code",
   "execution_count": null,
   "id": "c408e05a",
   "metadata": {},
   "outputs": [],
   "source": [
    "scatter_bar(\"AlipayHK\",'value',df)"
   ]
  },
  {
   "cell_type": "code",
   "execution_count": 70,
   "id": "303de830",
   "metadata": {
    "scrolled": false
   },
   "outputs": [
    {
     "name": "stdout",
     "output_type": "stream",
     "text": [
      "taste\n",
      "slope is:  0.15202036271078603\n"
     ]
    },
    {
     "name": "stderr",
     "output_type": "stream",
     "text": [
      "/Users/Jacky/opt/anaconda3/lib/python3.8/site-packages/seaborn/_decorators.py:36: FutureWarning: Pass the following variables as keyword args: x, y. From version 0.12, the only valid positional argument will be `data`, and passing other arguments without an explicit keyword will result in an error or misinterpretation.\n",
      "  warnings.warn(\n"
     ]
    },
    {
     "data": {
      "image/png": "[encoded data removed]",
      "text/plain": [
       "<Figure size 432x432 with 3 Axes>"
      ]
     },
     "metadata": {
      "needs_background": "light"
     },
     "output_type": "display_data"
    },
    {
     "name": "stdout",
     "output_type": "stream",
     "text": [
      "decor\n",
      "slope is:  0.2301304486159721\n"
     ]
    },
    {
     "name": "stderr",
     "output_type": "stream",
     "text": [
      "/Users/Jacky/opt/anaconda3/lib/python3.8/site-packages/seaborn/_decorators.py:36: FutureWarning: Pass the following variables as keyword args: x, y. From version 0.12, the only valid positional argument will be `data`, and passing other arguments without an explicit keyword will result in an error or misinterpretation.\n",
      "  warnings.warn(\n"
     ]
    },
    {
     "data": {
      "image/png": "[encoded data removed]",
      "text/plain": [
       "<Figure size 432x432 with 3 Axes>"
      ]
     },
     "metadata": {
      "needs_background": "light"
     },
     "output_type": "display_data"
    },
    {
     "name": "stdout",
     "output_type": "stream",
     "text": [
      "service\n",
      "slope is:  0.25828825962456264\n"
     ]
    },
    {
     "name": "stderr",
     "output_type": "stream",
     "text": [
      "/Users/Jacky/opt/anaconda3/lib/python3.8/site-packages/seaborn/_decorators.py:36: FutureWarning: Pass the following variables as keyword args: x, y. From version 0.12, the only valid positional argument will be `data`, and passing other arguments without an explicit keyword will result in an error or misinterpretation.\n",
      "  warnings.warn(\n"
     ]
    },
    {
     "data": {
      "image/png": "[encoded data removed]",
      "text/plain": [
       "<Figure size 432x432 with 3 Axes>"
      ]
     },
     "metadata": {
      "needs_background": "light"
     },
     "output_type": "display_data"
    },
    {
     "name": "stdout",
     "output_type": "stream",
     "text": [
      "hygiene\n",
      "slope is:  0.17063315303849838\n"
     ]
    },
    {
     "name": "stderr",
     "output_type": "stream",
     "text": [
      "/Users/Jacky/opt/anaconda3/lib/python3.8/site-packages/seaborn/_decorators.py:36: FutureWarning: Pass the following variables as keyword args: x, y. From version 0.12, the only valid positional argument will be `data`, and passing other arguments without an explicit keyword will result in an error or misinterpretation.\n",
      "  warnings.warn(\n"
     ]
    },
    {
     "data": {
      "image/png": "[encoded data removed]",
      "text/plain": [
       "<Figure size 432x432 with 3 Axes>"
      ]
     },
     "metadata": {
      "needs_background": "light"
     },
     "output_type": "display_data"
    },
    {
     "name": "stdout",
     "output_type": "stream",
     "text": [
      "value\n",
      "slope is:  0.18892777601018157\n"
     ]
    },
    {
     "name": "stderr",
     "output_type": "stream",
     "text": [
      "/Users/Jacky/opt/anaconda3/lib/python3.8/site-packages/seaborn/_decorators.py:36: FutureWarning: Pass the following variables as keyword args: x, y. From version 0.12, the only valid positional argument will be `data`, and passing other arguments without an explicit keyword will result in an error or misinterpretation.\n",
      "  warnings.warn(\n"
     ]
    },
    {
     "data": {
      "image/png": "[encoded data removed]",
      "text/plain": [
       "<Figure size 432x432 with 3 Axes>"
      ]
     },
     "metadata": {
      "needs_background": "light"
     },
     "output_type": "display_data"
    }
   ],
   "source": [
    "for i in ['taste', 'decor', 'service',  'hygiene', 'value']: #num_facility\n",
    "    print(i)\n",
    "    m, b = np.polyfit(df['overall'], df[i], 1)\n",
    "    print(\"slope is: \", m)\n",
    "    scatter_bar(\"overall\",i,df)\n"
   ]
  },
  {
   "cell_type": "code",
   "execution_count": 65,
   "id": "d8e88714",
   "metadata": {
    "scrolled": false
   },
   "outputs": [
    {
     "name": "stdout",
     "output_type": "stream",
     "text": [
      "taste\n"
     ]
    },
    {
     "name": "stderr",
     "output_type": "stream",
     "text": [
      "/Users/Jacky/opt/anaconda3/lib/python3.8/site-packages/seaborn/_decorators.py:36: FutureWarning: Pass the following variables as keyword args: x, y. From version 0.12, the only valid positional argument will be `data`, and passing other arguments without an explicit keyword will result in an error or misinterpretation.\n",
      "  warnings.warn(\n"
     ]
    },
    {
     "data": {
      "image/png": "[encoded data removed]",
      "text/plain": [
       "<Figure size 432x432 with 3 Axes>"
      ]
     },
     "metadata": {
      "needs_background": "light"
     },
     "output_type": "display_data"
    },
    {
     "name": "stdout",
     "output_type": "stream",
     "text": [
      "decor\n"
     ]
    },
    {
     "name": "stderr",
     "output_type": "stream",
     "text": [
      "/Users/Jacky/opt/anaconda3/lib/python3.8/site-packages/seaborn/_decorators.py:36: FutureWarning: Pass the following variables as keyword args: x, y. From version 0.12, the only valid positional argument will be `data`, and passing other arguments without an explicit keyword will result in an error or misinterpretation.\n",
      "  warnings.warn(\n"
     ]
    },
    {
     "data": {
      "image/png": "[encoded data removed]",
      "text/plain": [
       "<Figure size 432x432 with 3 Axes>"
      ]
     },
     "metadata": {
      "needs_background": "light"
     },
     "output_type": "display_data"
    },
    {
     "name": "stdout",
     "output_type": "stream",
     "text": [
      "service\n"
     ]
    },
    {
     "name": "stderr",
     "output_type": "stream",
     "text": [
      "/Users/Jacky/opt/anaconda3/lib/python3.8/site-packages/seaborn/_decorators.py:36: FutureWarning: Pass the following variables as keyword args: x, y. From version 0.12, the only valid positional argument will be `data`, and passing other arguments without an explicit keyword will result in an error or misinterpretation.\n",
      "  warnings.warn(\n"
     ]
    },
    {
     "data": {
      "image/png": "[encoded data removed]",
      "text/plain": [
       "<Figure size 432x432 with 3 Axes>"
      ]
     },
     "metadata": {
      "needs_background": "light"
     },
     "output_type": "display_data"
    },
    {
     "name": "stdout",
     "output_type": "stream",
     "text": [
      "hygiene\n"
     ]
    },
    {
     "name": "stderr",
     "output_type": "stream",
     "text": [
      "/Users/Jacky/opt/anaconda3/lib/python3.8/site-packages/seaborn/_decorators.py:36: FutureWarning: Pass the following variables as keyword args: x, y. From version 0.12, the only valid positional argument will be `data`, and passing other arguments without an explicit keyword will result in an error or misinterpretation.\n",
      "  warnings.warn(\n"
     ]
    },
    {
     "data": {
      "image/png": "[encoded data removed]",
      "text/plain": [
       "<Figure size 432x432 with 3 Axes>"
      ]
     },
     "metadata": {
      "needs_background": "light"
     },
     "output_type": "display_data"
    },
    {
     "name": "stdout",
     "output_type": "stream",
     "text": [
      "value\n"
     ]
    },
    {
     "name": "stderr",
     "output_type": "stream",
     "text": [
      "/Users/Jacky/opt/anaconda3/lib/python3.8/site-packages/seaborn/_decorators.py:36: FutureWarning: Pass the following variables as keyword args: x, y. From version 0.12, the only valid positional argument will be `data`, and passing other arguments without an explicit keyword will result in an error or misinterpretation.\n",
      "  warnings.warn(\n"
     ]
    },
    {
     "data": {
      "image/png": "[encoded data removed]",
      "text/plain": [
       "<Figure size 432x432 with 3 Axes>"
      ]
     },
     "metadata": {
      "needs_background": "light"
     },
     "output_type": "display_data"
    },
    {
     "name": "stdout",
     "output_type": "stream",
     "text": [
      "overall\n"
     ]
    },
    {
     "name": "stderr",
     "output_type": "stream",
     "text": [
      "/Users/Jacky/opt/anaconda3/lib/python3.8/site-packages/seaborn/_decorators.py:36: FutureWarning: Pass the following variables as keyword args: x, y. From version 0.12, the only valid positional argument will be `data`, and passing other arguments without an explicit keyword will result in an error or misinterpretation.\n",
      "  warnings.warn(\n"
     ]
    },
    {
     "data": {
      "image/png": "[encoded data removed]",
      "text/plain": [
       "<Figure size 432x432 with 3 Axes>"
      ]
     },
     "metadata": {
      "needs_background": "light"
     },
     "output_type": "display_data"
    }
   ],
   "source": [
    "for i in ['taste', 'decor', 'service',  'hygiene', 'value','overall']: #num_facility\n",
    "    print(i)\n",
    "\n",
    "    scatter_bar(\"num_facility\",i,df)\n"
   ]
  },
  {
   "cell_type": "code",
   "execution_count": 77,
   "id": "2188fd5a",
   "metadata": {},
   "outputs": [
    {
     "data": {
      "text/plain": [
       "Index(['name', 'price', 'food_type', 'location', 'bookmark', 'happy', 'sad',\n",
       "       'num_branch', 'num_seat', 'taste', 'decor', 'service', 'hygiene',\n",
       "       'value', 'overall', 'price_int', 'food_int', 'location_int',\n",
       "       'happy_vs_sad', 'num_payment', 'num_facility', 'Alipay', 'AlipayHK',\n",
       "       'Cash', 'Master', 'UnionPay', 'Visa'],\n",
       "      dtype='object')"
      ]
     },
     "execution_count": 77,
     "metadata": {},
     "output_type": "execute_result"
    }
   ],
   "source": [
    "df.columns"
   ]
  },
  {
   "cell_type": "code",
   "execution_count": 79,
   "id": "38b5aae8",
   "metadata": {},
   "outputs": [
    {
     "data": {
      "text/html": [
       "<div>\n",
       "<style scoped>\n",
       "    .dataframe tbody tr th:only-of-type {\n",
       "        vertical-align: middle;\n",
       "    }\n",
       "\n",
       "    .dataframe tbody tr th {\n",
       "        vertical-align: top;\n",
       "    }\n",
       "\n",
       "    .dataframe thead th {\n",
       "        text-align: right;\n",
       "    }\n",
       "</style>\n",
       "<table border=\"1\" class=\"dataframe\">\n",
       "  <thead>\n",
       "    <tr style=\"text-align: right;\">\n",
       "      <th></th>\n",
       "      <th>taste</th>\n",
       "      <th>decor</th>\n",
       "      <th>service</th>\n",
       "      <th>hygiene</th>\n",
       "      <th>value</th>\n",
       "      <th>overall</th>\n",
       "      <th>happy</th>\n",
       "      <th>sad</th>\n",
       "      <th>bookmark</th>\n",
       "    </tr>\n",
       "  </thead>\n",
       "  <tbody>\n",
       "    <tr>\n",
       "      <th>taste</th>\n",
       "      <td>1.000000</td>\n",
       "      <td>0.335976</td>\n",
       "      <td>0.489227</td>\n",
       "      <td>0.420792</td>\n",
       "      <td>0.324379</td>\n",
       "      <td>0.670430</td>\n",
       "      <td>0.137468</td>\n",
       "      <td>-0.327155</td>\n",
       "      <td>0.032874</td>\n",
       "    </tr>\n",
       "    <tr>\n",
       "      <th>decor</th>\n",
       "      <td>0.335976</td>\n",
       "      <td>1.000000</td>\n",
       "      <td>0.668779</td>\n",
       "      <td>0.677795</td>\n",
       "      <td>0.243355</td>\n",
       "      <td>0.798594</td>\n",
       "      <td>-0.204869</td>\n",
       "      <td>-0.546399</td>\n",
       "      <td>-0.285625</td>\n",
       "    </tr>\n",
       "    <tr>\n",
       "      <th>service</th>\n",
       "      <td>0.489227</td>\n",
       "      <td>0.668779</td>\n",
       "      <td>1.000000</td>\n",
       "      <td>0.597022</td>\n",
       "      <td>0.330463</td>\n",
       "      <td>0.847975</td>\n",
       "      <td>-0.113701</td>\n",
       "      <td>-0.520557</td>\n",
       "      <td>-0.280944</td>\n",
       "    </tr>\n",
       "    <tr>\n",
       "      <th>hygiene</th>\n",
       "      <td>0.420792</td>\n",
       "      <td>0.677795</td>\n",
       "      <td>0.597022</td>\n",
       "      <td>1.000000</td>\n",
       "      <td>0.168410</td>\n",
       "      <td>0.752515</td>\n",
       "      <td>-0.199764</td>\n",
       "      <td>-0.498711</td>\n",
       "      <td>-0.201409</td>\n",
       "    </tr>\n",
       "    <tr>\n",
       "      <th>value</th>\n",
       "      <td>0.324379</td>\n",
       "      <td>0.243355</td>\n",
       "      <td>0.330463</td>\n",
       "      <td>0.168410</td>\n",
       "      <td>1.000000</td>\n",
       "      <td>0.598299</td>\n",
       "      <td>0.022583</td>\n",
       "      <td>-0.363600</td>\n",
       "      <td>-0.282978</td>\n",
       "    </tr>\n",
       "    <tr>\n",
       "      <th>overall</th>\n",
       "      <td>0.670430</td>\n",
       "      <td>0.798594</td>\n",
       "      <td>0.847975</td>\n",
       "      <td>0.752515</td>\n",
       "      <td>0.598299</td>\n",
       "      <td>1.000000</td>\n",
       "      <td>-0.100664</td>\n",
       "      <td>-0.618095</td>\n",
       "      <td>-0.295455</td>\n",
       "    </tr>\n",
       "    <tr>\n",
       "      <th>happy</th>\n",
       "      <td>0.137468</td>\n",
       "      <td>-0.204869</td>\n",
       "      <td>-0.113701</td>\n",
       "      <td>-0.199764</td>\n",
       "      <td>0.022583</td>\n",
       "      <td>-0.100664</td>\n",
       "      <td>1.000000</td>\n",
       "      <td>0.535698</td>\n",
       "      <td>0.611806</td>\n",
       "    </tr>\n",
       "    <tr>\n",
       "      <th>sad</th>\n",
       "      <td>-0.327155</td>\n",
       "      <td>-0.546399</td>\n",
       "      <td>-0.520557</td>\n",
       "      <td>-0.498711</td>\n",
       "      <td>-0.363600</td>\n",
       "      <td>-0.618095</td>\n",
       "      <td>0.535698</td>\n",
       "      <td>1.000000</td>\n",
       "      <td>0.548583</td>\n",
       "    </tr>\n",
       "    <tr>\n",
       "      <th>bookmark</th>\n",
       "      <td>0.032874</td>\n",
       "      <td>-0.285625</td>\n",
       "      <td>-0.280944</td>\n",
       "      <td>-0.201409</td>\n",
       "      <td>-0.282978</td>\n",
       "      <td>-0.295455</td>\n",
       "      <td>0.611806</td>\n",
       "      <td>0.548583</td>\n",
       "      <td>1.000000</td>\n",
       "    </tr>\n",
       "  </tbody>\n",
       "</table>\n",
       "</div>"
      ],
      "text/plain": [
       "             taste     decor   service   hygiene     value   overall  \\\n",
       "taste     1.000000  0.335976  0.489227  0.420792  0.324379  0.670430   \n",
       "decor     0.335976  1.000000  0.668779  0.677795  0.243355  0.798594   \n",
       "service   0.489227  0.668779  1.000000  0.597022  0.330463  0.847975   \n",
       "hygiene   0.420792  0.677795  0.597022  1.000000  0.168410  0.752515   \n",
       "value     0.324379  0.243355  0.330463  0.168410  1.000000  0.598299   \n",
       "overall   0.670430  0.798594  0.847975  0.752515  0.598299  1.000000   \n",
       "happy     0.137468 -0.204869 -0.113701 -0.199764  0.022583 -0.100664   \n",
       "sad      -0.327155 -0.546399 -0.520557 -0.498711 -0.363600 -0.618095   \n",
       "bookmark  0.032874 -0.285625 -0.280944 -0.201409 -0.282978 -0.295455   \n",
       "\n",
       "             happy       sad  bookmark  \n",
       "taste     0.137468 -0.327155  0.032874  \n",
       "decor    -0.204869 -0.546399 -0.285625  \n",
       "service  -0.113701 -0.520557 -0.280944  \n",
       "hygiene  -0.199764 -0.498711 -0.201409  \n",
       "value     0.022583 -0.363600 -0.282978  \n",
       "overall  -0.100664 -0.618095 -0.295455  \n",
       "happy     1.000000  0.535698  0.611806  \n",
       "sad       0.535698  1.000000  0.548583  \n",
       "bookmark  0.611806  0.548583  1.000000  "
      ]
     },
     "execution_count": 79,
     "metadata": {},
     "output_type": "execute_result"
    }
   ],
   "source": [
    "df.loc[:,['taste', 'decor', 'service',  'hygiene','value','overall','happy','sad','bookmark']].corr()"
   ]
  },
  {
   "cell_type": "code",
   "execution_count": 66,
   "id": "1f6e9e1a",
   "metadata": {
    "scrolled": false
   },
   "outputs": [
    {
     "name": "stdout",
     "output_type": "stream",
     "text": [
      "taste\n",
      "slope:  0.15202036271078603\n"
     ]
    },
    {
     "name": "stderr",
     "output_type": "stream",
     "text": [
      "/Users/Jacky/opt/anaconda3/lib/python3.8/site-packages/seaborn/_decorators.py:36: FutureWarning: Pass the following variables as keyword args: x, y. From version 0.12, the only valid positional argument will be `data`, and passing other arguments without an explicit keyword will result in an error or misinterpretation.\n",
      "  warnings.warn(\n"
     ]
    },
    {
     "data": {
      "image/png": "[encoded data removed]",
      "text/plain": [
       "<Figure size 432x432 with 3 Axes>"
      ]
     },
     "metadata": {
      "needs_background": "light"
     },
     "output_type": "display_data"
    },
    {
     "name": "stdout",
     "output_type": "stream",
     "text": [
      "decor\n",
      "slope:  0.2301304486159721\n"
     ]
    },
    {
     "name": "stderr",
     "output_type": "stream",
     "text": [
      "/Users/Jacky/opt/anaconda3/lib/python3.8/site-packages/seaborn/_decorators.py:36: FutureWarning: Pass the following variables as keyword args: x, y. From version 0.12, the only valid positional argument will be `data`, and passing other arguments without an explicit keyword will result in an error or misinterpretation.\n",
      "  warnings.warn(\n"
     ]
    },
    {
     "data": {
      "image/png": "[encoded data removed]",
      "text/plain": [
       "<Figure size 432x432 with 3 Axes>"
      ]
     },
     "metadata": {
      "needs_background": "light"
     },
     "output_type": "display_data"
    },
    {
     "name": "stdout",
     "output_type": "stream",
     "text": [
      "service\n",
      "slope:  0.25828825962456264\n"
     ]
    },
    {
     "name": "stderr",
     "output_type": "stream",
     "text": [
      "/Users/Jacky/opt/anaconda3/lib/python3.8/site-packages/seaborn/_decorators.py:36: FutureWarning: Pass the following variables as keyword args: x, y. From version 0.12, the only valid positional argument will be `data`, and passing other arguments without an explicit keyword will result in an error or misinterpretation.\n",
      "  warnings.warn(\n"
     ]
    },
    {
     "data": {
      "image/png": "[encoded data removed]",
      "text/plain": [
       "<Figure size 432x432 with 3 Axes>"
      ]
     },
     "metadata": {
      "needs_background": "light"
     },
     "output_type": "display_data"
    },
    {
     "name": "stdout",
     "output_type": "stream",
     "text": [
      "hygiene\n",
      "slope:  0.17063315303849838\n"
     ]
    },
    {
     "name": "stderr",
     "output_type": "stream",
     "text": [
      "/Users/Jacky/opt/anaconda3/lib/python3.8/site-packages/seaborn/_decorators.py:36: FutureWarning: Pass the following variables as keyword args: x, y. From version 0.12, the only valid positional argument will be `data`, and passing other arguments without an explicit keyword will result in an error or misinterpretation.\n",
      "  warnings.warn(\n"
     ]
    },
    {
     "data": {
      "image/png": "[encoded data removed]",
      "text/plain": [
       "<Figure size 432x432 with 3 Axes>"
      ]
     },
     "metadata": {
      "needs_background": "light"
     },
     "output_type": "display_data"
    },
    {
     "name": "stdout",
     "output_type": "stream",
     "text": [
      "overall\n",
      "slope:  1.0000000000000002\n"
     ]
    },
    {
     "name": "stderr",
     "output_type": "stream",
     "text": [
      "/Users/Jacky/opt/anaconda3/lib/python3.8/site-packages/seaborn/_decorators.py:36: FutureWarning: Pass the following variables as keyword args: x, y. From version 0.12, the only valid positional argument will be `data`, and passing other arguments without an explicit keyword will result in an error or misinterpretation.\n",
      "  warnings.warn(\n"
     ]
    },
    {
     "data": {
      "image/png": "[encoded data removed]",
      "text/plain": [
       "<Figure size 432x432 with 3 Axes>"
      ]
     },
     "metadata": {
      "needs_background": "light"
     },
     "output_type": "display_data"
    }
   ],
   "source": [
    "for i in ['taste', 'decor', 'service',  'hygiene','overall']:\n",
    "    print(i)\n",
    "    m, b = np.polyfit(df['overall'], df[i], 1)\n",
    "    print(\"slope: \",m)\n",
    "    scatter_bar(\"value\",i,df)"
   ]
  },
  {
   "cell_type": "code",
   "execution_count": 67,
   "id": "65e5428b",
   "metadata": {
    "scrolled": false
   },
   "outputs": [
    {
     "name": "stdout",
     "output_type": "stream",
     "text": [
      "overall\n"
     ]
    },
    {
     "name": "stderr",
     "output_type": "stream",
     "text": [
      "/Users/Jacky/opt/anaconda3/lib/python3.8/site-packages/seaborn/_decorators.py:36: FutureWarning: Pass the following variables as keyword args: x, y. From version 0.12, the only valid positional argument will be `data`, and passing other arguments without an explicit keyword will result in an error or misinterpretation.\n",
      "  warnings.warn(\n"
     ]
    },
    {
     "data": {
      "image/png": "[encoded data removed]",
      "text/plain": [
       "<Figure size 432x432 with 3 Axes>"
      ]
     },
     "metadata": {
      "needs_background": "light"
     },
     "output_type": "display_data"
    },
    {
     "name": "stdout",
     "output_type": "stream",
     "text": [
      "taste\n"
     ]
    },
    {
     "name": "stderr",
     "output_type": "stream",
     "text": [
      "/Users/Jacky/opt/anaconda3/lib/python3.8/site-packages/seaborn/_decorators.py:36: FutureWarning: Pass the following variables as keyword args: x, y. From version 0.12, the only valid positional argument will be `data`, and passing other arguments without an explicit keyword will result in an error or misinterpretation.\n",
      "  warnings.warn(\n"
     ]
    },
    {
     "data": {
      "image/png": "[encoded data removed]",
      "text/plain": [
       "<Figure size 432x432 with 3 Axes>"
      ]
     },
     "metadata": {
      "needs_background": "light"
     },
     "output_type": "display_data"
    },
    {
     "name": "stdout",
     "output_type": "stream",
     "text": [
      "decor\n"
     ]
    },
    {
     "name": "stderr",
     "output_type": "stream",
     "text": [
      "/Users/Jacky/opt/anaconda3/lib/python3.8/site-packages/seaborn/_decorators.py:36: FutureWarning: Pass the following variables as keyword args: x, y. From version 0.12, the only valid positional argument will be `data`, and passing other arguments without an explicit keyword will result in an error or misinterpretation.\n",
      "  warnings.warn(\n"
     ]
    },
    {
     "data": {
      "image/png": "[encoded data removed]",
      "text/plain": [
       "<Figure size 432x432 with 3 Axes>"
      ]
     },
     "metadata": {
      "needs_background": "light"
     },
     "output_type": "display_data"
    },
    {
     "name": "stdout",
     "output_type": "stream",
     "text": [
      "service\n"
     ]
    },
    {
     "name": "stderr",
     "output_type": "stream",
     "text": [
      "/Users/Jacky/opt/anaconda3/lib/python3.8/site-packages/seaborn/_decorators.py:36: FutureWarning: Pass the following variables as keyword args: x, y. From version 0.12, the only valid positional argument will be `data`, and passing other arguments without an explicit keyword will result in an error or misinterpretation.\n",
      "  warnings.warn(\n"
     ]
    },
    {
     "data": {
      "image/png": "[encoded data removed]",
      "text/plain": [
       "<Figure size 432x432 with 3 Axes>"
      ]
     },
     "metadata": {
      "needs_background": "light"
     },
     "output_type": "display_data"
    },
    {
     "name": "stdout",
     "output_type": "stream",
     "text": [
      "hygiene\n"
     ]
    },
    {
     "name": "stderr",
     "output_type": "stream",
     "text": [
      "/Users/Jacky/opt/anaconda3/lib/python3.8/site-packages/seaborn/_decorators.py:36: FutureWarning: Pass the following variables as keyword args: x, y. From version 0.12, the only valid positional argument will be `data`, and passing other arguments without an explicit keyword will result in an error or misinterpretation.\n",
      "  warnings.warn(\n"
     ]
    },
    {
     "data": {
      "image/png": "[encoded data removed]",
      "text/plain": [
       "<Figure size 432x432 with 3 Axes>"
      ]
     },
     "metadata": {
      "needs_background": "light"
     },
     "output_type": "display_data"
    },
    {
     "name": "stdout",
     "output_type": "stream",
     "text": [
      "value\n"
     ]
    },
    {
     "name": "stderr",
     "output_type": "stream",
     "text": [
      "/Users/Jacky/opt/anaconda3/lib/python3.8/site-packages/seaborn/_decorators.py:36: FutureWarning: Pass the following variables as keyword args: x, y. From version 0.12, the only valid positional argument will be `data`, and passing other arguments without an explicit keyword will result in an error or misinterpretation.\n",
      "  warnings.warn(\n"
     ]
    },
    {
     "data": {
      "image/png": "[encoded data removed]",
      "text/plain": [
       "<Figure size 432x432 with 3 Axes>"
      ]
     },
     "metadata": {
      "needs_background": "light"
     },
     "output_type": "display_data"
    }
   ],
   "source": [
    "for i in ['overall','taste', 'decor', 'service',  'hygiene', 'value']:\n",
    "    print(i)\n",
    "\n",
    "\n",
    "    scatter_bar(\"num_seat\",i,df[df['location']==\"HK\"]\n",
    "               )"
   ]
  },
  {
   "cell_type": "code",
   "execution_count": null,
   "id": "060d2107",
   "metadata": {
    "scrolled": false
   },
   "outputs": [],
   "source": [
    "for i in Places:\n",
    "    print(i)\n",
    "    scatter_bar(\"price_int\",\"value\",df[df['location']==i])"
   ]
  },
  {
   "cell_type": "code",
   "execution_count": null,
   "id": "6ee77f47",
   "metadata": {},
   "outputs": [],
   "source": []
  },
  {
   "cell_type": "code",
   "execution_count": null,
   "id": "133790d5",
   "metadata": {},
   "outputs": [],
   "source": [
    "sns.jointplot(\n",
    "    data=df[df['location']==\"Central\"],\n",
    "    x=\"overall\", y=\"happy\", hue=\"location_int\",\n",
    "    kind=\"kde\"\n",
    ")"
   ]
  },
  {
   "cell_type": "code",
   "execution_count": null,
   "id": "312e2a97",
   "metadata": {},
   "outputs": [],
   "source": [
    "df.iloc[:,11:17]"
   ]
  },
  {
   "cell_type": "code",
   "execution_count": null,
   "id": "4b00d2d2",
   "metadata": {},
   "outputs": [],
   "source": [
    "df"
   ]
  },
  {
   "cell_type": "code",
   "execution_count": null,
   "id": "a0207f3a",
   "metadata": {},
   "outputs": [],
   "source": [
    "sns.catplot(x=\"location_int\", y=\"overall\", hue=\"price_int\", kind=\"box\", data=df)"
   ]
  },
  {
   "cell_type": "code",
   "execution_count": null,
   "id": "2515de00",
   "metadata": {},
   "outputs": [],
   "source": [
    "for i in Places:\n",
    "    print(i)\n",
    "    pair_plot(df[df['location']==i],\"price\")\n"
   ]
  },
  {
   "cell_type": "code",
   "execution_count": null,
   "id": "2312d0a1",
   "metadata": {},
   "outputs": [],
   "source": [
    "#df['food_type'].unique()"
   ]
  },
  {
   "cell_type": "code",
   "execution_count": null,
   "id": "1e6bbe33",
   "metadata": {},
   "outputs": [],
   "source": [
    "#top 200 restaurants ranked by happy\n",
    "top_200 = df.sort_values('happy',ascending=False).iloc[0:200]\n",
    "print(\"For top 200 restaurants: \\n ------------------\")\n",
    "find_average(top_200)"
   ]
  },
  {
   "cell_type": "code",
   "execution_count": null,
   "id": "aa159642",
   "metadata": {},
   "outputs": [],
   "source": [
    "for i in Places:\n",
    "    print(\"For {} \\n------------------\".format(i))\n",
    "    find_average(df[df['location']==i])"
   ]
  },
  {
   "cell_type": "code",
   "execution_count": null,
   "id": "d46b7d49",
   "metadata": {},
   "outputs": [],
   "source": [
    "#Top 100 restaurant based on happy/sad ratio, group by prices\n",
    "for i in Places:\n",
    "    bar_chart(df[df['location']==i].sort_values(\"happy_vs_sad\",ascending=False).iloc[0:100]['price'], \"Price\",\"{}: Graph of distirbution top 100 restaurants' prices based on ratio of happiness VS sadness\".format(i), \"Number of restaurants\")"
   ]
  },
  {
   "cell_type": "code",
   "execution_count": null,
   "id": "78281617",
   "metadata": {},
   "outputs": [],
   "source": [
    "#Group restaurants based on region and prices\n",
    "\n",
    "for i in Places:\n",
    "    bar_chart(df[df['location']==i]['price'], \"Price\",\"{}: Graph of distirbution of prices of restaurants\".format(i), \"Number of restaurants\")"
   ]
  },
  {
   "cell_type": "code",
   "execution_count": null,
   "id": "b03c855e",
   "metadata": {},
   "outputs": [],
   "source": [
    "#find average price in HK\n",
    "for i in Places:\n",
    "    print(\"Average price of a meal in {}:\".format(i),df[df['location']==i]['price_int'].mean())"
   ]
  },
  {
   "cell_type": "code",
   "execution_count": null,
   "id": "62014817",
   "metadata": {},
   "outputs": [],
   "source": [
    "#find average price of meal in area\n",
    "for i in Places:\n",
    "    lowest = 10000000\n",
    "    highest = 0\n",
    "    restaurant_low = \"error\"\n",
    "    restaurant_high = \"error\"\n",
    "    for k in restaurant_type:\n",
    "        mean_price = df.loc[(df['food_type']==k) & (df['location']==i)]['price_int'].mean()\n",
    "        if mean_price < lowest:\n",
    "            restaurant_low = k\n",
    "            lowest = mean_price\n",
    "        if mean_price > highest:\n",
    "            restaurant_high = k\n",
    "            highest = mean_price\n",
    "        print(\"Average price of a {} meal in {}:\".format(k,i),mean_price)\n",
    "    print(\"-------------------------\")\n",
    "    print(\"Cheapest food is: {} meal, costing {}\".format(restaurant_low, lowest))\n",
    "    print(\"Most expensive food is: {} meal, costing {}\".format(restaurant_high, highest))\n",
    "    print(\"-------------------------\")\n",
    "    print(\"\")"
   ]
  },
  {
   "cell_type": "code",
   "execution_count": null,
   "id": "9ad9fe14",
   "metadata": {},
   "outputs": [],
   "source": [
    "#Find relationship of bookmarks VS happy\n",
    "for i in Places:\n",
    "    scatter_graph(df.loc[(df['location']==i)]['bookmark'],df.loc[(df['location']==i)]['happy'],\"Relationship between bookmark and happy in {}\".format(i))"
   ]
  },
  {
   "cell_type": "code",
   "execution_count": null,
   "id": "11a478bd",
   "metadata": {},
   "outputs": [],
   "source": [
    "visual = pd.plotting.scatter_matrix(df[['bookmark','happy','sad','price_int','happy_vs_sad']],c=df['food_int'],marker = 'o', s=5, hist_kwds={'bins':15}, figsize=(10,10))\n"
   ]
  },
  {
   "cell_type": "code",
   "execution_count": null,
   "id": "41076708",
   "metadata": {},
   "outputs": [],
   "source": [
    "#maps color to legend\n",
    "base_tags = pd.DataFrame({0,1,2,3,4,5,6,7,8,9})\n",
    "#model.inverse_transform(base_tags)\n",
    "\n",
    "plt.imshow([np.unique(df['food_int'])])\n",
    "plt.xticks(ticks=np.unique(df['food_int']),labels=food_model.inverse_transform(base_tags))\n",
    "#_ = plt.xticks(ticks=np.unique(df['food']),labels=model.inverse_transform(base_tags))"
   ]
  },
  {
   "cell_type": "code",
   "execution_count": null,
   "id": "2b4a56cc",
   "metadata": {},
   "outputs": [],
   "source": []
  }
 ],
 "metadata": {
  "kernelspec": {
   "display_name": "Python 3",
   "language": "python",
   "name": "python3"
  },
  "language_info": {
   "codemirror_mode": {
    "name": "ipython",
    "version": 3
   },
   "file_extension": ".py",
   "mimetype": "text/x-python",
   "name": "python",
   "nbconvert_exporter": "python",
   "pygments_lexer": "ipython3",
   "version": "3.8.8"
  }
 },
 "nbformat": 4,
 "nbformat_minor": 5
}
