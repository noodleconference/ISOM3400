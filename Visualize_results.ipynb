{
 "cells": [
  {
   "cell_type": "code",
   "execution_count": 1,
   "id": "7ed9b1a4",
   "metadata": {},
   "outputs": [],
   "source": [
    "import pandas as pd\n",
    "import numpy as np\n",
    "from sklearn.preprocessing import OrdinalEncoder\n",
    "import matplotlib.pyplot as plt\n",
    "import seaborn as sns\n",
    "#df=pd.read_excel('restaurants.xlsx')"
   ]
  },
  {
   "cell_type": "code",
   "execution_count": 2,
   "id": "42c5ba05",
   "metadata": {},
   "outputs": [],
   "source": [
    "#df = pd.read_excel('restaurant_info_6Districts_Ju.xlsx')\n",
    "df = pd.read_excel('FinalProject/REST_Analysis_JAPANESE.xlsx')"
   ]
  },
  {
   "cell_type": "code",
   "execution_count": 3,
   "id": "ebe05cf0",
   "metadata": {},
   "outputs": [],
   "source": [
    "pd.set_option('display.max_columns',40,'display.max_rows',40)"
   ]
  },
  {
   "cell_type": "code",
   "execution_count": 4,
   "id": "a477d1e0",
   "metadata": {},
   "outputs": [
    {
     "data": {
      "text/html": [
       "<style>.container { width:95% !important; }</style>"
      ],
      "text/plain": [
       "<IPython.core.display.HTML object>"
      ]
     },
     "metadata": {},
     "output_type": "display_data"
    }
   ],
   "source": [
    "#fit notebook cell to browser\n",
    "from IPython.core.display import display, HTML\n",
    "display(HTML(\"<style>.container { width:95% !important; }</style>\"))"
   ]
  },
  {
   "cell_type": "markdown",
   "id": "557deffb",
   "metadata": {},
   "source": [
    "<h1>DATA CLEAN"
   ]
  },
  {
   "cell_type": "code",
   "execution_count": 5,
   "id": "f46693ee",
   "metadata": {},
   "outputs": [],
   "source": [
    "#remove titles\n",
    "offender_index = df[df['happy']==\"happy\"].index\n",
    "df= df.drop(offender_index)\n",
    "\n",
    "#remove asia miles\n",
    "asia_miles_index = df[df['food_type'].str.contains(\"eligible transactions\")].index\n",
    "df= df.drop(asia_miles_index)\n",
    "df = df.reset_index()\n",
    "df = df.drop('index',axis=1)"
   ]
  },
  {
   "cell_type": "code",
   "execution_count": 6,
   "id": "688990e0",
   "metadata": {},
   "outputs": [],
   "source": [
    "#drop duplicate entries with same name and location\n",
    "df.drop_duplicates(subset=['name', 'location'], keep='last',inplace = True)"
   ]
  },
  {
   "cell_type": "code",
   "execution_count": 7,
   "id": "d32564f3",
   "metadata": {},
   "outputs": [],
   "source": [
    "#change columns to float type\n",
    "df['happy'] = df['happy'].astype(float)\n",
    "df['sad'] = df['sad'].astype(float)\n",
    "df['bookmark'] = df['bookmark'].astype(float)"
   ]
  },
  {
   "cell_type": "code",
   "execution_count": 8,
   "id": "7739870a",
   "metadata": {},
   "outputs": [],
   "source": [
    "#enable sort by price\n",
    "df['price'] = pd.Categorical(df['price'], ['Below $50','$51-100', '$101-200', '$201-400', '$401-800', 'Above $801'])"
   ]
  },
  {
   "cell_type": "code",
   "execution_count": 9,
   "id": "91c78986",
   "metadata": {},
   "outputs": [],
   "source": [
    "#insert additional column of pure numeric prices\n",
    "df['price_int'] = df['price'].replace({\"Below $50\":25,\"$51-100\":75,\"$101-200\":150,\"$201-400\":300,\"$401-800\":600,\"Above $801\":1000})\n"
   ]
  },
  {
   "cell_type": "code",
   "execution_count": 10,
   "id": "7c88e4e7",
   "metadata": {},
   "outputs": [],
   "source": [
    "#define which food type to search\n",
    "restaurant_type = ['Japanese','Western','Hong Kong Style','Guangdong','International','Taiwan','Korean','Thai','Italian','Sichuan']\n",
    "restaurant_type_regex = \"Japanese|Western|Hong Kong Style|Guangdong|International|Taiwan|Korean|Thai|Italian|Sichuan\""
   ]
  },
  {
   "cell_type": "code",
   "execution_count": 11,
   "id": "f4c26a82",
   "metadata": {},
   "outputs": [],
   "source": [
    "#define locations\n",
    "Places = ['Causeway Bay','Central',\"Yuen Long\",\"Tsuen Wan\",\"Tsim Sha Tsui\",\"Mong Kok\"]"
   ]
  },
  {
   "cell_type": "code",
   "execution_count": 12,
   "id": "a118daf8",
   "metadata": {},
   "outputs": [],
   "source": [
    "#filter out restaurants who are in the majority\n",
    "df = df[df['food_type'].str.contains(restaurant_type_regex)]\n",
    "df.reset_index(inplace = True)\n",
    "df = df.drop('index',axis=1)"
   ]
  },
  {
   "cell_type": "code",
   "execution_count": 13,
   "id": "58413491",
   "metadata": {},
   "outputs": [
    {
     "data": {
      "text/plain": [
       "(1186, 19)"
      ]
     },
     "execution_count": 13,
     "metadata": {},
     "output_type": "execute_result"
    }
   ],
   "source": [
    "#give food type a number\n",
    "food_model = OrdinalEncoder()\n",
    "test = pd.DataFrame(food_model.fit_transform(df[['food_type']]))\n",
    "\n",
    "df = pd.concat([df,test],axis=1,join='inner')\n",
    "df = df.rename(columns={0:\"food_int\"})\n",
    "df.shape"
   ]
  },
  {
   "cell_type": "code",
   "execution_count": 14,
   "id": "f8a5cf48",
   "metadata": {},
   "outputs": [
    {
     "data": {
      "text/plain": [
       "(1186, 20)"
      ]
     },
     "execution_count": 14,
     "metadata": {},
     "output_type": "execute_result"
    }
   ],
   "source": [
    "#give location type a number\n",
    "location_model = OrdinalEncoder()\n",
    "test = pd.DataFrame(location_model.fit_transform(df[['location']]))\n",
    "\n",
    "df = pd.concat([df,test],axis=1,join='inner')\n",
    "df = df.rename(columns={0:\"location_int\"})\n",
    "df.shape"
   ]
  },
  {
   "cell_type": "code",
   "execution_count": 15,
   "id": "cc2137cf",
   "metadata": {},
   "outputs": [],
   "source": [
    "#introduce happy vs sad column\n",
    "df['happy_vs_sad'] = df['happy']/df['sad']\n",
    "df['happy_vs_sad'] = np.where(df['happy_vs_sad'] == np.inf, df['happy'], df['happy_vs_sad'])\n"
   ]
  },
  {
   "cell_type": "code",
   "execution_count": 16,
   "id": "6bf65b70",
   "metadata": {},
   "outputs": [],
   "source": [
    "#df only has Japanese food left\n",
    "df = df[df['food_type']==\"Japanese\"]"
   ]
  },
  {
   "cell_type": "code",
   "execution_count": 17,
   "id": "0fd832e5",
   "metadata": {},
   "outputs": [],
   "source": [
    "df['num_payment'] = df['pay_list'].str.count(',')+1\n",
    "df['num_facility'] = df['other_facility'].str.count(',')+1"
   ]
  },
  {
   "cell_type": "code",
   "execution_count": 18,
   "id": "545b25a6",
   "metadata": {},
   "outputs": [],
   "source": [
    "df['payment_methods'] = df['pay_list'].str.split(',')\n",
    "df.reset_index(inplace=True, drop = True)"
   ]
  },
  {
   "cell_type": "code",
   "execution_count": 19,
   "id": "58e7521f",
   "metadata": {},
   "outputs": [
    {
     "data": {
      "text/html": [
       "<div>\n",
       "<style scoped>\n",
       "    .dataframe tbody tr th:only-of-type {\n",
       "        vertical-align: middle;\n",
       "    }\n",
       "\n",
       "    .dataframe tbody tr th {\n",
       "        vertical-align: top;\n",
       "    }\n",
       "\n",
       "    .dataframe thead th {\n",
       "        text-align: right;\n",
       "    }\n",
       "</style>\n",
       "<table border=\"1\" class=\"dataframe\">\n",
       "  <thead>\n",
       "    <tr style=\"text-align: right;\">\n",
       "      <th></th>\n",
       "      <th>bookmark</th>\n",
       "      <th>happy</th>\n",
       "      <th>sad</th>\n",
       "      <th>num_branch</th>\n",
       "      <th>num_seat</th>\n",
       "      <th>taste</th>\n",
       "      <th>decor</th>\n",
       "      <th>service</th>\n",
       "      <th>hygiene</th>\n",
       "      <th>value</th>\n",
       "      <th>overall</th>\n",
       "      <th>price_int</th>\n",
       "      <th>food_int</th>\n",
       "      <th>location_int</th>\n",
       "      <th>happy_vs_sad</th>\n",
       "      <th>num_payment</th>\n",
       "      <th>num_facility</th>\n",
       "    </tr>\n",
       "  </thead>\n",
       "  <tbody>\n",
       "    <tr>\n",
       "      <th>count</th>\n",
       "      <td>330.000000</td>\n",
       "      <td>330.000000</td>\n",
       "      <td>330.000000</td>\n",
       "      <td>330.000000</td>\n",
       "      <td>330.000000</td>\n",
       "      <td>330.000000</td>\n",
       "      <td>330.000000</td>\n",
       "      <td>330.000000</td>\n",
       "      <td>330.000000</td>\n",
       "      <td>330.000000</td>\n",
       "      <td>330.000000</td>\n",
       "      <td>330.000000</td>\n",
       "      <td>330.0</td>\n",
       "      <td>330.000000</td>\n",
       "      <td>330.000000</td>\n",
       "      <td>324.000000</td>\n",
       "      <td>301.000000</td>\n",
       "    </tr>\n",
       "    <tr>\n",
       "      <th>mean</th>\n",
       "      <td>12537.460606</td>\n",
       "      <td>222.024242</td>\n",
       "      <td>12.463636</td>\n",
       "      <td>2.424242</td>\n",
       "      <td>33.251515</td>\n",
       "      <td>3.742424</td>\n",
       "      <td>3.663636</td>\n",
       "      <td>3.630303</td>\n",
       "      <td>3.733333</td>\n",
       "      <td>3.345455</td>\n",
       "      <td>18.115152</td>\n",
       "      <td>272.500000</td>\n",
       "      <td>4.0</td>\n",
       "      <td>2.369697</td>\n",
       "      <td>40.830435</td>\n",
       "      <td>5.725309</td>\n",
       "      <td>5.375415</td>\n",
       "    </tr>\n",
       "    <tr>\n",
       "      <th>std</th>\n",
       "      <td>11268.156893</td>\n",
       "      <td>198.002301</td>\n",
       "      <td>18.449970</td>\n",
       "      <td>4.168417</td>\n",
       "      <td>57.056580</td>\n",
       "      <td>0.437963</td>\n",
       "      <td>0.479563</td>\n",
       "      <td>0.489702</td>\n",
       "      <td>0.442888</td>\n",
       "      <td>0.507147</td>\n",
       "      <td>1.769055</td>\n",
       "      <td>255.314708</td>\n",
       "      <td>0.0</td>\n",
       "      <td>1.731960</td>\n",
       "      <td>51.660722</td>\n",
       "      <td>2.621979</td>\n",
       "      <td>2.908939</td>\n",
       "    </tr>\n",
       "    <tr>\n",
       "      <th>min</th>\n",
       "      <td>384.000000</td>\n",
       "      <td>3.000000</td>\n",
       "      <td>0.000000</td>\n",
       "      <td>1.000000</td>\n",
       "      <td>0.000000</td>\n",
       "      <td>3.000000</td>\n",
       "      <td>2.000000</td>\n",
       "      <td>2.000000</td>\n",
       "      <td>3.000000</td>\n",
       "      <td>2.000000</td>\n",
       "      <td>13.000000</td>\n",
       "      <td>25.000000</td>\n",
       "      <td>4.0</td>\n",
       "      <td>0.000000</td>\n",
       "      <td>1.823529</td>\n",
       "      <td>1.000000</td>\n",
       "      <td>1.000000</td>\n",
       "    </tr>\n",
       "    <tr>\n",
       "      <th>25%</th>\n",
       "      <td>4644.250000</td>\n",
       "      <td>76.000000</td>\n",
       "      <td>3.000000</td>\n",
       "      <td>1.000000</td>\n",
       "      <td>0.000000</td>\n",
       "      <td>3.000000</td>\n",
       "      <td>3.000000</td>\n",
       "      <td>3.000000</td>\n",
       "      <td>3.000000</td>\n",
       "      <td>3.000000</td>\n",
       "      <td>17.000000</td>\n",
       "      <td>150.000000</td>\n",
       "      <td>4.0</td>\n",
       "      <td>1.000000</td>\n",
       "      <td>11.653846</td>\n",
       "      <td>4.000000</td>\n",
       "      <td>3.000000</td>\n",
       "    </tr>\n",
       "    <tr>\n",
       "      <th>50%</th>\n",
       "      <td>10117.000000</td>\n",
       "      <td>149.500000</td>\n",
       "      <td>6.000000</td>\n",
       "      <td>1.000000</td>\n",
       "      <td>0.000000</td>\n",
       "      <td>4.000000</td>\n",
       "      <td>4.000000</td>\n",
       "      <td>4.000000</td>\n",
       "      <td>4.000000</td>\n",
       "      <td>3.000000</td>\n",
       "      <td>19.000000</td>\n",
       "      <td>150.000000</td>\n",
       "      <td>4.0</td>\n",
       "      <td>2.000000</td>\n",
       "      <td>23.780303</td>\n",
       "      <td>6.000000</td>\n",
       "      <td>5.000000</td>\n",
       "    </tr>\n",
       "    <tr>\n",
       "      <th>75%</th>\n",
       "      <td>16127.250000</td>\n",
       "      <td>312.250000</td>\n",
       "      <td>14.750000</td>\n",
       "      <td>2.000000</td>\n",
       "      <td>50.000000</td>\n",
       "      <td>4.000000</td>\n",
       "      <td>4.000000</td>\n",
       "      <td>4.000000</td>\n",
       "      <td>4.000000</td>\n",
       "      <td>4.000000</td>\n",
       "      <td>20.000000</td>\n",
       "      <td>300.000000</td>\n",
       "      <td>4.0</td>\n",
       "      <td>4.000000</td>\n",
       "      <td>44.272727</td>\n",
       "      <td>7.000000</td>\n",
       "      <td>8.000000</td>\n",
       "    </tr>\n",
       "    <tr>\n",
       "      <th>max</th>\n",
       "      <td>86010.000000</td>\n",
       "      <td>1065.000000</td>\n",
       "      <td>123.000000</td>\n",
       "      <td>64.000000</td>\n",
       "      <td>360.000000</td>\n",
       "      <td>4.000000</td>\n",
       "      <td>4.000000</td>\n",
       "      <td>4.000000</td>\n",
       "      <td>4.000000</td>\n",
       "      <td>4.000000</td>\n",
       "      <td>20.000000</td>\n",
       "      <td>1000.000000</td>\n",
       "      <td>4.0</td>\n",
       "      <td>5.000000</td>\n",
       "      <td>425.000000</td>\n",
       "      <td>12.000000</td>\n",
       "      <td>14.000000</td>\n",
       "    </tr>\n",
       "  </tbody>\n",
       "</table>\n",
       "</div>"
      ],
      "text/plain": [
       "           bookmark        happy         sad  num_branch    num_seat  \\\n",
       "count    330.000000   330.000000  330.000000  330.000000  330.000000   \n",
       "mean   12537.460606   222.024242   12.463636    2.424242   33.251515   \n",
       "std    11268.156893   198.002301   18.449970    4.168417   57.056580   \n",
       "min      384.000000     3.000000    0.000000    1.000000    0.000000   \n",
       "25%     4644.250000    76.000000    3.000000    1.000000    0.000000   \n",
       "50%    10117.000000   149.500000    6.000000    1.000000    0.000000   \n",
       "75%    16127.250000   312.250000   14.750000    2.000000   50.000000   \n",
       "max    86010.000000  1065.000000  123.000000   64.000000  360.000000   \n",
       "\n",
       "            taste       decor     service     hygiene       value     overall  \\\n",
       "count  330.000000  330.000000  330.000000  330.000000  330.000000  330.000000   \n",
       "mean     3.742424    3.663636    3.630303    3.733333    3.345455   18.115152   \n",
       "std      0.437963    0.479563    0.489702    0.442888    0.507147    1.769055   \n",
       "min      3.000000    2.000000    2.000000    3.000000    2.000000   13.000000   \n",
       "25%      3.000000    3.000000    3.000000    3.000000    3.000000   17.000000   \n",
       "50%      4.000000    4.000000    4.000000    4.000000    3.000000   19.000000   \n",
       "75%      4.000000    4.000000    4.000000    4.000000    4.000000   20.000000   \n",
       "max      4.000000    4.000000    4.000000    4.000000    4.000000   20.000000   \n",
       "\n",
       "         price_int  food_int  location_int  happy_vs_sad  num_payment  \\\n",
       "count   330.000000     330.0    330.000000    330.000000   324.000000   \n",
       "mean    272.500000       4.0      2.369697     40.830435     5.725309   \n",
       "std     255.314708       0.0      1.731960     51.660722     2.621979   \n",
       "min      25.000000       4.0      0.000000      1.823529     1.000000   \n",
       "25%     150.000000       4.0      1.000000     11.653846     4.000000   \n",
       "50%     150.000000       4.0      2.000000     23.780303     6.000000   \n",
       "75%     300.000000       4.0      4.000000     44.272727     7.000000   \n",
       "max    1000.000000       4.0      5.000000    425.000000    12.000000   \n",
       "\n",
       "       num_facility  \n",
       "count    301.000000  \n",
       "mean       5.375415  \n",
       "std        2.908939  \n",
       "min        1.000000  \n",
       "25%        3.000000  \n",
       "50%        5.000000  \n",
       "75%        8.000000  \n",
       "max       14.000000  "
      ]
     },
     "execution_count": 19,
     "metadata": {},
     "output_type": "execute_result"
    }
   ],
   "source": [
    "df.describe()"
   ]
  },
  {
   "cell_type": "code",
   "execution_count": 20,
   "id": "99fd3e16",
   "metadata": {},
   "outputs": [],
   "source": [
    "#categorically split payment methods\n",
    "one_hot = pd.get_dummies(df['payment_methods'].apply(pd.Series).stack()).sum(level=0)\n",
    "df = df.merge(one_hot,how='outer',left_index = True, right_index=True)"
   ]
  },
  {
   "cell_type": "code",
   "execution_count": 21,
   "id": "0ed31b27",
   "metadata": {},
   "outputs": [],
   "source": [
    "#ignore all payment methods who are not in more than 50% of restaurants\n",
    "arr_keep = ['name','price','food_type','location']\n",
    "for i,j in list((df.describe().iloc[1]>0.5).items()):\n",
    "    if j:\n",
    "        arr_keep.append(i)\n",
    "df = df[arr_keep]"
   ]
  },
  {
   "cell_type": "code",
   "execution_count": 22,
   "id": "1ce88b6b",
   "metadata": {},
   "outputs": [],
   "source": [
    "def district(x):\n",
    "    if x == \"Causeway Bay\" or x == \"Central\":\n",
    "        return \"HK\"\n",
    "    if x == \"Yuen Long\" or x == \"Tsuen Wan\":\n",
    "        return \"NT\"\n",
    "    else:\n",
    "        return \"KL\"\n",
    "    \n",
    "df['location'] = df['location'].apply(lambda x: district(x))"
   ]
  },
  {
   "cell_type": "code",
   "execution_count": 26,
   "id": "46df23f8",
   "metadata": {},
   "outputs": [
    {
     "data": {
      "text/html": [
       "<div>\n",
       "<style scoped>\n",
       "    .dataframe tbody tr th:only-of-type {\n",
       "        vertical-align: middle;\n",
       "    }\n",
       "\n",
       "    .dataframe tbody tr th {\n",
       "        vertical-align: top;\n",
       "    }\n",
       "\n",
       "    .dataframe thead th {\n",
       "        text-align: right;\n",
       "    }\n",
       "</style>\n",
       "<table border=\"1\" class=\"dataframe\">\n",
       "  <thead>\n",
       "    <tr style=\"text-align: right;\">\n",
       "      <th></th>\n",
       "      <th>name</th>\n",
       "      <th>price</th>\n",
       "      <th>food_type</th>\n",
       "      <th>location</th>\n",
       "      <th>bookmark</th>\n",
       "      <th>happy</th>\n",
       "      <th>sad</th>\n",
       "      <th>num_branch</th>\n",
       "      <th>num_seat</th>\n",
       "      <th>taste</th>\n",
       "      <th>decor</th>\n",
       "      <th>service</th>\n",
       "      <th>hygiene</th>\n",
       "      <th>value</th>\n",
       "      <th>overall</th>\n",
       "      <th>price_int</th>\n",
       "      <th>food_int</th>\n",
       "      <th>location_int</th>\n",
       "      <th>happy_vs_sad</th>\n",
       "      <th>num_payment</th>\n",
       "      <th>num_facility</th>\n",
       "      <th>Alipay</th>\n",
       "      <th>AlipayHK</th>\n",
       "      <th>Cash</th>\n",
       "      <th>Master</th>\n",
       "      <th>UnionPay</th>\n",
       "      <th>Visa</th>\n",
       "    </tr>\n",
       "  </thead>\n",
       "  <tbody>\n",
       "    <tr>\n",
       "      <th>0</th>\n",
       "      <td>Nagasakayaki 長阪燒</td>\n",
       "      <td>$201-400</td>\n",
       "      <td>Japanese</td>\n",
       "      <td>KL</td>\n",
       "      <td>21046.0</td>\n",
       "      <td>448.0</td>\n",
       "      <td>7.0</td>\n",
       "      <td>1.0</td>\n",
       "      <td>70.0</td>\n",
       "      <td>4.0</td>\n",
       "      <td>4.0</td>\n",
       "      <td>4.0</td>\n",
       "      <td>4.0</td>\n",
       "      <td>4.0</td>\n",
       "      <td>20.0</td>\n",
       "      <td>300</td>\n",
       "      <td>4.0</td>\n",
       "      <td>2.0</td>\n",
       "      <td>64.000000</td>\n",
       "      <td>6.0</td>\n",
       "      <td>11.0</td>\n",
       "      <td>1.0</td>\n",
       "      <td>1.0</td>\n",
       "      <td>1.0</td>\n",
       "      <td>1.0</td>\n",
       "      <td>0.0</td>\n",
       "      <td>1.0</td>\n",
       "    </tr>\n",
       "    <tr>\n",
       "      <th>2</th>\n",
       "      <td>Japanese Delight 日本野</td>\n",
       "      <td>$101-200</td>\n",
       "      <td>Japanese</td>\n",
       "      <td>KL</td>\n",
       "      <td>15226.0</td>\n",
       "      <td>453.0</td>\n",
       "      <td>19.0</td>\n",
       "      <td>2.0</td>\n",
       "      <td>50.0</td>\n",
       "      <td>4.0</td>\n",
       "      <td>4.0</td>\n",
       "      <td>4.0</td>\n",
       "      <td>4.0</td>\n",
       "      <td>4.0</td>\n",
       "      <td>20.0</td>\n",
       "      <td>150</td>\n",
       "      <td>4.0</td>\n",
       "      <td>2.0</td>\n",
       "      <td>23.842105</td>\n",
       "      <td>5.0</td>\n",
       "      <td>8.0</td>\n",
       "      <td>0.0</td>\n",
       "      <td>0.0</td>\n",
       "      <td>1.0</td>\n",
       "      <td>1.0</td>\n",
       "      <td>1.0</td>\n",
       "      <td>1.0</td>\n",
       "    </tr>\n",
       "    <tr>\n",
       "      <th>3</th>\n",
       "      <td>Shinko 申子居酒屋</td>\n",
       "      <td>$201-400</td>\n",
       "      <td>Japanese</td>\n",
       "      <td>KL</td>\n",
       "      <td>30325.0</td>\n",
       "      <td>481.0</td>\n",
       "      <td>11.0</td>\n",
       "      <td>2.0</td>\n",
       "      <td>0.0</td>\n",
       "      <td>4.0</td>\n",
       "      <td>4.0</td>\n",
       "      <td>4.0</td>\n",
       "      <td>4.0</td>\n",
       "      <td>3.0</td>\n",
       "      <td>19.0</td>\n",
       "      <td>300</td>\n",
       "      <td>4.0</td>\n",
       "      <td>2.0</td>\n",
       "      <td>43.727273</td>\n",
       "      <td>12.0</td>\n",
       "      <td>12.0</td>\n",
       "      <td>1.0</td>\n",
       "      <td>1.0</td>\n",
       "      <td>1.0</td>\n",
       "      <td>1.0</td>\n",
       "      <td>1.0</td>\n",
       "      <td>1.0</td>\n",
       "    </tr>\n",
       "    <tr>\n",
       "      <th>4</th>\n",
       "      <td>Big Bang Don 爆丼屋</td>\n",
       "      <td>$101-200</td>\n",
       "      <td>Japanese</td>\n",
       "      <td>KL</td>\n",
       "      <td>31504.0</td>\n",
       "      <td>394.0</td>\n",
       "      <td>111.0</td>\n",
       "      <td>2.0</td>\n",
       "      <td>0.0</td>\n",
       "      <td>3.0</td>\n",
       "      <td>3.0</td>\n",
       "      <td>3.0</td>\n",
       "      <td>3.0</td>\n",
       "      <td>3.0</td>\n",
       "      <td>15.0</td>\n",
       "      <td>150</td>\n",
       "      <td>4.0</td>\n",
       "      <td>2.0</td>\n",
       "      <td>3.549550</td>\n",
       "      <td>5.0</td>\n",
       "      <td>1.0</td>\n",
       "      <td>0.0</td>\n",
       "      <td>0.0</td>\n",
       "      <td>1.0</td>\n",
       "      <td>1.0</td>\n",
       "      <td>1.0</td>\n",
       "      <td>1.0</td>\n",
       "    </tr>\n",
       "    <tr>\n",
       "      <th>5</th>\n",
       "      <td>Tenkichiya 天吉屋</td>\n",
       "      <td>$101-200</td>\n",
       "      <td>Japanese</td>\n",
       "      <td>KL</td>\n",
       "      <td>12393.0</td>\n",
       "      <td>289.0</td>\n",
       "      <td>26.0</td>\n",
       "      <td>1.0</td>\n",
       "      <td>47.0</td>\n",
       "      <td>4.0</td>\n",
       "      <td>4.0</td>\n",
       "      <td>4.0</td>\n",
       "      <td>4.0</td>\n",
       "      <td>3.0</td>\n",
       "      <td>19.0</td>\n",
       "      <td>150</td>\n",
       "      <td>4.0</td>\n",
       "      <td>2.0</td>\n",
       "      <td>11.115385</td>\n",
       "      <td>9.0</td>\n",
       "      <td>8.0</td>\n",
       "      <td>1.0</td>\n",
       "      <td>1.0</td>\n",
       "      <td>1.0</td>\n",
       "      <td>1.0</td>\n",
       "      <td>1.0</td>\n",
       "      <td>1.0</td>\n",
       "    </tr>\n",
       "    <tr>\n",
       "      <th>...</th>\n",
       "      <td>...</td>\n",
       "      <td>...</td>\n",
       "      <td>...</td>\n",
       "      <td>...</td>\n",
       "      <td>...</td>\n",
       "      <td>...</td>\n",
       "      <td>...</td>\n",
       "      <td>...</td>\n",
       "      <td>...</td>\n",
       "      <td>...</td>\n",
       "      <td>...</td>\n",
       "      <td>...</td>\n",
       "      <td>...</td>\n",
       "      <td>...</td>\n",
       "      <td>...</td>\n",
       "      <td>...</td>\n",
       "      <td>...</td>\n",
       "      <td>...</td>\n",
       "      <td>...</td>\n",
       "      <td>...</td>\n",
       "      <td>...</td>\n",
       "      <td>...</td>\n",
       "      <td>...</td>\n",
       "      <td>...</td>\n",
       "      <td>...</td>\n",
       "      <td>...</td>\n",
       "      <td>...</td>\n",
       "    </tr>\n",
       "    <tr>\n",
       "      <th>323</th>\n",
       "      <td>Naruto Uo Ichiba Izakaya 鳴門魚市場居酒屋</td>\n",
       "      <td>$201-400</td>\n",
       "      <td>Japanese</td>\n",
       "      <td>NT</td>\n",
       "      <td>5043.0</td>\n",
       "      <td>73.0</td>\n",
       "      <td>14.0</td>\n",
       "      <td>2.0</td>\n",
       "      <td>80.0</td>\n",
       "      <td>3.0</td>\n",
       "      <td>3.0</td>\n",
       "      <td>3.0</td>\n",
       "      <td>3.0</td>\n",
       "      <td>3.0</td>\n",
       "      <td>15.0</td>\n",
       "      <td>300</td>\n",
       "      <td>4.0</td>\n",
       "      <td>4.0</td>\n",
       "      <td>5.214286</td>\n",
       "      <td>4.0</td>\n",
       "      <td>9.0</td>\n",
       "      <td>0.0</td>\n",
       "      <td>0.0</td>\n",
       "      <td>1.0</td>\n",
       "      <td>1.0</td>\n",
       "      <td>1.0</td>\n",
       "      <td>1.0</td>\n",
       "    </tr>\n",
       "    <tr>\n",
       "      <th>324</th>\n",
       "      <td>Karami Curry 辛味屋</td>\n",
       "      <td>$51-100</td>\n",
       "      <td>Japanese</td>\n",
       "      <td>NT</td>\n",
       "      <td>1024.0</td>\n",
       "      <td>47.0</td>\n",
       "      <td>13.0</td>\n",
       "      <td>1.0</td>\n",
       "      <td>40.0</td>\n",
       "      <td>3.0</td>\n",
       "      <td>3.0</td>\n",
       "      <td>3.0</td>\n",
       "      <td>3.0</td>\n",
       "      <td>3.0</td>\n",
       "      <td>15.0</td>\n",
       "      <td>75</td>\n",
       "      <td>4.0</td>\n",
       "      <td>4.0</td>\n",
       "      <td>3.615385</td>\n",
       "      <td>6.0</td>\n",
       "      <td>3.0</td>\n",
       "      <td>1.0</td>\n",
       "      <td>1.0</td>\n",
       "      <td>1.0</td>\n",
       "      <td>1.0</td>\n",
       "      <td>1.0</td>\n",
       "      <td>1.0</td>\n",
       "    </tr>\n",
       "    <tr>\n",
       "      <th>325</th>\n",
       "      <td>Magic Touch (大鴻輝(荃灣)中心)</td>\n",
       "      <td>$101-200</td>\n",
       "      <td>Japanese</td>\n",
       "      <td>NT</td>\n",
       "      <td>2174.0</td>\n",
       "      <td>23.0</td>\n",
       "      <td>2.0</td>\n",
       "      <td>3.0</td>\n",
       "      <td>0.0</td>\n",
       "      <td>3.0</td>\n",
       "      <td>4.0</td>\n",
       "      <td>3.0</td>\n",
       "      <td>4.0</td>\n",
       "      <td>3.0</td>\n",
       "      <td>17.0</td>\n",
       "      <td>150</td>\n",
       "      <td>4.0</td>\n",
       "      <td>4.0</td>\n",
       "      <td>11.500000</td>\n",
       "      <td>4.0</td>\n",
       "      <td>1.0</td>\n",
       "      <td>0.0</td>\n",
       "      <td>0.0</td>\n",
       "      <td>1.0</td>\n",
       "      <td>1.0</td>\n",
       "      <td>0.0</td>\n",
       "      <td>1.0</td>\n",
       "    </tr>\n",
       "    <tr>\n",
       "      <th>326</th>\n",
       "      <td>Sushi Raku 鮨樂</td>\n",
       "      <td>$101-200</td>\n",
       "      <td>Japanese</td>\n",
       "      <td>NT</td>\n",
       "      <td>1732.0</td>\n",
       "      <td>18.0</td>\n",
       "      <td>3.0</td>\n",
       "      <td>3.0</td>\n",
       "      <td>40.0</td>\n",
       "      <td>3.0</td>\n",
       "      <td>4.0</td>\n",
       "      <td>4.0</td>\n",
       "      <td>4.0</td>\n",
       "      <td>3.0</td>\n",
       "      <td>18.0</td>\n",
       "      <td>150</td>\n",
       "      <td>4.0</td>\n",
       "      <td>4.0</td>\n",
       "      <td>6.000000</td>\n",
       "      <td>6.0</td>\n",
       "      <td>6.0</td>\n",
       "      <td>1.0</td>\n",
       "      <td>1.0</td>\n",
       "      <td>1.0</td>\n",
       "      <td>1.0</td>\n",
       "      <td>0.0</td>\n",
       "      <td>1.0</td>\n",
       "    </tr>\n",
       "    <tr>\n",
       "      <th>329</th>\n",
       "      <td>Genki Sushi 元気寿司</td>\n",
       "      <td>$101-200</td>\n",
       "      <td>Japanese</td>\n",
       "      <td>NT</td>\n",
       "      <td>1126.0</td>\n",
       "      <td>51.0</td>\n",
       "      <td>3.0</td>\n",
       "      <td>64.0</td>\n",
       "      <td>0.0</td>\n",
       "      <td>3.0</td>\n",
       "      <td>4.0</td>\n",
       "      <td>3.0</td>\n",
       "      <td>3.0</td>\n",
       "      <td>3.0</td>\n",
       "      <td>16.0</td>\n",
       "      <td>150</td>\n",
       "      <td>4.0</td>\n",
       "      <td>4.0</td>\n",
       "      <td>17.000000</td>\n",
       "      <td>9.0</td>\n",
       "      <td>3.0</td>\n",
       "      <td>0.0</td>\n",
       "      <td>0.0</td>\n",
       "      <td>1.0</td>\n",
       "      <td>1.0</td>\n",
       "      <td>1.0</td>\n",
       "      <td>1.0</td>\n",
       "    </tr>\n",
       "  </tbody>\n",
       "</table>\n",
       "<p>257 rows × 27 columns</p>\n",
       "</div>"
      ],
      "text/plain": [
       "                                  name     price food_type location  bookmark  \\\n",
       "0                     Nagasakayaki 長阪燒  $201-400  Japanese       KL   21046.0   \n",
       "2                 Japanese Delight 日本野  $101-200  Japanese       KL   15226.0   \n",
       "3                         Shinko 申子居酒屋  $201-400  Japanese       KL   30325.0   \n",
       "4                     Big Bang Don 爆丼屋  $101-200  Japanese       KL   31504.0   \n",
       "5                       Tenkichiya 天吉屋  $101-200  Japanese       KL   12393.0   \n",
       "..                                 ...       ...       ...      ...       ...   \n",
       "323  Naruto Uo Ichiba Izakaya 鳴門魚市場居酒屋  $201-400  Japanese       NT    5043.0   \n",
       "324                   Karami Curry 辛味屋   $51-100  Japanese       NT    1024.0   \n",
       "325            Magic Touch (大鴻輝(荃灣)中心)  $101-200  Japanese       NT    2174.0   \n",
       "326                      Sushi Raku 鮨樂  $101-200  Japanese       NT    1732.0   \n",
       "329                   Genki Sushi 元気寿司  $101-200  Japanese       NT    1126.0   \n",
       "\n",
       "     happy    sad  num_branch  num_seat  taste  decor  service  hygiene  \\\n",
       "0    448.0    7.0         1.0      70.0    4.0    4.0      4.0      4.0   \n",
       "2    453.0   19.0         2.0      50.0    4.0    4.0      4.0      4.0   \n",
       "3    481.0   11.0         2.0       0.0    4.0    4.0      4.0      4.0   \n",
       "4    394.0  111.0         2.0       0.0    3.0    3.0      3.0      3.0   \n",
       "5    289.0   26.0         1.0      47.0    4.0    4.0      4.0      4.0   \n",
       "..     ...    ...         ...       ...    ...    ...      ...      ...   \n",
       "323   73.0   14.0         2.0      80.0    3.0    3.0      3.0      3.0   \n",
       "324   47.0   13.0         1.0      40.0    3.0    3.0      3.0      3.0   \n",
       "325   23.0    2.0         3.0       0.0    3.0    4.0      3.0      4.0   \n",
       "326   18.0    3.0         3.0      40.0    3.0    4.0      4.0      4.0   \n",
       "329   51.0    3.0        64.0       0.0    3.0    4.0      3.0      3.0   \n",
       "\n",
       "     value  overall  price_int  food_int  location_int  happy_vs_sad  \\\n",
       "0      4.0     20.0        300       4.0           2.0     64.000000   \n",
       "2      4.0     20.0        150       4.0           2.0     23.842105   \n",
       "3      3.0     19.0        300       4.0           2.0     43.727273   \n",
       "4      3.0     15.0        150       4.0           2.0      3.549550   \n",
       "5      3.0     19.0        150       4.0           2.0     11.115385   \n",
       "..     ...      ...        ...       ...           ...           ...   \n",
       "323    3.0     15.0        300       4.0           4.0      5.214286   \n",
       "324    3.0     15.0         75       4.0           4.0      3.615385   \n",
       "325    3.0     17.0        150       4.0           4.0     11.500000   \n",
       "326    3.0     18.0        150       4.0           4.0      6.000000   \n",
       "329    3.0     16.0        150       4.0           4.0     17.000000   \n",
       "\n",
       "     num_payment  num_facility  Alipay  AlipayHK  Cash  Master  UnionPay  Visa  \n",
       "0            6.0          11.0     1.0       1.0   1.0     1.0       0.0   1.0  \n",
       "2            5.0           8.0     0.0       0.0   1.0     1.0       1.0   1.0  \n",
       "3           12.0          12.0     1.0       1.0   1.0     1.0       1.0   1.0  \n",
       "4            5.0           1.0     0.0       0.0   1.0     1.0       1.0   1.0  \n",
       "5            9.0           8.0     1.0       1.0   1.0     1.0       1.0   1.0  \n",
       "..           ...           ...     ...       ...   ...     ...       ...   ...  \n",
       "323          4.0           9.0     0.0       0.0   1.0     1.0       1.0   1.0  \n",
       "324          6.0           3.0     1.0       1.0   1.0     1.0       1.0   1.0  \n",
       "325          4.0           1.0     0.0       0.0   1.0     1.0       0.0   1.0  \n",
       "326          6.0           6.0     1.0       1.0   1.0     1.0       0.0   1.0  \n",
       "329          9.0           3.0     0.0       0.0   1.0     1.0       1.0   1.0  \n",
       "\n",
       "[257 rows x 27 columns]"
      ]
     },
     "execution_count": 26,
     "metadata": {},
     "output_type": "execute_result"
    }
   ],
   "source": [
    "df[df['Master']==1]"
   ]
  },
  {
   "cell_type": "markdown",
   "id": "edfeffb8",
   "metadata": {},
   "source": [
    "<h1>USEFUL VISUALIZATION TOOLS"
   ]
  },
  {
   "cell_type": "code",
   "execution_count": 36,
   "id": "f4b0b49d",
   "metadata": {},
   "outputs": [],
   "source": [
    "def bar_chart(column,x_axis = \"variables\",title = \"graph of X\",y_axis = \"number of X\"): #draws bar chart, input one array\n",
    "    x = column.value_counts(sort=False).index\n",
    "    y = column.value_counts(sort=False)\n",
    "\n",
    "    fig = plt.figure(figsize = (10, 5))\n",
    "\n",
    "    # creating the bar plot\n",
    "    plt.bar(x, y, color ='orange',\n",
    "            width = 0.4)\n",
    "\n",
    "    plt.xlabel(x_axis)\n",
    "    plt.ylabel(y_axis)\n",
    "    plt.title(title)\n",
    "    plt.show()"
   ]
  },
  {
   "cell_type": "code",
   "execution_count": 37,
   "id": "35a4f41d",
   "metadata": {},
   "outputs": [],
   "source": [
    "def scatter_graph(x,y,title): #draws a scatter graph, input two arrays\n",
    "    m, b = np.polyfit(x, y, 1)\n",
    "    print(\"y intercept: \", b, \"slope: \",m)\n",
    "    plt.scatter(x, y, alpha=0.7)\n",
    "    try:\n",
    "        plt.plot(x, m*x + b)\n",
    "    except:\n",
    "        None\n",
    "        \n",
    "    try:\n",
    "        #plt.title(\"{} vs {}\".format(y.name, x.name))\n",
    "        plt.xlabel(x.name)\n",
    "        plt.ylabel(y.name)\n",
    "    except:\n",
    "        #plt.title(\"Title\")\n",
    "        plt.xlabel(\"X-Axis\")\n",
    "        plt.ylabel(\"Y-Axis\")\n",
    "    plt.title(title)\n",
    "    plt.show()\n",
    "    "
   ]
  },
  {
   "cell_type": "code",
   "execution_count": 38,
   "id": "d9fc60ac",
   "metadata": {},
   "outputs": [],
   "source": [
    "def find_average(df): #returns sad, happy, bookmark, price_int\n",
    "    print(\"Average sad is: \",df['sad'].mean())\n",
    "    print(\"Average happy is: \",df['happy'].mean())\n",
    "    print(\"Average bookmark is: \",df['bookmark'].mean())\n",
    "    print(\"Average price is: \",df['price_int'].mean())\n",
    "    print(\"------------------ \\n\")\n",
    "    return df['sad'].mean(),df['happy'].mean(),df['bookmark'].mean(),df['price_int'].mean()"
   ]
  },
  {
   "cell_type": "code",
   "execution_count": 39,
   "id": "22474765",
   "metadata": {},
   "outputs": [],
   "source": [
    "def scatter_matrix(df,columns = ['price','bookmark','happy','sad','happy_vs_sad'], dot_size = 30, fig_size = (20,20)):\n",
    "    visual = pd.plotting.scatter_matrix(df[columns],marker = 'o', s=dot_size,  figsize=fig_size)"
   ]
  },
  {
   "cell_type": "code",
   "execution_count": 40,
   "id": "a7a67f82",
   "metadata": {},
   "outputs": [],
   "source": [
    "def color_scatter_matrix(df,food_or_loc,  columns = ['location_int','price_int','bookmark','happy','sad'], dot_size = 30, fig_size = (20,20)):\n",
    "     \n",
    "    if food_or_loc == 'food':\n",
    "        visual = pd.plotting.scatter_matrix(df[columns],marker = 'o', c=df['food_int'] , s=dot_size,  figsize=fig_size)\n",
    "        \n",
    "    \n",
    "    else: \n",
    "        visual = pd.plotting.scatter_matrix(df[columns],marker = 'o', c=df['location_int'] , s=dot_size,  figsize=fig_size)\n"
   ]
  },
  {
   "cell_type": "code",
   "execution_count": 41,
   "id": "fb519338",
   "metadata": {},
   "outputs": [],
   "source": [
    "def legend(food_loc): #finds legend for color_scatter_matrix\n",
    "\n",
    "    if food_loc == 'food':\n",
    "        base_tags = pd.DataFrame(list(range(df['food_int'].nunique())))\n",
    "        plt.imshow([np.unique(df['food_int'])])\n",
    "        plt.xticks(ticks=np.unique(df['food_int']),labels=food_model.inverse_transform(base_tags))\n",
    "    else:\n",
    "        base_tags = pd.DataFrame(list(range(df['location_int'].nunique())))\n",
    "        plt.imshow([np.unique(df['location_int'])])\n",
    "        plt.xticks(ticks=np.unique(df['location_int']),labels=location_model.inverse_transform(base_tags))"
   ]
  },
  {
   "cell_type": "code",
   "execution_count": 42,
   "id": "fef5e44f",
   "metadata": {},
   "outputs": [],
   "source": [
    "def density_graph(a,b,df):\n",
    "    sns.jointplot(a, b, \n",
    "              data=df, kind=\"kde\")\n",
    "    plt.show()\n",
    "    \n",
    "def scatter_bar(a,b,df):\n",
    "    sns.jointplot(a, b, \n",
    "              data=df, kind=\"reg\")\n",
    "    plt.show()"
   ]
  },
  {
   "cell_type": "code",
   "execution_count": 43,
   "id": "1b15f092",
   "metadata": {},
   "outputs": [],
   "source": [
    "def pair_plot(df,variable):\n",
    "    sns.pairplot(df, hue=variable, height=1.8)\n",
    "    \n",
    "    plt.show()"
   ]
  },
  {
   "cell_type": "code",
   "execution_count": null,
   "id": "da5d12f9",
   "metadata": {},
   "outputs": [],
   "source": [
    "Places"
   ]
  },
  {
   "cell_type": "code",
   "execution_count": null,
   "id": "43f585fe",
   "metadata": {},
   "outputs": [],
   "source": []
  },
  {
   "cell_type": "code",
   "execution_count": 32,
   "id": "63ed269e",
   "metadata": {},
   "outputs": [
    {
     "data": {
      "text/html": [
       "<div>\n",
       "<style scoped>\n",
       "    .dataframe tbody tr th:only-of-type {\n",
       "        vertical-align: middle;\n",
       "    }\n",
       "\n",
       "    .dataframe tbody tr th {\n",
       "        vertical-align: top;\n",
       "    }\n",
       "\n",
       "    .dataframe thead th {\n",
       "        text-align: right;\n",
       "    }\n",
       "</style>\n",
       "<table border=\"1\" class=\"dataframe\">\n",
       "  <thead>\n",
       "    <tr style=\"text-align: right;\">\n",
       "      <th></th>\n",
       "      <th>name</th>\n",
       "      <th>price</th>\n",
       "      <th>food_type</th>\n",
       "      <th>location</th>\n",
       "      <th>bookmark</th>\n",
       "      <th>happy</th>\n",
       "      <th>sad</th>\n",
       "      <th>num_branch</th>\n",
       "      <th>num_seat</th>\n",
       "      <th>taste</th>\n",
       "      <th>decor</th>\n",
       "      <th>service</th>\n",
       "      <th>hygiene</th>\n",
       "      <th>value</th>\n",
       "      <th>overall</th>\n",
       "      <th>price_int</th>\n",
       "      <th>food_int</th>\n",
       "      <th>location_int</th>\n",
       "      <th>happy_vs_sad</th>\n",
       "      <th>num_payment</th>\n",
       "      <th>num_facility</th>\n",
       "      <th>Alipay</th>\n",
       "      <th>AlipayHK</th>\n",
       "      <th>Cash</th>\n",
       "      <th>Master</th>\n",
       "      <th>UnionPay</th>\n",
       "      <th>Visa</th>\n",
       "    </tr>\n",
       "  </thead>\n",
       "  <tbody>\n",
       "    <tr>\n",
       "      <th>1</th>\n",
       "      <td>Poach 蟲二</td>\n",
       "      <td>$101-200</td>\n",
       "      <td>Japanese</td>\n",
       "      <td>KL</td>\n",
       "      <td>28896.0</td>\n",
       "      <td>310.0</td>\n",
       "      <td>34.0</td>\n",
       "      <td>1.0</td>\n",
       "      <td>0.0</td>\n",
       "      <td>3.0</td>\n",
       "      <td>4.0</td>\n",
       "      <td>3.0</td>\n",
       "      <td>4.0</td>\n",
       "      <td>3.0</td>\n",
       "      <td>17.0</td>\n",
       "      <td>150</td>\n",
       "      <td>4.0</td>\n",
       "      <td>2.0</td>\n",
       "      <td>9.117647</td>\n",
       "      <td>2.0</td>\n",
       "      <td>5.0</td>\n",
       "      <td>0.0</td>\n",
       "      <td>0.0</td>\n",
       "      <td>1.0</td>\n",
       "      <td>0.0</td>\n",
       "      <td>0.0</td>\n",
       "      <td>0.0</td>\n",
       "    </tr>\n",
       "    <tr>\n",
       "      <th>3</th>\n",
       "      <td>Shinko 申子居酒屋</td>\n",
       "      <td>$201-400</td>\n",
       "      <td>Japanese</td>\n",
       "      <td>KL</td>\n",
       "      <td>30325.0</td>\n",
       "      <td>481.0</td>\n",
       "      <td>11.0</td>\n",
       "      <td>2.0</td>\n",
       "      <td>0.0</td>\n",
       "      <td>4.0</td>\n",
       "      <td>4.0</td>\n",
       "      <td>4.0</td>\n",
       "      <td>4.0</td>\n",
       "      <td>3.0</td>\n",
       "      <td>19.0</td>\n",
       "      <td>300</td>\n",
       "      <td>4.0</td>\n",
       "      <td>2.0</td>\n",
       "      <td>43.727273</td>\n",
       "      <td>12.0</td>\n",
       "      <td>12.0</td>\n",
       "      <td>1.0</td>\n",
       "      <td>1.0</td>\n",
       "      <td>1.0</td>\n",
       "      <td>1.0</td>\n",
       "      <td>1.0</td>\n",
       "      <td>1.0</td>\n",
       "    </tr>\n",
       "    <tr>\n",
       "      <th>4</th>\n",
       "      <td>Big Bang Don 爆丼屋</td>\n",
       "      <td>$101-200</td>\n",
       "      <td>Japanese</td>\n",
       "      <td>KL</td>\n",
       "      <td>31504.0</td>\n",
       "      <td>394.0</td>\n",
       "      <td>111.0</td>\n",
       "      <td>2.0</td>\n",
       "      <td>0.0</td>\n",
       "      <td>3.0</td>\n",
       "      <td>3.0</td>\n",
       "      <td>3.0</td>\n",
       "      <td>3.0</td>\n",
       "      <td>3.0</td>\n",
       "      <td>15.0</td>\n",
       "      <td>150</td>\n",
       "      <td>4.0</td>\n",
       "      <td>2.0</td>\n",
       "      <td>3.549550</td>\n",
       "      <td>5.0</td>\n",
       "      <td>1.0</td>\n",
       "      <td>0.0</td>\n",
       "      <td>0.0</td>\n",
       "      <td>1.0</td>\n",
       "      <td>1.0</td>\n",
       "      <td>1.0</td>\n",
       "      <td>1.0</td>\n",
       "    </tr>\n",
       "    <tr>\n",
       "      <th>7</th>\n",
       "      <td>Issyokemen 一生懸麵</td>\n",
       "      <td>$51-100</td>\n",
       "      <td>Japanese</td>\n",
       "      <td>KL</td>\n",
       "      <td>15010.0</td>\n",
       "      <td>229.0</td>\n",
       "      <td>4.0</td>\n",
       "      <td>3.0</td>\n",
       "      <td>0.0</td>\n",
       "      <td>4.0</td>\n",
       "      <td>4.0</td>\n",
       "      <td>4.0</td>\n",
       "      <td>4.0</td>\n",
       "      <td>4.0</td>\n",
       "      <td>20.0</td>\n",
       "      <td>75</td>\n",
       "      <td>4.0</td>\n",
       "      <td>2.0</td>\n",
       "      <td>57.250000</td>\n",
       "      <td>3.0</td>\n",
       "      <td>1.0</td>\n",
       "      <td>1.0</td>\n",
       "      <td>1.0</td>\n",
       "      <td>1.0</td>\n",
       "      <td>0.0</td>\n",
       "      <td>0.0</td>\n",
       "      <td>0.0</td>\n",
       "    </tr>\n",
       "    <tr>\n",
       "      <th>8</th>\n",
       "      <td>ISHINABE CAFE 石鍋堂</td>\n",
       "      <td>$51-100</td>\n",
       "      <td>Japanese</td>\n",
       "      <td>KL</td>\n",
       "      <td>12055.0</td>\n",
       "      <td>254.0</td>\n",
       "      <td>8.0</td>\n",
       "      <td>1.0</td>\n",
       "      <td>0.0</td>\n",
       "      <td>4.0</td>\n",
       "      <td>3.0</td>\n",
       "      <td>4.0</td>\n",
       "      <td>4.0</td>\n",
       "      <td>4.0</td>\n",
       "      <td>19.0</td>\n",
       "      <td>75</td>\n",
       "      <td>4.0</td>\n",
       "      <td>2.0</td>\n",
       "      <td>31.750000</td>\n",
       "      <td>1.0</td>\n",
       "      <td>2.0</td>\n",
       "      <td>0.0</td>\n",
       "      <td>0.0</td>\n",
       "      <td>1.0</td>\n",
       "      <td>0.0</td>\n",
       "      <td>0.0</td>\n",
       "      <td>0.0</td>\n",
       "    </tr>\n",
       "    <tr>\n",
       "      <th>...</th>\n",
       "      <td>...</td>\n",
       "      <td>...</td>\n",
       "      <td>...</td>\n",
       "      <td>...</td>\n",
       "      <td>...</td>\n",
       "      <td>...</td>\n",
       "      <td>...</td>\n",
       "      <td>...</td>\n",
       "      <td>...</td>\n",
       "      <td>...</td>\n",
       "      <td>...</td>\n",
       "      <td>...</td>\n",
       "      <td>...</td>\n",
       "      <td>...</td>\n",
       "      <td>...</td>\n",
       "      <td>...</td>\n",
       "      <td>...</td>\n",
       "      <td>...</td>\n",
       "      <td>...</td>\n",
       "      <td>...</td>\n",
       "      <td>...</td>\n",
       "      <td>...</td>\n",
       "      <td>...</td>\n",
       "      <td>...</td>\n",
       "      <td>...</td>\n",
       "      <td>...</td>\n",
       "      <td>...</td>\n",
       "    </tr>\n",
       "    <tr>\n",
       "      <th>322</th>\n",
       "      <td>Gyujin Shabu Shabu &amp; Sukiyaki Restaurant (Disc...</td>\n",
       "      <td>$101-200</td>\n",
       "      <td>Japanese</td>\n",
       "      <td>NT</td>\n",
       "      <td>2011.0</td>\n",
       "      <td>70.0</td>\n",
       "      <td>7.0</td>\n",
       "      <td>7.0</td>\n",
       "      <td>0.0</td>\n",
       "      <td>4.0</td>\n",
       "      <td>4.0</td>\n",
       "      <td>4.0</td>\n",
       "      <td>4.0</td>\n",
       "      <td>3.0</td>\n",
       "      <td>19.0</td>\n",
       "      <td>150</td>\n",
       "      <td>4.0</td>\n",
       "      <td>4.0</td>\n",
       "      <td>10.000000</td>\n",
       "      <td>6.0</td>\n",
       "      <td>2.0</td>\n",
       "      <td>1.0</td>\n",
       "      <td>1.0</td>\n",
       "      <td>1.0</td>\n",
       "      <td>1.0</td>\n",
       "      <td>1.0</td>\n",
       "      <td>1.0</td>\n",
       "    </tr>\n",
       "    <tr>\n",
       "      <th>325</th>\n",
       "      <td>Magic Touch (大鴻輝(荃灣)中心)</td>\n",
       "      <td>$101-200</td>\n",
       "      <td>Japanese</td>\n",
       "      <td>NT</td>\n",
       "      <td>2174.0</td>\n",
       "      <td>23.0</td>\n",
       "      <td>2.0</td>\n",
       "      <td>3.0</td>\n",
       "      <td>0.0</td>\n",
       "      <td>3.0</td>\n",
       "      <td>4.0</td>\n",
       "      <td>3.0</td>\n",
       "      <td>4.0</td>\n",
       "      <td>3.0</td>\n",
       "      <td>17.0</td>\n",
       "      <td>150</td>\n",
       "      <td>4.0</td>\n",
       "      <td>4.0</td>\n",
       "      <td>11.500000</td>\n",
       "      <td>4.0</td>\n",
       "      <td>1.0</td>\n",
       "      <td>0.0</td>\n",
       "      <td>0.0</td>\n",
       "      <td>1.0</td>\n",
       "      <td>1.0</td>\n",
       "      <td>0.0</td>\n",
       "      <td>1.0</td>\n",
       "    </tr>\n",
       "    <tr>\n",
       "      <th>327</th>\n",
       "      <td>Gyujin Shabu Shabu &amp; Sukiyaki Restaurant (City...</td>\n",
       "      <td>$101-200</td>\n",
       "      <td>Japanese</td>\n",
       "      <td>NT</td>\n",
       "      <td>1543.0</td>\n",
       "      <td>64.0</td>\n",
       "      <td>2.0</td>\n",
       "      <td>7.0</td>\n",
       "      <td>0.0</td>\n",
       "      <td>4.0</td>\n",
       "      <td>4.0</td>\n",
       "      <td>4.0</td>\n",
       "      <td>4.0</td>\n",
       "      <td>4.0</td>\n",
       "      <td>20.0</td>\n",
       "      <td>150</td>\n",
       "      <td>4.0</td>\n",
       "      <td>4.0</td>\n",
       "      <td>32.000000</td>\n",
       "      <td>3.0</td>\n",
       "      <td>4.0</td>\n",
       "      <td>1.0</td>\n",
       "      <td>1.0</td>\n",
       "      <td>1.0</td>\n",
       "      <td>0.0</td>\n",
       "      <td>0.0</td>\n",
       "      <td>0.0</td>\n",
       "    </tr>\n",
       "    <tr>\n",
       "      <th>328</th>\n",
       "      <td>侍元</td>\n",
       "      <td>$51-100</td>\n",
       "      <td>Japanese</td>\n",
       "      <td>NT</td>\n",
       "      <td>384.0</td>\n",
       "      <td>27.0</td>\n",
       "      <td>5.0</td>\n",
       "      <td>1.0</td>\n",
       "      <td>0.0</td>\n",
       "      <td>3.0</td>\n",
       "      <td>4.0</td>\n",
       "      <td>3.0</td>\n",
       "      <td>4.0</td>\n",
       "      <td>4.0</td>\n",
       "      <td>18.0</td>\n",
       "      <td>75</td>\n",
       "      <td>4.0</td>\n",
       "      <td>4.0</td>\n",
       "      <td>5.400000</td>\n",
       "      <td>6.0</td>\n",
       "      <td>1.0</td>\n",
       "      <td>1.0</td>\n",
       "      <td>1.0</td>\n",
       "      <td>1.0</td>\n",
       "      <td>0.0</td>\n",
       "      <td>0.0</td>\n",
       "      <td>1.0</td>\n",
       "    </tr>\n",
       "    <tr>\n",
       "      <th>329</th>\n",
       "      <td>Genki Sushi 元気寿司</td>\n",
       "      <td>$101-200</td>\n",
       "      <td>Japanese</td>\n",
       "      <td>NT</td>\n",
       "      <td>1126.0</td>\n",
       "      <td>51.0</td>\n",
       "      <td>3.0</td>\n",
       "      <td>64.0</td>\n",
       "      <td>0.0</td>\n",
       "      <td>3.0</td>\n",
       "      <td>4.0</td>\n",
       "      <td>3.0</td>\n",
       "      <td>3.0</td>\n",
       "      <td>3.0</td>\n",
       "      <td>16.0</td>\n",
       "      <td>150</td>\n",
       "      <td>4.0</td>\n",
       "      <td>4.0</td>\n",
       "      <td>17.000000</td>\n",
       "      <td>9.0</td>\n",
       "      <td>3.0</td>\n",
       "      <td>0.0</td>\n",
       "      <td>0.0</td>\n",
       "      <td>1.0</td>\n",
       "      <td>1.0</td>\n",
       "      <td>1.0</td>\n",
       "      <td>1.0</td>\n",
       "    </tr>\n",
       "  </tbody>\n",
       "</table>\n",
       "<p>170 rows × 27 columns</p>\n",
       "</div>"
      ],
      "text/plain": [
       "                                                  name     price food_type  \\\n",
       "1                                             Poach 蟲二  $101-200  Japanese   \n",
       "3                                         Shinko 申子居酒屋  $201-400  Japanese   \n",
       "4                                     Big Bang Don 爆丼屋  $101-200  Japanese   \n",
       "7                                      Issyokemen 一生懸麵   $51-100  Japanese   \n",
       "8                                    ISHINABE CAFE 石鍋堂   $51-100  Japanese   \n",
       "..                                                 ...       ...       ...   \n",
       "322  Gyujin Shabu Shabu & Sukiyaki Restaurant (Disc...  $101-200  Japanese   \n",
       "325                            Magic Touch (大鴻輝(荃灣)中心)  $101-200  Japanese   \n",
       "327  Gyujin Shabu Shabu & Sukiyaki Restaurant (City...  $101-200  Japanese   \n",
       "328                                                 侍元   $51-100  Japanese   \n",
       "329                                   Genki Sushi 元気寿司  $101-200  Japanese   \n",
       "\n",
       "    location  bookmark  happy    sad  num_branch  num_seat  taste  decor  \\\n",
       "1         KL   28896.0  310.0   34.0         1.0       0.0    3.0    4.0   \n",
       "3         KL   30325.0  481.0   11.0         2.0       0.0    4.0    4.0   \n",
       "4         KL   31504.0  394.0  111.0         2.0       0.0    3.0    3.0   \n",
       "7         KL   15010.0  229.0    4.0         3.0       0.0    4.0    4.0   \n",
       "8         KL   12055.0  254.0    8.0         1.0       0.0    4.0    3.0   \n",
       "..       ...       ...    ...    ...         ...       ...    ...    ...   \n",
       "322       NT    2011.0   70.0    7.0         7.0       0.0    4.0    4.0   \n",
       "325       NT    2174.0   23.0    2.0         3.0       0.0    3.0    4.0   \n",
       "327       NT    1543.0   64.0    2.0         7.0       0.0    4.0    4.0   \n",
       "328       NT     384.0   27.0    5.0         1.0       0.0    3.0    4.0   \n",
       "329       NT    1126.0   51.0    3.0        64.0       0.0    3.0    4.0   \n",
       "\n",
       "     service  hygiene  value  overall  price_int  food_int  location_int  \\\n",
       "1        3.0      4.0    3.0     17.0        150       4.0           2.0   \n",
       "3        4.0      4.0    3.0     19.0        300       4.0           2.0   \n",
       "4        3.0      3.0    3.0     15.0        150       4.0           2.0   \n",
       "7        4.0      4.0    4.0     20.0         75       4.0           2.0   \n",
       "8        4.0      4.0    4.0     19.0         75       4.0           2.0   \n",
       "..       ...      ...    ...      ...        ...       ...           ...   \n",
       "322      4.0      4.0    3.0     19.0        150       4.0           4.0   \n",
       "325      3.0      4.0    3.0     17.0        150       4.0           4.0   \n",
       "327      4.0      4.0    4.0     20.0        150       4.0           4.0   \n",
       "328      3.0      4.0    4.0     18.0         75       4.0           4.0   \n",
       "329      3.0      3.0    3.0     16.0        150       4.0           4.0   \n",
       "\n",
       "     happy_vs_sad  num_payment  num_facility  Alipay  AlipayHK  Cash  Master  \\\n",
       "1        9.117647          2.0           5.0     0.0       0.0   1.0     0.0   \n",
       "3       43.727273         12.0          12.0     1.0       1.0   1.0     1.0   \n",
       "4        3.549550          5.0           1.0     0.0       0.0   1.0     1.0   \n",
       "7       57.250000          3.0           1.0     1.0       1.0   1.0     0.0   \n",
       "8       31.750000          1.0           2.0     0.0       0.0   1.0     0.0   \n",
       "..            ...          ...           ...     ...       ...   ...     ...   \n",
       "322     10.000000          6.0           2.0     1.0       1.0   1.0     1.0   \n",
       "325     11.500000          4.0           1.0     0.0       0.0   1.0     1.0   \n",
       "327     32.000000          3.0           4.0     1.0       1.0   1.0     0.0   \n",
       "328      5.400000          6.0           1.0     1.0       1.0   1.0     0.0   \n",
       "329     17.000000          9.0           3.0     0.0       0.0   1.0     1.0   \n",
       "\n",
       "     UnionPay  Visa  \n",
       "1         0.0   0.0  \n",
       "3         1.0   1.0  \n",
       "4         1.0   1.0  \n",
       "7         0.0   0.0  \n",
       "8         0.0   0.0  \n",
       "..        ...   ...  \n",
       "322       1.0   1.0  \n",
       "325       0.0   1.0  \n",
       "327       0.0   0.0  \n",
       "328       0.0   1.0  \n",
       "329       1.0   1.0  \n",
       "\n",
       "[170 rows x 27 columns]"
      ]
     },
     "execution_count": 32,
     "metadata": {},
     "output_type": "execute_result"
    }
   ],
   "source": [
    "df[df['num_seat']==0]"
   ]
  },
  {
   "cell_type": "markdown",
   "id": "7d20e9cb",
   "metadata": {},
   "source": [
    "<h1> Conduct Analysis"
   ]
  },
  {
   "cell_type": "code",
   "execution_count": 27,
   "id": "4c163445",
   "metadata": {},
   "outputs": [
    {
     "name": "stderr",
     "output_type": "stream",
     "text": [
      "/Users/Jacky/opt/anaconda3/lib/python3.8/site-packages/seaborn/distributions.py:306: UserWarning: Dataset has 0 variance; skipping density estimate.\n",
      "  warnings.warn(msg, UserWarning)\n",
      "/Users/Jacky/opt/anaconda3/lib/python3.8/site-packages/seaborn/distributions.py:306: UserWarning: Dataset has 0 variance; skipping density estimate.\n",
      "  warnings.warn(msg, UserWarning)\n",
      "/Users/Jacky/opt/anaconda3/lib/python3.8/site-packages/seaborn/distributions.py:306: UserWarning: Dataset has 0 variance; skipping density estimate.\n",
      "  warnings.warn(msg, UserWarning)\n",
      "/Users/Jacky/opt/anaconda3/lib/python3.8/site-packages/seaborn/distributions.py:306: UserWarning: Dataset has 0 variance; skipping density estimate.\n",
      "  warnings.warn(msg, UserWarning)\n",
      "/Users/Jacky/opt/anaconda3/lib/python3.8/site-packages/seaborn/distributions.py:306: UserWarning: Dataset has 0 variance; skipping density estimate.\n",
      "  warnings.warn(msg, UserWarning)\n"
     ]
    },
    {
     "data": {
      "text/plain": [
       "<seaborn.axisgrid.PairGrid at 0x7f912b8fed30>"
      ]
     },
     "execution_count": 27,
     "metadata": {},
     "output_type": "execute_result"
    },
    {
     "name": "stdout",
     "output_type": "stream",
     "text": [
      "Error in callback <function flush_figures at 0x7f912ac61d30> (for post_execute):\n"
     ]
    },
    {
     "ename": "KeyboardInterrupt",
     "evalue": "",
     "output_type": "error",
     "traceback": [
      "\u001b[0;31m---------------------------------------------------------------------------\u001b[0m",
      "\u001b[0;31mKeyboardInterrupt\u001b[0m                         Traceback (most recent call last)",
      "\u001b[0;32m~/opt/anaconda3/lib/python3.8/site-packages/ipykernel/pylab/backend_inline.py\u001b[0m in \u001b[0;36mflush_figures\u001b[0;34m()\u001b[0m\n\u001b[1;32m    119\u001b[0m         \u001b[0;31m# ignore the tracking, just draw and close all figures\u001b[0m\u001b[0;34m\u001b[0m\u001b[0;34m\u001b[0m\u001b[0;34m\u001b[0m\u001b[0m\n\u001b[1;32m    120\u001b[0m         \u001b[0;32mtry\u001b[0m\u001b[0;34m:\u001b[0m\u001b[0;34m\u001b[0m\u001b[0;34m\u001b[0m\u001b[0m\n\u001b[0;32m--> 121\u001b[0;31m             \u001b[0;32mreturn\u001b[0m \u001b[0mshow\u001b[0m\u001b[0;34m(\u001b[0m\u001b[0;32mTrue\u001b[0m\u001b[0;34m)\u001b[0m\u001b[0;34m\u001b[0m\u001b[0;34m\u001b[0m\u001b[0m\n\u001b[0m\u001b[1;32m    122\u001b[0m         \u001b[0;32mexcept\u001b[0m \u001b[0mException\u001b[0m \u001b[0;32mas\u001b[0m \u001b[0me\u001b[0m\u001b[0;34m:\u001b[0m\u001b[0;34m\u001b[0m\u001b[0;34m\u001b[0m\u001b[0m\n\u001b[1;32m    123\u001b[0m             \u001b[0;31m# safely show traceback if in IPython, else raise\u001b[0m\u001b[0;34m\u001b[0m\u001b[0;34m\u001b[0m\u001b[0;34m\u001b[0m\u001b[0m\n",
      "\u001b[0;32m~/opt/anaconda3/lib/python3.8/site-packages/ipykernel/pylab/backend_inline.py\u001b[0m in \u001b[0;36mshow\u001b[0;34m(close, block)\u001b[0m\n\u001b[1;32m     39\u001b[0m     \u001b[0;32mtry\u001b[0m\u001b[0;34m:\u001b[0m\u001b[0;34m\u001b[0m\u001b[0;34m\u001b[0m\u001b[0m\n\u001b[1;32m     40\u001b[0m         \u001b[0;32mfor\u001b[0m \u001b[0mfigure_manager\u001b[0m \u001b[0;32min\u001b[0m \u001b[0mGcf\u001b[0m\u001b[0;34m.\u001b[0m\u001b[0mget_all_fig_managers\u001b[0m\u001b[0;34m(\u001b[0m\u001b[0;34m)\u001b[0m\u001b[0;34m:\u001b[0m\u001b[0;34m\u001b[0m\u001b[0;34m\u001b[0m\u001b[0m\n\u001b[0;32m---> 41\u001b[0;31m             display(\n\u001b[0m\u001b[1;32m     42\u001b[0m                 \u001b[0mfigure_manager\u001b[0m\u001b[0;34m.\u001b[0m\u001b[0mcanvas\u001b[0m\u001b[0;34m.\u001b[0m\u001b[0mfigure\u001b[0m\u001b[0;34m,\u001b[0m\u001b[0;34m\u001b[0m\u001b[0;34m\u001b[0m\u001b[0m\n\u001b[1;32m     43\u001b[0m                 \u001b[0mmetadata\u001b[0m\u001b[0;34m=\u001b[0m\u001b[0m_fetch_figure_metadata\u001b[0m\u001b[0;34m(\u001b[0m\u001b[0mfigure_manager\u001b[0m\u001b[0;34m.\u001b[0m\u001b[0mcanvas\u001b[0m\u001b[0;34m.\u001b[0m\u001b[0mfigure\u001b[0m\u001b[0;34m)\u001b[0m\u001b[0;34m\u001b[0m\u001b[0;34m\u001b[0m\u001b[0m\n",
      "\u001b[0;32m~/opt/anaconda3/lib/python3.8/site-packages/IPython/core/display.py\u001b[0m in \u001b[0;36mdisplay\u001b[0;34m(include, exclude, metadata, transient, display_id, *objs, **kwargs)\u001b[0m\n\u001b[1;32m    311\u001b[0m             \u001b[0mpublish_display_data\u001b[0m\u001b[0;34m(\u001b[0m\u001b[0mdata\u001b[0m\u001b[0;34m=\u001b[0m\u001b[0mobj\u001b[0m\u001b[0;34m,\u001b[0m \u001b[0mmetadata\u001b[0m\u001b[0;34m=\u001b[0m\u001b[0mmetadata\u001b[0m\u001b[0;34m,\u001b[0m \u001b[0;34m**\u001b[0m\u001b[0mkwargs\u001b[0m\u001b[0;34m)\u001b[0m\u001b[0;34m\u001b[0m\u001b[0;34m\u001b[0m\u001b[0m\n\u001b[1;32m    312\u001b[0m         \u001b[0;32melse\u001b[0m\u001b[0;34m:\u001b[0m\u001b[0;34m\u001b[0m\u001b[0;34m\u001b[0m\u001b[0m\n\u001b[0;32m--> 313\u001b[0;31m             \u001b[0mformat_dict\u001b[0m\u001b[0;34m,\u001b[0m \u001b[0mmd_dict\u001b[0m \u001b[0;34m=\u001b[0m \u001b[0mformat\u001b[0m\u001b[0;34m(\u001b[0m\u001b[0mobj\u001b[0m\u001b[0;34m,\u001b[0m \u001b[0minclude\u001b[0m\u001b[0;34m=\u001b[0m\u001b[0minclude\u001b[0m\u001b[0;34m,\u001b[0m \u001b[0mexclude\u001b[0m\u001b[0;34m=\u001b[0m\u001b[0mexclude\u001b[0m\u001b[0;34m)\u001b[0m\u001b[0;34m\u001b[0m\u001b[0;34m\u001b[0m\u001b[0m\n\u001b[0m\u001b[1;32m    314\u001b[0m             \u001b[0;32mif\u001b[0m \u001b[0;32mnot\u001b[0m \u001b[0mformat_dict\u001b[0m\u001b[0;34m:\u001b[0m\u001b[0;34m\u001b[0m\u001b[0;34m\u001b[0m\u001b[0m\n\u001b[1;32m    315\u001b[0m                 \u001b[0;31m# nothing to display (e.g. _ipython_display_ took over)\u001b[0m\u001b[0;34m\u001b[0m\u001b[0;34m\u001b[0m\u001b[0;34m\u001b[0m\u001b[0m\n",
      "\u001b[0;32m~/opt/anaconda3/lib/python3.8/site-packages/IPython/core/formatters.py\u001b[0m in \u001b[0;36mformat\u001b[0;34m(self, obj, include, exclude)\u001b[0m\n\u001b[1;32m    178\u001b[0m             \u001b[0mmd\u001b[0m \u001b[0;34m=\u001b[0m \u001b[0;32mNone\u001b[0m\u001b[0;34m\u001b[0m\u001b[0;34m\u001b[0m\u001b[0m\n\u001b[1;32m    179\u001b[0m             \u001b[0;32mtry\u001b[0m\u001b[0;34m:\u001b[0m\u001b[0;34m\u001b[0m\u001b[0;34m\u001b[0m\u001b[0m\n\u001b[0;32m--> 180\u001b[0;31m                 \u001b[0mdata\u001b[0m \u001b[0;34m=\u001b[0m \u001b[0mformatter\u001b[0m\u001b[0;34m(\u001b[0m\u001b[0mobj\u001b[0m\u001b[0;34m)\u001b[0m\u001b[0;34m\u001b[0m\u001b[0;34m\u001b[0m\u001b[0m\n\u001b[0m\u001b[1;32m    181\u001b[0m             \u001b[0;32mexcept\u001b[0m\u001b[0;34m:\u001b[0m\u001b[0;34m\u001b[0m\u001b[0;34m\u001b[0m\u001b[0m\n\u001b[1;32m    182\u001b[0m                 \u001b[0;31m# FIXME: log the exception\u001b[0m\u001b[0;34m\u001b[0m\u001b[0;34m\u001b[0m\u001b[0;34m\u001b[0m\u001b[0m\n",
      "\u001b[0;32m~/opt/anaconda3/lib/python3.8/site-packages/decorator.py\u001b[0m in \u001b[0;36mfun\u001b[0;34m(*args, **kw)\u001b[0m\n\u001b[1;32m    229\u001b[0m             \u001b[0;32mif\u001b[0m \u001b[0;32mnot\u001b[0m \u001b[0mkwsyntax\u001b[0m\u001b[0;34m:\u001b[0m\u001b[0;34m\u001b[0m\u001b[0;34m\u001b[0m\u001b[0m\n\u001b[1;32m    230\u001b[0m                 \u001b[0margs\u001b[0m\u001b[0;34m,\u001b[0m \u001b[0mkw\u001b[0m \u001b[0;34m=\u001b[0m \u001b[0mfix\u001b[0m\u001b[0;34m(\u001b[0m\u001b[0margs\u001b[0m\u001b[0;34m,\u001b[0m \u001b[0mkw\u001b[0m\u001b[0;34m,\u001b[0m \u001b[0msig\u001b[0m\u001b[0;34m)\u001b[0m\u001b[0;34m\u001b[0m\u001b[0;34m\u001b[0m\u001b[0m\n\u001b[0;32m--> 231\u001b[0;31m             \u001b[0;32mreturn\u001b[0m \u001b[0mcaller\u001b[0m\u001b[0;34m(\u001b[0m\u001b[0mfunc\u001b[0m\u001b[0;34m,\u001b[0m \u001b[0;34m*\u001b[0m\u001b[0;34m(\u001b[0m\u001b[0mextras\u001b[0m \u001b[0;34m+\u001b[0m \u001b[0margs\u001b[0m\u001b[0;34m)\u001b[0m\u001b[0;34m,\u001b[0m \u001b[0;34m**\u001b[0m\u001b[0mkw\u001b[0m\u001b[0;34m)\u001b[0m\u001b[0;34m\u001b[0m\u001b[0;34m\u001b[0m\u001b[0m\n\u001b[0m\u001b[1;32m    232\u001b[0m     \u001b[0mfun\u001b[0m\u001b[0;34m.\u001b[0m\u001b[0m__name__\u001b[0m \u001b[0;34m=\u001b[0m \u001b[0mfunc\u001b[0m\u001b[0;34m.\u001b[0m\u001b[0m__name__\u001b[0m\u001b[0;34m\u001b[0m\u001b[0;34m\u001b[0m\u001b[0m\n\u001b[1;32m    233\u001b[0m     \u001b[0mfun\u001b[0m\u001b[0;34m.\u001b[0m\u001b[0m__doc__\u001b[0m \u001b[0;34m=\u001b[0m \u001b[0mfunc\u001b[0m\u001b[0;34m.\u001b[0m\u001b[0m__doc__\u001b[0m\u001b[0;34m\u001b[0m\u001b[0;34m\u001b[0m\u001b[0m\n",
      "\u001b[0;32m~/opt/anaconda3/lib/python3.8/site-packages/IPython/core/formatters.py\u001b[0m in \u001b[0;36mcatch_format_error\u001b[0;34m(method, self, *args, **kwargs)\u001b[0m\n\u001b[1;32m    222\u001b[0m     \u001b[0;34m\"\"\"show traceback on failed format call\"\"\"\u001b[0m\u001b[0;34m\u001b[0m\u001b[0;34m\u001b[0m\u001b[0m\n\u001b[1;32m    223\u001b[0m     \u001b[0;32mtry\u001b[0m\u001b[0;34m:\u001b[0m\u001b[0;34m\u001b[0m\u001b[0;34m\u001b[0m\u001b[0m\n\u001b[0;32m--> 224\u001b[0;31m         \u001b[0mr\u001b[0m \u001b[0;34m=\u001b[0m \u001b[0mmethod\u001b[0m\u001b[0;34m(\u001b[0m\u001b[0mself\u001b[0m\u001b[0;34m,\u001b[0m \u001b[0;34m*\u001b[0m\u001b[0margs\u001b[0m\u001b[0;34m,\u001b[0m \u001b[0;34m**\u001b[0m\u001b[0mkwargs\u001b[0m\u001b[0;34m)\u001b[0m\u001b[0;34m\u001b[0m\u001b[0;34m\u001b[0m\u001b[0m\n\u001b[0m\u001b[1;32m    225\u001b[0m     \u001b[0;32mexcept\u001b[0m \u001b[0mNotImplementedError\u001b[0m\u001b[0;34m:\u001b[0m\u001b[0;34m\u001b[0m\u001b[0;34m\u001b[0m\u001b[0m\n\u001b[1;32m    226\u001b[0m         \u001b[0;31m# don't warn on NotImplementedErrors\u001b[0m\u001b[0;34m\u001b[0m\u001b[0;34m\u001b[0m\u001b[0;34m\u001b[0m\u001b[0m\n",
      "\u001b[0;32m~/opt/anaconda3/lib/python3.8/site-packages/IPython/core/formatters.py\u001b[0m in \u001b[0;36m__call__\u001b[0;34m(self, obj)\u001b[0m\n\u001b[1;32m    339\u001b[0m                 \u001b[0;32mpass\u001b[0m\u001b[0;34m\u001b[0m\u001b[0;34m\u001b[0m\u001b[0m\n\u001b[1;32m    340\u001b[0m             \u001b[0;32melse\u001b[0m\u001b[0;34m:\u001b[0m\u001b[0;34m\u001b[0m\u001b[0;34m\u001b[0m\u001b[0m\n\u001b[0;32m--> 341\u001b[0;31m                 \u001b[0;32mreturn\u001b[0m \u001b[0mprinter\u001b[0m\u001b[0;34m(\u001b[0m\u001b[0mobj\u001b[0m\u001b[0;34m)\u001b[0m\u001b[0;34m\u001b[0m\u001b[0;34m\u001b[0m\u001b[0m\n\u001b[0m\u001b[1;32m    342\u001b[0m             \u001b[0;31m# Finally look for special method names\u001b[0m\u001b[0;34m\u001b[0m\u001b[0;34m\u001b[0m\u001b[0;34m\u001b[0m\u001b[0m\n\u001b[1;32m    343\u001b[0m             \u001b[0mmethod\u001b[0m \u001b[0;34m=\u001b[0m \u001b[0mget_real_method\u001b[0m\u001b[0;34m(\u001b[0m\u001b[0mobj\u001b[0m\u001b[0;34m,\u001b[0m \u001b[0mself\u001b[0m\u001b[0;34m.\u001b[0m\u001b[0mprint_method\u001b[0m\u001b[0;34m)\u001b[0m\u001b[0;34m\u001b[0m\u001b[0;34m\u001b[0m\u001b[0m\n",
      "\u001b[0;32m~/opt/anaconda3/lib/python3.8/site-packages/IPython/core/pylabtools.py\u001b[0m in \u001b[0;36m<lambda>\u001b[0;34m(fig)\u001b[0m\n\u001b[1;32m    246\u001b[0m \u001b[0;34m\u001b[0m\u001b[0m\n\u001b[1;32m    247\u001b[0m     \u001b[0;32mif\u001b[0m \u001b[0;34m'png'\u001b[0m \u001b[0;32min\u001b[0m \u001b[0mformats\u001b[0m\u001b[0;34m:\u001b[0m\u001b[0;34m\u001b[0m\u001b[0;34m\u001b[0m\u001b[0m\n\u001b[0;32m--> 248\u001b[0;31m         \u001b[0mpng_formatter\u001b[0m\u001b[0;34m.\u001b[0m\u001b[0mfor_type\u001b[0m\u001b[0;34m(\u001b[0m\u001b[0mFigure\u001b[0m\u001b[0;34m,\u001b[0m \u001b[0;32mlambda\u001b[0m \u001b[0mfig\u001b[0m\u001b[0;34m:\u001b[0m \u001b[0mprint_figure\u001b[0m\u001b[0;34m(\u001b[0m\u001b[0mfig\u001b[0m\u001b[0;34m,\u001b[0m \u001b[0;34m'png'\u001b[0m\u001b[0;34m,\u001b[0m \u001b[0;34m**\u001b[0m\u001b[0mkwargs\u001b[0m\u001b[0;34m)\u001b[0m\u001b[0;34m)\u001b[0m\u001b[0;34m\u001b[0m\u001b[0;34m\u001b[0m\u001b[0m\n\u001b[0m\u001b[1;32m    249\u001b[0m     \u001b[0;32mif\u001b[0m \u001b[0;34m'retina'\u001b[0m \u001b[0;32min\u001b[0m \u001b[0mformats\u001b[0m \u001b[0;32mor\u001b[0m \u001b[0;34m'png2x'\u001b[0m \u001b[0;32min\u001b[0m \u001b[0mformats\u001b[0m\u001b[0;34m:\u001b[0m\u001b[0;34m\u001b[0m\u001b[0;34m\u001b[0m\u001b[0m\n\u001b[1;32m    250\u001b[0m         \u001b[0mpng_formatter\u001b[0m\u001b[0;34m.\u001b[0m\u001b[0mfor_type\u001b[0m\u001b[0;34m(\u001b[0m\u001b[0mFigure\u001b[0m\u001b[0;34m,\u001b[0m \u001b[0;32mlambda\u001b[0m \u001b[0mfig\u001b[0m\u001b[0;34m:\u001b[0m \u001b[0mretina_figure\u001b[0m\u001b[0;34m(\u001b[0m\u001b[0mfig\u001b[0m\u001b[0;34m,\u001b[0m \u001b[0;34m**\u001b[0m\u001b[0mkwargs\u001b[0m\u001b[0;34m)\u001b[0m\u001b[0;34m)\u001b[0m\u001b[0;34m\u001b[0m\u001b[0;34m\u001b[0m\u001b[0m\n",
      "\u001b[0;32m~/opt/anaconda3/lib/python3.8/site-packages/IPython/core/pylabtools.py\u001b[0m in \u001b[0;36mprint_figure\u001b[0;34m(fig, fmt, bbox_inches, **kwargs)\u001b[0m\n\u001b[1;32m    130\u001b[0m         \u001b[0mFigureCanvasBase\u001b[0m\u001b[0;34m(\u001b[0m\u001b[0mfig\u001b[0m\u001b[0;34m)\u001b[0m\u001b[0;34m\u001b[0m\u001b[0;34m\u001b[0m\u001b[0m\n\u001b[1;32m    131\u001b[0m \u001b[0;34m\u001b[0m\u001b[0m\n\u001b[0;32m--> 132\u001b[0;31m     \u001b[0mfig\u001b[0m\u001b[0;34m.\u001b[0m\u001b[0mcanvas\u001b[0m\u001b[0;34m.\u001b[0m\u001b[0mprint_figure\u001b[0m\u001b[0;34m(\u001b[0m\u001b[0mbytes_io\u001b[0m\u001b[0;34m,\u001b[0m \u001b[0;34m**\u001b[0m\u001b[0mkw\u001b[0m\u001b[0;34m)\u001b[0m\u001b[0;34m\u001b[0m\u001b[0;34m\u001b[0m\u001b[0m\n\u001b[0m\u001b[1;32m    133\u001b[0m     \u001b[0mdata\u001b[0m \u001b[0;34m=\u001b[0m \u001b[0mbytes_io\u001b[0m\u001b[0;34m.\u001b[0m\u001b[0mgetvalue\u001b[0m\u001b[0;34m(\u001b[0m\u001b[0;34m)\u001b[0m\u001b[0;34m\u001b[0m\u001b[0;34m\u001b[0m\u001b[0m\n\u001b[1;32m    134\u001b[0m     \u001b[0;32mif\u001b[0m \u001b[0mfmt\u001b[0m \u001b[0;34m==\u001b[0m \u001b[0;34m'svg'\u001b[0m\u001b[0;34m:\u001b[0m\u001b[0;34m\u001b[0m\u001b[0;34m\u001b[0m\u001b[0m\n",
      "\u001b[0;32m~/opt/anaconda3/lib/python3.8/site-packages/matplotlib/backend_bases.py\u001b[0m in \u001b[0;36mprint_figure\u001b[0;34m(self, filename, dpi, facecolor, edgecolor, orientation, format, bbox_inches, pad_inches, bbox_extra_artists, backend, **kwargs)\u001b[0m\n\u001b[1;32m   2193\u001b[0m                         \u001b[0mself\u001b[0m\u001b[0;34m.\u001b[0m\u001b[0mfigure\u001b[0m\u001b[0;34m.\u001b[0m\u001b[0mdraw\u001b[0m\u001b[0;34m(\u001b[0m\u001b[0mrenderer\u001b[0m\u001b[0;34m)\u001b[0m\u001b[0;34m\u001b[0m\u001b[0;34m\u001b[0m\u001b[0m\n\u001b[1;32m   2194\u001b[0m \u001b[0;34m\u001b[0m\u001b[0m\n\u001b[0;32m-> 2195\u001b[0;31m                     bbox_inches = self.figure.get_tightbbox(\n\u001b[0m\u001b[1;32m   2196\u001b[0m                         renderer, bbox_extra_artists=bbox_extra_artists)\n\u001b[1;32m   2197\u001b[0m                     \u001b[0;32mif\u001b[0m \u001b[0mpad_inches\u001b[0m \u001b[0;32mis\u001b[0m \u001b[0;32mNone\u001b[0m\u001b[0;34m:\u001b[0m\u001b[0;34m\u001b[0m\u001b[0;34m\u001b[0m\u001b[0m\n",
      "\u001b[0;32m~/opt/anaconda3/lib/python3.8/site-packages/matplotlib/figure.py\u001b[0m in \u001b[0;36mget_tightbbox\u001b[0;34m(self, renderer, bbox_extra_artists)\u001b[0m\n\u001b[1;32m   2504\u001b[0m \u001b[0;34m\u001b[0m\u001b[0m\n\u001b[1;32m   2505\u001b[0m         \u001b[0;32mfor\u001b[0m \u001b[0ma\u001b[0m \u001b[0;32min\u001b[0m \u001b[0martists\u001b[0m\u001b[0;34m:\u001b[0m\u001b[0;34m\u001b[0m\u001b[0;34m\u001b[0m\u001b[0m\n\u001b[0;32m-> 2506\u001b[0;31m             \u001b[0mbbox\u001b[0m \u001b[0;34m=\u001b[0m \u001b[0ma\u001b[0m\u001b[0;34m.\u001b[0m\u001b[0mget_tightbbox\u001b[0m\u001b[0;34m(\u001b[0m\u001b[0mrenderer\u001b[0m\u001b[0;34m)\u001b[0m\u001b[0;34m\u001b[0m\u001b[0;34m\u001b[0m\u001b[0m\n\u001b[0m\u001b[1;32m   2507\u001b[0m             \u001b[0;32mif\u001b[0m \u001b[0mbbox\u001b[0m \u001b[0;32mis\u001b[0m \u001b[0;32mnot\u001b[0m \u001b[0;32mNone\u001b[0m \u001b[0;32mand\u001b[0m \u001b[0;34m(\u001b[0m\u001b[0mbbox\u001b[0m\u001b[0;34m.\u001b[0m\u001b[0mwidth\u001b[0m \u001b[0;34m!=\u001b[0m \u001b[0;36m0\u001b[0m \u001b[0;32mor\u001b[0m \u001b[0mbbox\u001b[0m\u001b[0;34m.\u001b[0m\u001b[0mheight\u001b[0m \u001b[0;34m!=\u001b[0m \u001b[0;36m0\u001b[0m\u001b[0;34m)\u001b[0m\u001b[0;34m:\u001b[0m\u001b[0;34m\u001b[0m\u001b[0;34m\u001b[0m\u001b[0m\n\u001b[1;32m   2508\u001b[0m                 \u001b[0mbb\u001b[0m\u001b[0;34m.\u001b[0m\u001b[0mappend\u001b[0m\u001b[0;34m(\u001b[0m\u001b[0mbbox\u001b[0m\u001b[0;34m)\u001b[0m\u001b[0;34m\u001b[0m\u001b[0;34m\u001b[0m\u001b[0m\n",
      "\u001b[0;32m~/opt/anaconda3/lib/python3.8/site-packages/matplotlib/axes/_base.py\u001b[0m in \u001b[0;36mget_tightbbox\u001b[0;34m(self, renderer, call_axes_locator, bbox_extra_artists, for_layout_only)\u001b[0m\n\u001b[1;32m   4160\u001b[0m             \u001b[0;32mif\u001b[0m \u001b[0mself\u001b[0m\u001b[0;34m.\u001b[0m\u001b[0myaxis\u001b[0m\u001b[0;34m.\u001b[0m\u001b[0mget_visible\u001b[0m\u001b[0;34m(\u001b[0m\u001b[0;34m)\u001b[0m\u001b[0;34m:\u001b[0m\u001b[0;34m\u001b[0m\u001b[0;34m\u001b[0m\u001b[0m\n\u001b[1;32m   4161\u001b[0m                 \u001b[0;32mtry\u001b[0m\u001b[0;34m:\u001b[0m\u001b[0;34m\u001b[0m\u001b[0;34m\u001b[0m\u001b[0m\n\u001b[0;32m-> 4162\u001b[0;31m                     bb_yaxis = self.yaxis.get_tightbbox(\n\u001b[0m\u001b[1;32m   4163\u001b[0m                         renderer, for_layout_only=for_layout_only)\n\u001b[1;32m   4164\u001b[0m                 \u001b[0;32mexcept\u001b[0m \u001b[0mTypeError\u001b[0m\u001b[0;34m:\u001b[0m\u001b[0;34m\u001b[0m\u001b[0;34m\u001b[0m\u001b[0m\n",
      "\u001b[0;32m~/opt/anaconda3/lib/python3.8/site-packages/matplotlib/axis.py\u001b[0m in \u001b[0;36mget_tightbbox\u001b[0;34m(self, renderer, for_layout_only)\u001b[0m\n\u001b[1;32m   1109\u001b[0m         \u001b[0mticks_to_draw\u001b[0m \u001b[0;34m=\u001b[0m \u001b[0mself\u001b[0m\u001b[0;34m.\u001b[0m\u001b[0m_update_ticks\u001b[0m\u001b[0;34m(\u001b[0m\u001b[0;34m)\u001b[0m\u001b[0;34m\u001b[0m\u001b[0;34m\u001b[0m\u001b[0m\n\u001b[1;32m   1110\u001b[0m \u001b[0;34m\u001b[0m\u001b[0m\n\u001b[0;32m-> 1111\u001b[0;31m         \u001b[0mself\u001b[0m\u001b[0;34m.\u001b[0m\u001b[0m_update_label_position\u001b[0m\u001b[0;34m(\u001b[0m\u001b[0mrenderer\u001b[0m\u001b[0;34m)\u001b[0m\u001b[0;34m\u001b[0m\u001b[0;34m\u001b[0m\u001b[0m\n\u001b[0m\u001b[1;32m   1112\u001b[0m \u001b[0;34m\u001b[0m\u001b[0m\n\u001b[1;32m   1113\u001b[0m         \u001b[0;31m# go back to just this axis's tick labels\u001b[0m\u001b[0;34m\u001b[0m\u001b[0;34m\u001b[0m\u001b[0;34m\u001b[0m\u001b[0m\n",
      "\u001b[0;32m~/opt/anaconda3/lib/python3.8/site-packages/matplotlib/axis.py\u001b[0m in \u001b[0;36m_update_label_position\u001b[0;34m(self, renderer)\u001b[0m\n\u001b[1;32m   2351\u001b[0m         \u001b[0;31m# get bounding boxes for this axis and any siblings\u001b[0m\u001b[0;34m\u001b[0m\u001b[0;34m\u001b[0m\u001b[0;34m\u001b[0m\u001b[0m\n\u001b[1;32m   2352\u001b[0m         \u001b[0;31m# that have been set by `fig.align_ylabels()`\u001b[0m\u001b[0;34m\u001b[0m\u001b[0;34m\u001b[0m\u001b[0;34m\u001b[0m\u001b[0m\n\u001b[0;32m-> 2353\u001b[0;31m         \u001b[0mbboxes\u001b[0m\u001b[0;34m,\u001b[0m \u001b[0mbboxes2\u001b[0m \u001b[0;34m=\u001b[0m \u001b[0mself\u001b[0m\u001b[0;34m.\u001b[0m\u001b[0m_get_tick_boxes_siblings\u001b[0m\u001b[0;34m(\u001b[0m\u001b[0mrenderer\u001b[0m\u001b[0;34m=\u001b[0m\u001b[0mrenderer\u001b[0m\u001b[0;34m)\u001b[0m\u001b[0;34m\u001b[0m\u001b[0;34m\u001b[0m\u001b[0m\n\u001b[0m\u001b[1;32m   2354\u001b[0m \u001b[0;34m\u001b[0m\u001b[0m\n\u001b[1;32m   2355\u001b[0m         \u001b[0mx\u001b[0m\u001b[0;34m,\u001b[0m \u001b[0my\u001b[0m \u001b[0;34m=\u001b[0m \u001b[0mself\u001b[0m\u001b[0;34m.\u001b[0m\u001b[0mlabel\u001b[0m\u001b[0;34m.\u001b[0m\u001b[0mget_position\u001b[0m\u001b[0;34m(\u001b[0m\u001b[0;34m)\u001b[0m\u001b[0;34m\u001b[0m\u001b[0;34m\u001b[0m\u001b[0m\n",
      "\u001b[0;32m~/opt/anaconda3/lib/python3.8/site-packages/matplotlib/axis.py\u001b[0m in \u001b[0;36m_get_tick_boxes_siblings\u001b[0;34m(self, renderer)\u001b[0m\n\u001b[1;32m   2335\u001b[0m         \u001b[0;31m# if we want to align labels from other axes:\u001b[0m\u001b[0;34m\u001b[0m\u001b[0;34m\u001b[0m\u001b[0;34m\u001b[0m\u001b[0m\n\u001b[1;32m   2336\u001b[0m         \u001b[0;32mfor\u001b[0m \u001b[0maxx\u001b[0m \u001b[0;32min\u001b[0m \u001b[0mgrp\u001b[0m\u001b[0;34m.\u001b[0m\u001b[0mget_siblings\u001b[0m\u001b[0;34m(\u001b[0m\u001b[0mself\u001b[0m\u001b[0;34m.\u001b[0m\u001b[0maxes\u001b[0m\u001b[0;34m)\u001b[0m\u001b[0;34m:\u001b[0m\u001b[0;34m\u001b[0m\u001b[0;34m\u001b[0m\u001b[0m\n\u001b[0;32m-> 2337\u001b[0;31m             \u001b[0mticks_to_draw\u001b[0m \u001b[0;34m=\u001b[0m \u001b[0maxx\u001b[0m\u001b[0;34m.\u001b[0m\u001b[0myaxis\u001b[0m\u001b[0;34m.\u001b[0m\u001b[0m_update_ticks\u001b[0m\u001b[0;34m(\u001b[0m\u001b[0;34m)\u001b[0m\u001b[0;34m\u001b[0m\u001b[0;34m\u001b[0m\u001b[0m\n\u001b[0m\u001b[1;32m   2338\u001b[0m             \u001b[0mtlb\u001b[0m\u001b[0;34m,\u001b[0m \u001b[0mtlb2\u001b[0m \u001b[0;34m=\u001b[0m \u001b[0maxx\u001b[0m\u001b[0;34m.\u001b[0m\u001b[0myaxis\u001b[0m\u001b[0;34m.\u001b[0m\u001b[0m_get_tick_bboxes\u001b[0m\u001b[0;34m(\u001b[0m\u001b[0mticks_to_draw\u001b[0m\u001b[0;34m,\u001b[0m \u001b[0mrenderer\u001b[0m\u001b[0;34m)\u001b[0m\u001b[0;34m\u001b[0m\u001b[0;34m\u001b[0m\u001b[0m\n\u001b[1;32m   2339\u001b[0m             \u001b[0mbboxes\u001b[0m\u001b[0;34m.\u001b[0m\u001b[0mextend\u001b[0m\u001b[0;34m(\u001b[0m\u001b[0mtlb\u001b[0m\u001b[0;34m)\u001b[0m\u001b[0;34m\u001b[0m\u001b[0;34m\u001b[0m\u001b[0m\n",
      "\u001b[0;32m~/opt/anaconda3/lib/python3.8/site-packages/matplotlib/axis.py\u001b[0m in \u001b[0;36m_update_ticks\u001b[0;34m(self)\u001b[0m\n\u001b[1;32m   1022\u001b[0m         \u001b[0mmajor_labels\u001b[0m \u001b[0;34m=\u001b[0m \u001b[0mself\u001b[0m\u001b[0;34m.\u001b[0m\u001b[0mmajor\u001b[0m\u001b[0;34m.\u001b[0m\u001b[0mformatter\u001b[0m\u001b[0;34m.\u001b[0m\u001b[0mformat_ticks\u001b[0m\u001b[0;34m(\u001b[0m\u001b[0mmajor_locs\u001b[0m\u001b[0;34m)\u001b[0m\u001b[0;34m\u001b[0m\u001b[0;34m\u001b[0m\u001b[0m\n\u001b[1;32m   1023\u001b[0m         \u001b[0mmajor_ticks\u001b[0m \u001b[0;34m=\u001b[0m \u001b[0mself\u001b[0m\u001b[0;34m.\u001b[0m\u001b[0mget_major_ticks\u001b[0m\u001b[0;34m(\u001b[0m\u001b[0mlen\u001b[0m\u001b[0;34m(\u001b[0m\u001b[0mmajor_locs\u001b[0m\u001b[0;34m)\u001b[0m\u001b[0;34m)\u001b[0m\u001b[0;34m\u001b[0m\u001b[0;34m\u001b[0m\u001b[0m\n\u001b[0;32m-> 1024\u001b[0;31m         \u001b[0mself\u001b[0m\u001b[0;34m.\u001b[0m\u001b[0mmajor\u001b[0m\u001b[0;34m.\u001b[0m\u001b[0mformatter\u001b[0m\u001b[0;34m.\u001b[0m\u001b[0mset_locs\u001b[0m\u001b[0;34m(\u001b[0m\u001b[0mmajor_locs\u001b[0m\u001b[0;34m)\u001b[0m\u001b[0;34m\u001b[0m\u001b[0;34m\u001b[0m\u001b[0m\n\u001b[0m\u001b[1;32m   1025\u001b[0m         \u001b[0;32mfor\u001b[0m \u001b[0mtick\u001b[0m\u001b[0;34m,\u001b[0m \u001b[0mloc\u001b[0m\u001b[0;34m,\u001b[0m \u001b[0mlabel\u001b[0m \u001b[0;32min\u001b[0m \u001b[0mzip\u001b[0m\u001b[0;34m(\u001b[0m\u001b[0mmajor_ticks\u001b[0m\u001b[0;34m,\u001b[0m \u001b[0mmajor_locs\u001b[0m\u001b[0;34m,\u001b[0m \u001b[0mmajor_labels\u001b[0m\u001b[0;34m)\u001b[0m\u001b[0;34m:\u001b[0m\u001b[0;34m\u001b[0m\u001b[0;34m\u001b[0m\u001b[0m\n\u001b[1;32m   1026\u001b[0m             \u001b[0mtick\u001b[0m\u001b[0;34m.\u001b[0m\u001b[0mupdate_position\u001b[0m\u001b[0;34m(\u001b[0m\u001b[0mloc\u001b[0m\u001b[0;34m)\u001b[0m\u001b[0;34m\u001b[0m\u001b[0;34m\u001b[0m\u001b[0m\n",
      "\u001b[0;32m~/opt/anaconda3/lib/python3.8/site-packages/matplotlib/ticker.py\u001b[0m in \u001b[0;36mset_locs\u001b[0;34m(self, locs)\u001b[0m\n\u001b[1;32m    792\u001b[0m             \u001b[0;32mif\u001b[0m \u001b[0mself\u001b[0m\u001b[0;34m.\u001b[0m\u001b[0m_useOffset\u001b[0m\u001b[0;34m:\u001b[0m\u001b[0;34m\u001b[0m\u001b[0;34m\u001b[0m\u001b[0m\n\u001b[1;32m    793\u001b[0m                 \u001b[0mself\u001b[0m\u001b[0;34m.\u001b[0m\u001b[0m_compute_offset\u001b[0m\u001b[0;34m(\u001b[0m\u001b[0;34m)\u001b[0m\u001b[0;34m\u001b[0m\u001b[0;34m\u001b[0m\u001b[0m\n\u001b[0;32m--> 794\u001b[0;31m             \u001b[0mself\u001b[0m\u001b[0;34m.\u001b[0m\u001b[0m_set_order_of_magnitude\u001b[0m\u001b[0;34m(\u001b[0m\u001b[0;34m)\u001b[0m\u001b[0;34m\u001b[0m\u001b[0;34m\u001b[0m\u001b[0m\n\u001b[0m\u001b[1;32m    795\u001b[0m             \u001b[0mself\u001b[0m\u001b[0;34m.\u001b[0m\u001b[0m_set_format\u001b[0m\u001b[0;34m(\u001b[0m\u001b[0;34m)\u001b[0m\u001b[0;34m\u001b[0m\u001b[0;34m\u001b[0m\u001b[0m\n\u001b[1;32m    796\u001b[0m \u001b[0;34m\u001b[0m\u001b[0m\n",
      "\u001b[0;32m~/opt/anaconda3/lib/python3.8/site-packages/matplotlib/ticker.py\u001b[0m in \u001b[0;36m_set_order_of_magnitude\u001b[0;34m(self)\u001b[0m\n\u001b[1;32m    846\u001b[0m             \u001b[0;32mreturn\u001b[0m\u001b[0;34m\u001b[0m\u001b[0;34m\u001b[0m\u001b[0m\n\u001b[1;32m    847\u001b[0m         \u001b[0;31m# restrict to visible ticks\u001b[0m\u001b[0;34m\u001b[0m\u001b[0;34m\u001b[0m\u001b[0;34m\u001b[0m\u001b[0m\n\u001b[0;32m--> 848\u001b[0;31m         \u001b[0mvmin\u001b[0m\u001b[0;34m,\u001b[0m \u001b[0mvmax\u001b[0m \u001b[0;34m=\u001b[0m \u001b[0msorted\u001b[0m\u001b[0;34m(\u001b[0m\u001b[0mself\u001b[0m\u001b[0;34m.\u001b[0m\u001b[0maxis\u001b[0m\u001b[0;34m.\u001b[0m\u001b[0mget_view_interval\u001b[0m\u001b[0;34m(\u001b[0m\u001b[0;34m)\u001b[0m\u001b[0;34m)\u001b[0m\u001b[0;34m\u001b[0m\u001b[0;34m\u001b[0m\u001b[0m\n\u001b[0m\u001b[1;32m    849\u001b[0m         \u001b[0mlocs\u001b[0m \u001b[0;34m=\u001b[0m \u001b[0mnp\u001b[0m\u001b[0;34m.\u001b[0m\u001b[0masarray\u001b[0m\u001b[0;34m(\u001b[0m\u001b[0mself\u001b[0m\u001b[0;34m.\u001b[0m\u001b[0mlocs\u001b[0m\u001b[0;34m)\u001b[0m\u001b[0;34m\u001b[0m\u001b[0;34m\u001b[0m\u001b[0m\n\u001b[1;32m    850\u001b[0m         \u001b[0mlocs\u001b[0m \u001b[0;34m=\u001b[0m \u001b[0mlocs\u001b[0m\u001b[0;34m[\u001b[0m\u001b[0;34m(\u001b[0m\u001b[0mvmin\u001b[0m \u001b[0;34m<=\u001b[0m \u001b[0mlocs\u001b[0m\u001b[0;34m)\u001b[0m \u001b[0;34m&\u001b[0m \u001b[0;34m(\u001b[0m\u001b[0mlocs\u001b[0m \u001b[0;34m<=\u001b[0m \u001b[0mvmax\u001b[0m\u001b[0;34m)\u001b[0m\u001b[0;34m]\u001b[0m\u001b[0;34m\u001b[0m\u001b[0;34m\u001b[0m\u001b[0m\n",
      "\u001b[0;32m~/opt/anaconda3/lib/python3.8/site-packages/matplotlib/axis.py\u001b[0m in \u001b[0;36mgetter\u001b[0;34m(self)\u001b[0m\n\u001b[1;32m   1944\u001b[0m     \u001b[0;32mdef\u001b[0m \u001b[0mgetter\u001b[0m\u001b[0;34m(\u001b[0m\u001b[0mself\u001b[0m\u001b[0;34m)\u001b[0m\u001b[0;34m:\u001b[0m\u001b[0;34m\u001b[0m\u001b[0;34m\u001b[0m\u001b[0m\n\u001b[1;32m   1945\u001b[0m         \u001b[0;31m# docstring inherited.\u001b[0m\u001b[0;34m\u001b[0m\u001b[0;34m\u001b[0m\u001b[0;34m\u001b[0m\u001b[0m\n\u001b[0;32m-> 1946\u001b[0;31m         \u001b[0;32mreturn\u001b[0m \u001b[0mgetattr\u001b[0m\u001b[0;34m(\u001b[0m\u001b[0mgetattr\u001b[0m\u001b[0;34m(\u001b[0m\u001b[0mself\u001b[0m\u001b[0;34m.\u001b[0m\u001b[0maxes\u001b[0m\u001b[0;34m,\u001b[0m \u001b[0mlim_name\u001b[0m\u001b[0;34m)\u001b[0m\u001b[0;34m,\u001b[0m \u001b[0mattr_name\u001b[0m\u001b[0;34m)\u001b[0m\u001b[0;34m\u001b[0m\u001b[0;34m\u001b[0m\u001b[0m\n\u001b[0m\u001b[1;32m   1947\u001b[0m \u001b[0;34m\u001b[0m\u001b[0m\n\u001b[1;32m   1948\u001b[0m     \u001b[0;32mdef\u001b[0m \u001b[0msetter\u001b[0m\u001b[0;34m(\u001b[0m\u001b[0mself\u001b[0m\u001b[0;34m,\u001b[0m \u001b[0mvmin\u001b[0m\u001b[0;34m,\u001b[0m \u001b[0mvmax\u001b[0m\u001b[0;34m,\u001b[0m \u001b[0mignore\u001b[0m\u001b[0;34m=\u001b[0m\u001b[0;32mFalse\u001b[0m\u001b[0;34m)\u001b[0m\u001b[0;34m:\u001b[0m\u001b[0;34m\u001b[0m\u001b[0;34m\u001b[0m\u001b[0m\n",
      "\u001b[0;31mKeyboardInterrupt\u001b[0m: "
     ]
    }
   ],
   "source": [
    "import seaborn as sns\n",
    "sns.set_theme(style=\"ticks\")\n",
    "\n",
    "\n",
    "sns.pairplot(df, hue=\"location\")\n"
   ]
  },
  {
   "cell_type": "code",
   "execution_count": 34,
   "id": "0cc9f088",
   "metadata": {},
   "outputs": [
    {
     "ename": "AttributeError",
     "evalue": "module 'seaborn' has no attribute 'density_graph'",
     "output_type": "error",
     "traceback": [
      "\u001b[0;31m---------------------------------------------------------------------------\u001b[0m",
      "\u001b[0;31mAttributeError\u001b[0m                            Traceback (most recent call last)",
      "\u001b[0;32m<ipython-input-34-6680bfaf7705>\u001b[0m in \u001b[0;36m<module>\u001b[0;34m\u001b[0m\n\u001b[0;32m----> 1\u001b[0;31m g = sns.density_graph(\n\u001b[0m\u001b[1;32m      2\u001b[0m     \u001b[0mdata\u001b[0m\u001b[0;34m=\u001b[0m\u001b[0mdf\u001b[0m\u001b[0;34m,\u001b[0m\u001b[0;34m\u001b[0m\u001b[0;34m\u001b[0m\u001b[0m\n\u001b[1;32m      3\u001b[0m     \u001b[0mx\u001b[0m\u001b[0;34m=\u001b[0m\u001b[0;34m\"num_seat\"\u001b[0m\u001b[0;34m,\u001b[0m \u001b[0my\u001b[0m\u001b[0;34m=\u001b[0m\u001b[0;34m\"overall\"\u001b[0m\u001b[0;34m,\u001b[0m \u001b[0mhue\u001b[0m\u001b[0;34m=\u001b[0m\u001b[0;34m\"price_int\"\u001b[0m\u001b[0;34m,\u001b[0m\u001b[0;34m\u001b[0m\u001b[0;34m\u001b[0m\u001b[0m\n\u001b[1;32m      4\u001b[0m     \u001b[0mkind\u001b[0m\u001b[0;34m=\u001b[0m\u001b[0;34m\"kde\"\u001b[0m\u001b[0;34m,\u001b[0m\u001b[0;34m\u001b[0m\u001b[0;34m\u001b[0m\u001b[0m\n\u001b[1;32m      5\u001b[0m )\n",
      "\u001b[0;31mAttributeError\u001b[0m: module 'seaborn' has no attribute 'density_graph'"
     ]
    }
   ],
   "source": [
    "g = sns.jointplot(\n",
    "    data=df,\n",
    "    x=\"num_seat\", y=\"overall\", hue=\"price_int\",\n",
    "    kind=\"kde\",\n",
    ")"
   ]
  },
  {
   "cell_type": "code",
   "execution_count": null,
   "id": "ee1ea3f2",
   "metadata": {},
   "outputs": [],
   "source": [
    "for i in Places:\n",
    "    print(i)\n",
    "    print(df[df['location']==i].count())"
   ]
  },
  {
   "cell_type": "code",
   "execution_count": null,
   "id": "8368fd90",
   "metadata": {},
   "outputs": [],
   "source": [
    "sns.boxplot(x=\"price_int\", y=\"overall\",\n",
    "            hue=\"Visa\", palette=[\"m\", \"g\"],\n",
    "            data=df)"
   ]
  },
  {
   "cell_type": "code",
   "execution_count": null,
   "id": "c308ef12",
   "metadata": {},
   "outputs": [],
   "source": [
    "sns.boxplot(x=\"location\", y=\"overall\",\n",
    "            hue=\"Alipay\", palette=[\"m\", \"g\"],\n",
    "            data=df)"
   ]
  },
  {
   "cell_type": "code",
   "execution_count": null,
   "id": "5b67b347",
   "metadata": {},
   "outputs": [],
   "source": [
    "#for i in ['taste', 'decor', 'service',  'hygiene', 'value','overall']: #num_facility\n",
    "\n",
    "sns.boxplot(x=\"location\", y=\"overall\",\n",
    "            hue=\"Master\", palette=[\"m\", \"g\"],\n",
    "            data=df)"
   ]
  },
  {
   "cell_type": "code",
   "execution_count": 45,
   "id": "772333fb",
   "metadata": {},
   "outputs": [
    {
     "name": "stderr",
     "output_type": "stream",
     "text": [
      "/Users/Jacky/opt/anaconda3/lib/python3.8/site-packages/seaborn/_decorators.py:36: FutureWarning: Pass the following variables as keyword args: x, y. From version 0.12, the only valid positional argument will be `data`, and passing other arguments without an explicit keyword will result in an error or misinterpretation.\n",
      "  warnings.warn(\n"
     ]
    },
    {
     "data": {
      "image/png": "[encoded data removed]",
      "text/plain": [
       "<Figure size 432x432 with 3 Axes>"
      ]
     },
     "metadata": {},
     "output_type": "display_data"
    }
   ],
   "source": [
    "density_graph(\"num_seat\",\"overall\",df)"
   ]
  },
  {
   "cell_type": "code",
   "execution_count": null,
   "id": "817d9b63",
   "metadata": {},
   "outputs": [],
   "source": [
    "for i in Places:\n",
    "    print(i)\n",
    "    density_graph(\"happy\",\"overall\",df[df['location']==i])\n",
    "#df[df['location']==\"Central\"].sort_values(by='happy', ascending = False)"
   ]
  },
  {
   "cell_type": "code",
   "execution_count": null,
   "id": "1cd3bb0f",
   "metadata": {},
   "outputs": [],
   "source": [
    "for i in df.iloc[:,11:16].columns:\n",
    "    density_graph(i,\"overall\",df)"
   ]
  },
  {
   "cell_type": "code",
   "execution_count": null,
   "id": "53f1fb5f",
   "metadata": {},
   "outputs": [],
   "source": [
    "df"
   ]
  },
  {
   "cell_type": "code",
   "execution_count": null,
   "id": "bd1a01f2",
   "metadata": {
    "scrolled": false
   },
   "outputs": [],
   "source": [
    "for i in ['taste', 'decor', 'service',  'hygiene', 'value']:\n",
    "    print(i)\n",
    "    m, b = np.polyfit(df['happy'], df[i], 1)\n",
    "    print(\"slope: \",m)\n",
    "    scatter_bar(\"happy\",i,df)"
   ]
  },
  {
   "cell_type": "code",
   "execution_count": null,
   "id": "d7fbdd7f",
   "metadata": {},
   "outputs": [],
   "source": [
    "scatter_bar(\"AlipayHK\",'value',df)"
   ]
  },
  {
   "cell_type": "code",
   "execution_count": null,
   "id": "f55cba5c",
   "metadata": {
    "scrolled": false
   },
   "outputs": [],
   "source": [
    "for i in ['taste', 'decor', 'service',  'hygiene', 'value','overall']: #num_facility\n",
    "    print(i)\n",
    "\n",
    "    scatter_bar(\"num_facility\",i,df)\n"
   ]
  },
  {
   "cell_type": "code",
   "execution_count": null,
   "id": "cf5f04c0",
   "metadata": {
    "scrolled": false
   },
   "outputs": [],
   "source": [
    "for i in ['taste', 'decor', 'service',  'hygiene','overall']:\n",
    "    print(i)\n",
    "    m, b = np.polyfit(df['overall'], df[i], 1)\n",
    "    print(\"slope: \",m)\n",
    "    scatter_bar(\"value\",i,df)"
   ]
  },
  {
   "cell_type": "code",
   "execution_count": 53,
   "id": "27873e74",
   "metadata": {
    "scrolled": false
   },
   "outputs": [
    {
     "name": "stdout",
     "output_type": "stream",
     "text": [
      "overall\n"
     ]
    },
    {
     "name": "stderr",
     "output_type": "stream",
     "text": [
      "/Users/Jacky/opt/anaconda3/lib/python3.8/site-packages/seaborn/_decorators.py:36: FutureWarning: Pass the following variables as keyword args: x, y. From version 0.12, the only valid positional argument will be `data`, and passing other arguments without an explicit keyword will result in an error or misinterpretation.\n",
      "  warnings.warn(\n"
     ]
    },
    {
     "data": {
      "image/png": "[encoded data removed]",
      "text/plain": [
       "<Figure size 432x432 with 3 Axes>"
      ]
     },
     "metadata": {},
     "output_type": "display_data"
    },
    {
     "name": "stdout",
     "output_type": "stream",
     "text": [
      "taste\n"
     ]
    },
    {
     "name": "stderr",
     "output_type": "stream",
     "text": [
      "/Users/Jacky/opt/anaconda3/lib/python3.8/site-packages/seaborn/_decorators.py:36: FutureWarning: Pass the following variables as keyword args: x, y. From version 0.12, the only valid positional argument will be `data`, and passing other arguments without an explicit keyword will result in an error or misinterpretation.\n",
      "  warnings.warn(\n"
     ]
    },
    {
     "data": {
      "image/png": "[encoded data removed]",
      "text/plain": [
       "<Figure size 432x432 with 3 Axes>"
      ]
     },
     "metadata": {},
     "output_type": "display_data"
    },
    {
     "name": "stdout",
     "output_type": "stream",
     "text": [
      "decor\n"
     ]
    },
    {
     "name": "stderr",
     "output_type": "stream",
     "text": [
      "/Users/Jacky/opt/anaconda3/lib/python3.8/site-packages/seaborn/_decorators.py:36: FutureWarning: Pass the following variables as keyword args: x, y. From version 0.12, the only valid positional argument will be `data`, and passing other arguments without an explicit keyword will result in an error or misinterpretation.\n",
      "  warnings.warn(\n"
     ]
    },
    {
     "data": {
      "image/png": "[encoded data removed]",
      "text/plain": [
       "<Figure size 432x432 with 3 Axes>"
      ]
     },
     "metadata": {},
     "output_type": "display_data"
    },
    {
     "name": "stdout",
     "output_type": "stream",
     "text": [
      "service\n"
     ]
    },
    {
     "name": "stderr",
     "output_type": "stream",
     "text": [
      "/Users/Jacky/opt/anaconda3/lib/python3.8/site-packages/seaborn/_decorators.py:36: FutureWarning: Pass the following variables as keyword args: x, y. From version 0.12, the only valid positional argument will be `data`, and passing other arguments without an explicit keyword will result in an error or misinterpretation.\n",
      "  warnings.warn(\n"
     ]
    },
    {
     "data": {
      "image/png": "[encoded data removed]",
      "text/plain": [
       "<Figure size 432x432 with 3 Axes>"
      ]
     },
     "metadata": {},
     "output_type": "display_data"
    },
    {
     "name": "stdout",
     "output_type": "stream",
     "text": [
      "hygiene\n"
     ]
    },
    {
     "name": "stderr",
     "output_type": "stream",
     "text": [
      "/Users/Jacky/opt/anaconda3/lib/python3.8/site-packages/seaborn/_decorators.py:36: FutureWarning: Pass the following variables as keyword args: x, y. From version 0.12, the only valid positional argument will be `data`, and passing other arguments without an explicit keyword will result in an error or misinterpretation.\n",
      "  warnings.warn(\n"
     ]
    },
    {
     "data": {
      "image/png": "[encoded data removed]",
      "text/plain": [
       "<Figure size 432x432 with 3 Axes>"
      ]
     },
     "metadata": {},
     "output_type": "display_data"
    },
    {
     "name": "stdout",
     "output_type": "stream",
     "text": [
      "value\n"
     ]
    },
    {
     "name": "stderr",
     "output_type": "stream",
     "text": [
      "/Users/Jacky/opt/anaconda3/lib/python3.8/site-packages/seaborn/_decorators.py:36: FutureWarning: Pass the following variables as keyword args: x, y. From version 0.12, the only valid positional argument will be `data`, and passing other arguments without an explicit keyword will result in an error or misinterpretation.\n",
      "  warnings.warn(\n"
     ]
    },
    {
     "data": {
      "image/png": "[encoded data removed]",
      "text/plain": [
       "<Figure size 432x432 with 3 Axes>"
      ]
     },
     "metadata": {},
     "output_type": "display_data"
    }
   ],
   "source": [
    "for i in ['overall','taste', 'decor', 'service',  'hygiene', 'value']:\n",
    "    print(i)\n",
    "\n",
    "\n",
    "    scatter_bar(\"num_seat\",i,df[df['location']==\"HK\"]\n",
    "               )"
   ]
  },
  {
   "cell_type": "code",
   "execution_count": null,
   "id": "060d2107",
   "metadata": {
    "scrolled": false
   },
   "outputs": [],
   "source": [
    "for i in Places:\n",
    "    print(i)\n",
    "    scatter_bar(\"price_int\",\"value\",df[df['location']==i])"
   ]
  },
  {
   "cell_type": "code",
   "execution_count": null,
   "id": "5b7fdfa6",
   "metadata": {},
   "outputs": [],
   "source": []
  },
  {
   "cell_type": "code",
   "execution_count": 46,
   "id": "ddb2c135",
   "metadata": {},
   "outputs": [
    {
     "data": {
      "text/plain": [
       "<seaborn.axisgrid.JointGrid at 0x7f91059ce160>"
      ]
     },
     "execution_count": 46,
     "metadata": {},
     "output_type": "execute_result"
    },
    {
     "data": {
      "image/png": "[encoded data removed]",
      "text/plain": [
       "<Figure size 432x432 with 3 Axes>"
      ]
     },
     "metadata": {},
     "output_type": "display_data"
    }
   ],
   "source": [
    "sns.jointplot(\n",
    "    data=df[df['location']==\"Central\"],\n",
    "    x=\"overall\", y=\"happy\", hue=\"location_int\",\n",
    "    kind=\"kde\"\n",
    ")"
   ]
  },
  {
   "cell_type": "code",
   "execution_count": null,
   "id": "b52f2519",
   "metadata": {},
   "outputs": [],
   "source": [
    "df.iloc[:,11:17]"
   ]
  },
  {
   "cell_type": "code",
   "execution_count": null,
   "id": "71062920",
   "metadata": {},
   "outputs": [],
   "source": [
    "df"
   ]
  },
  {
   "cell_type": "code",
   "execution_count": null,
   "id": "1dee5d7b",
   "metadata": {},
   "outputs": [],
   "source": [
    "sns.catplot(x=\"location_int\", y=\"overall\", hue=\"price_int\", kind=\"box\", data=df)"
   ]
  },
  {
   "cell_type": "code",
   "execution_count": null,
   "id": "2515de00",
   "metadata": {},
   "outputs": [],
   "source": [
    "for i in Places:\n",
    "    print(i)\n",
    "    pair_plot(df[df['location']==i],\"price\")\n"
   ]
  },
  {
   "cell_type": "code",
   "execution_count": null,
   "id": "2312d0a1",
   "metadata": {},
   "outputs": [],
   "source": [
    "#df['food_type'].unique()"
   ]
  },
  {
   "cell_type": "code",
   "execution_count": null,
   "id": "1e6bbe33",
   "metadata": {},
   "outputs": [],
   "source": [
    "#top 200 restaurants ranked by happy\n",
    "top_200 = df.sort_values('happy',ascending=False).iloc[0:200]\n",
    "print(\"For top 200 restaurants: \\n ------------------\")\n",
    "find_average(top_200)"
   ]
  },
  {
   "cell_type": "code",
   "execution_count": null,
   "id": "aa159642",
   "metadata": {},
   "outputs": [],
   "source": [
    "for i in Places:\n",
    "    print(\"For {} \\n------------------\".format(i))\n",
    "    find_average(df[df['location']==i])"
   ]
  },
  {
   "cell_type": "code",
   "execution_count": null,
   "id": "d46b7d49",
   "metadata": {},
   "outputs": [],
   "source": [
    "#Top 100 restaurant based on happy/sad ratio, group by prices\n",
    "for i in Places:\n",
    "    bar_chart(df[df['location']==i].sort_values(\"happy_vs_sad\",ascending=False).iloc[0:100]['price'], \"Price\",\"{}: Graph of distirbution top 100 restaurants' prices based on ratio of happiness VS sadness\".format(i), \"Number of restaurants\")"
   ]
  },
  {
   "cell_type": "code",
   "execution_count": null,
   "id": "78281617",
   "metadata": {},
   "outputs": [],
   "source": [
    "#Group restaurants based on region and prices\n",
    "\n",
    "for i in Places:\n",
    "    bar_chart(df[df['location']==i]['price'], \"Price\",\"{}: Graph of distirbution of prices of restaurants\".format(i), \"Number of restaurants\")"
   ]
  },
  {
   "cell_type": "code",
   "execution_count": null,
   "id": "b03c855e",
   "metadata": {},
   "outputs": [],
   "source": [
    "#find average price in HK\n",
    "for i in Places:\n",
    "    print(\"Average price of a meal in {}:\".format(i),df[df['location']==i]['price_int'].mean())"
   ]
  },
  {
   "cell_type": "code",
   "execution_count": null,
   "id": "62014817",
   "metadata": {},
   "outputs": [],
   "source": [
    "#find average price of meal in area\n",
    "for i in Places:\n",
    "    lowest = 10000000\n",
    "    highest = 0\n",
    "    restaurant_low = \"error\"\n",
    "    restaurant_high = \"error\"\n",
    "    for k in restaurant_type:\n",
    "        mean_price = df.loc[(df['food_type']==k) & (df['location']==i)]['price_int'].mean()\n",
    "        if mean_price < lowest:\n",
    "            restaurant_low = k\n",
    "            lowest = mean_price\n",
    "        if mean_price > highest:\n",
    "            restaurant_high = k\n",
    "            highest = mean_price\n",
    "        print(\"Average price of a {} meal in {}:\".format(k,i),mean_price)\n",
    "    print(\"-------------------------\")\n",
    "    print(\"Cheapest food is: {} meal, costing {}\".format(restaurant_low, lowest))\n",
    "    print(\"Most expensive food is: {} meal, costing {}\".format(restaurant_high, highest))\n",
    "    print(\"-------------------------\")\n",
    "    print(\"\")"
   ]
  },
  {
   "cell_type": "code",
   "execution_count": null,
   "id": "9ad9fe14",
   "metadata": {},
   "outputs": [],
   "source": [
    "#Find relationship of bookmarks VS happy\n",
    "for i in Places:\n",
    "    scatter_graph(df.loc[(df['location']==i)]['bookmark'],df.loc[(df['location']==i)]['happy'],\"Relationship between bookmark and happy in {}\".format(i))"
   ]
  },
  {
   "cell_type": "code",
   "execution_count": null,
   "id": "11a478bd",
   "metadata": {},
   "outputs": [],
   "source": [
    "visual = pd.plotting.scatter_matrix(df[['bookmark','happy','sad','price_int','happy_vs_sad']],c=df['food_int'],marker = 'o', s=5, hist_kwds={'bins':15}, figsize=(10,10))\n"
   ]
  },
  {
   "cell_type": "code",
   "execution_count": null,
   "id": "41076708",
   "metadata": {},
   "outputs": [],
   "source": [
    "#maps color to legend\n",
    "base_tags = pd.DataFrame({0,1,2,3,4,5,6,7,8,9})\n",
    "#model.inverse_transform(base_tags)\n",
    "\n",
    "plt.imshow([np.unique(df['food_int'])])\n",
    "plt.xticks(ticks=np.unique(df['food_int']),labels=food_model.inverse_transform(base_tags))\n",
    "#_ = plt.xticks(ticks=np.unique(df['food']),labels=model.inverse_transform(base_tags))"
   ]
  },
  {
   "cell_type": "code",
   "execution_count": null,
   "id": "2b4a56cc",
   "metadata": {},
   "outputs": [],
   "source": []
  }
 ],
 "metadata": {
  "kernelspec": {
   "display_name": "Python 3",
   "language": "python",
   "name": "python3"
  },
  "language_info": {
   "codemirror_mode": {
    "name": "ipython",
    "version": 3
   },
   "file_extension": ".py",
   "mimetype": "text/x-python",
   "name": "python",
   "nbconvert_exporter": "python",
   "pygments_lexer": "ipython3",
   "version": "3.8.8"
  }
 },
 "nbformat": 4,
 "nbformat_minor": 5
}
